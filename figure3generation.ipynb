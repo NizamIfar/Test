{
 "cells": [
  {
   "cell_type": "code",
   "execution_count": 1,
   "id": "961db5f5",
   "metadata": {},
   "outputs": [
    {
     "name": "stdout",
     "output_type": "stream",
     "text": [
      "PyTorch version: 2.5.1\n",
      "Lightning version: 2.5.0.post0\n"
     ]
    }
   ],
   "source": [
    "# Cell [1]: Basic imports and environment\n",
    "import os\n",
    "import pandas as pd\n",
    "import numpy as np\n",
    "import matplotlib.pyplot as plt\n",
    "\n",
    "import torch\n",
    "import torch.nn as nn\n",
    "import torch.nn.functional as F\n",
    "import lightning.pytorch as pl\n",
    "from torch.utils.data import DataLoader, Dataset\n",
    "\n",
    "print(\"PyTorch version:\", torch.__version__)\n",
    "print(\"Lightning version:\", pl.__version__)\n"
   ]
  },
  {
   "cell_type": "code",
   "execution_count": 2,
   "id": "ddb1f367",
   "metadata": {},
   "outputs": [],
   "source": [
    "# Cell [2]: THP.py code\n",
    "\n",
    "PAD = 0  # used in various masking\n",
    "\n",
    "def softplus(x, beta):\n",
    "    temp = beta * x\n",
    "    temp[temp > 20] = 20\n",
    "    return 1.0 / beta * torch.log(1 + torch.exp(temp))\n",
    "\n",
    "def compute_event(event, non_pad_mask):\n",
    "    # event: predicted intensity for the true event\n",
    "    event += 1e-9\n",
    "    event.masked_fill_(~non_pad_mask.bool(), 1.0)\n",
    "    return torch.log(event)\n",
    "\n",
    "def compute_integral_unbiased(all_hid, time, non_pad_mask, type_mask, alpha, beta):\n",
    "    # Monte Carlo integration\n",
    "    num_samples = 100\n",
    "    diff_time = (time[:, 1:] - time[:, :-1]) * non_pad_mask[:, 1:]\n",
    "    # random fraction in [0,1]\n",
    "    temp_time = diff_time.unsqueeze(2) * torch.rand([*diff_time.size(), num_samples], device=all_hid.device)\n",
    "    # avoid zero division\n",
    "    temp_time = temp_time / (time[:, :-1] + 1).unsqueeze(2)\n",
    "\n",
    "    temp_hid = all_hid[:, 1:, :]\n",
    "    # isolate hidden states for the actual event type\n",
    "    temp_hid = torch.sum(temp_hid * type_mask[:, 1:, :], dim=2, keepdim=True)\n",
    "    all_lambda = softplus(temp_hid + alpha*temp_time, beta)\n",
    "    all_lambda = torch.sum(all_lambda, dim=2) / num_samples\n",
    "    return all_lambda * diff_time\n",
    "\n",
    "def log_likelihood(all_hid, time, types, num_types, beta, alpha):\n",
    "    # all_hid: [batch, seq_len, d_model], \n",
    "    # time: [batch, seq_len], \n",
    "    # types: [batch, seq_len], each in {1..num_types} or 0 if pad\n",
    "    # returns: event_ll, non_event_ll\n",
    "    non_pad_mask = get_non_pad_mask(types).squeeze(2)\n",
    "\n",
    "    # build one-hot mask\n",
    "    type_mask = torch.zeros([*types.size(), num_types], device=all_hid.device)\n",
    "    for i in range(num_types):\n",
    "        type_mask[:, :, i] = (types == i + 1).bool().to(all_hid.device)\n",
    "\n",
    "    # intensities\n",
    "    all_lambda = softplus(all_hid, beta)\n",
    "    type_lambda = torch.sum(all_lambda * type_mask, dim=2)\n",
    "\n",
    "    # event log-likelihood\n",
    "    event_ll = compute_event(type_lambda, non_pad_mask)\n",
    "    event_ll = torch.sum(event_ll, dim=-1)\n",
    "\n",
    "    # non-event via Monte Carlo\n",
    "    non_event_ll = compute_integral_unbiased(all_hid, time, non_pad_mask, type_mask, alpha, beta)\n",
    "    non_event_ll = torch.sum(non_event_ll, dim=-1)\n",
    "\n",
    "    return event_ll, non_event_ll\n",
    "\n",
    "def type_loss(prediction, types, loss_func, non_pad_mask):\n",
    "    # prediction: [B, seq_len, num_types], \n",
    "    # types: [B, seq_len], each in {1..num_types} plus pad=0\n",
    "    # We'll predict the event at t+1 from representation at t, so shift\n",
    "    truth = types[:, 1:] - 1\n",
    "    pred = prediction[:, :-1, :]\n",
    "    # cross-entropy\n",
    "    loss = loss_func(pred.transpose(1,2), truth)\n",
    "    loss = torch.sum(loss * non_pad_mask[:, :-1].squeeze(-1), dim=-1).mean()\n",
    "\n",
    "    # optional: count accuracy\n",
    "    pred_type = torch.argmax(pred, dim=-1)\n",
    "    correct_num = torch.sum(pred_type == truth) / non_pad_mask[:, :-1].sum()\n",
    "    return loss, correct_num\n",
    "\n",
    "def time_loss(prediction, event_time, non_pad_mask):\n",
    "    # prediction: [B, seq_len, 1], \n",
    "    # event_time: [B, seq_len], \n",
    "    # the code uses cumsum for predicted times\n",
    "    pred_cum = torch.cumsum(prediction.squeeze(-1), dim=1)\n",
    "    diff = pred_cum - event_time\n",
    "    se = torch.sum((diff * diff) * non_pad_mask.squeeze(-1), dim=-1).mean()\n",
    "    return se\n",
    "\n",
    "class ScaledDotProductAttention(nn.Module):\n",
    "    def __init__(self, temperature, attn_dropout=0.2):\n",
    "        super().__init__()\n",
    "        self.temperature = temperature\n",
    "        self.dropout = nn.Dropout(attn_dropout)\n",
    "\n",
    "    def forward(self, q, k, v, mask=None):\n",
    "        attn = torch.matmul(q / self.temperature, k.transpose(2, 3))\n",
    "        if mask is not None:\n",
    "            attn = attn.masked_fill(mask, -1e9)\n",
    "        attn = self.dropout(torch.softmax(attn, dim=-1))\n",
    "        output = torch.matmul(attn, v)\n",
    "        return output, attn\n",
    "\n",
    "class MultiHeadAttention(nn.Module):\n",
    "    def __init__(self, n_head, d_model, d_k, d_v, dropout=0.1, normalize_before=True):\n",
    "        super().__init__()\n",
    "        self.normalize_before = normalize_before\n",
    "        self.n_head = n_head\n",
    "        self.d_k = d_k\n",
    "        self.d_v = d_v\n",
    "        self.w_qs = nn.Linear(d_model, n_head*d_k, bias=False)\n",
    "        self.w_ks = nn.Linear(d_model, n_head*d_k, bias=False)\n",
    "        self.w_vs = nn.Linear(d_model, n_head*d_v, bias=False)\n",
    "        nn.init.xavier_uniform_(self.w_qs.weight)\n",
    "        nn.init.xavier_uniform_(self.w_ks.weight)\n",
    "        nn.init.xavier_uniform_(self.w_vs.weight)\n",
    "        self.fc = nn.Linear(n_head*d_v, d_model)\n",
    "        nn.init.xavier_uniform_(self.fc.weight)\n",
    "        self.attention = ScaledDotProductAttention(temperature=d_k**0.5, attn_dropout=dropout)\n",
    "        self.layer_norm = nn.LayerNorm(d_model, eps=1e-6)\n",
    "        self.dropout = nn.Dropout(dropout)\n",
    "\n",
    "    def forward(self, q, k, v, mask=None):\n",
    "        d_k, d_v, n_head = self.d_k, self.d_v, self.n_head\n",
    "        residual = q\n",
    "        if self.normalize_before:\n",
    "            q = self.layer_norm(q)\n",
    "        B, len_q, _ = q.shape\n",
    "        # project\n",
    "        q = self.w_qs(q).view(B, len_q, n_head, d_k).transpose(1,2)\n",
    "        k = self.w_ks(k).view(B, -1, n_head, d_k).transpose(1,2)\n",
    "        v = self.w_vs(v).view(B, -1, n_head, d_v).transpose(1,2)\n",
    "        if mask is not None:\n",
    "            mask = mask.unsqueeze(1)\n",
    "        out, attn = self.attention(q, k, v, mask=mask)\n",
    "        out = out.transpose(1,2).contiguous().view(B, len_q, -1)\n",
    "        out = self.dropout(self.fc(out))\n",
    "        out += residual\n",
    "        if not self.normalize_before:\n",
    "            out = self.layer_norm(out)\n",
    "        return out, attn\n",
    "\n",
    "class PositionwiseFeedForward(nn.Module):\n",
    "    def __init__(self, d_in, d_hid, dropout=0.1, normalize_before=True):\n",
    "        super().__init__()\n",
    "        self.normalize_before = normalize_before\n",
    "        self.w_1 = nn.Linear(d_in, d_hid)\n",
    "        self.w_2 = nn.Linear(d_hid, d_in)\n",
    "        self.layer_norm = nn.LayerNorm(d_in, eps=1e-6)\n",
    "        self.dropout = nn.Dropout(dropout)\n",
    "\n",
    "    def forward(self, x):\n",
    "        residual = x\n",
    "        if self.normalize_before:\n",
    "            x = self.layer_norm(x)\n",
    "        x = F.gelu(self.w_1(x))\n",
    "        x = self.dropout(x)\n",
    "        x = self.w_2(x)\n",
    "        x = self.dropout(x)\n",
    "        x = x + residual\n",
    "        if not self.normalize_before:\n",
    "            x = self.layer_norm(x)\n",
    "        return x\n",
    "\n",
    "class EncoderLayer(nn.Module):\n",
    "    def __init__(self, d_model, d_inner, n_head, d_k, d_v, dropout=0.1, normalize_before=True):\n",
    "        super().__init__()\n",
    "        self.slf_attn = MultiHeadAttention(n_head, d_model, d_k, d_v, dropout, normalize_before)\n",
    "        self.pos_ffn = PositionwiseFeedForward(d_model, d_inner, dropout, normalize_before)\n",
    "\n",
    "    def forward(self, enc_input, non_pad_mask=None, slf_attn_mask=None):\n",
    "        enc_output, _ = self.slf_attn(enc_input, enc_input, enc_input, slf_attn_mask)\n",
    "        enc_output *= non_pad_mask\n",
    "        enc_output = self.pos_ffn(enc_output)\n",
    "        enc_output *= non_pad_mask\n",
    "        return enc_output, _\n",
    "\n",
    "def get_non_pad_mask(seq):\n",
    "    # seq: [B, seq_len]\n",
    "    return (seq != PAD).float().unsqueeze(-1)\n",
    "\n",
    "def get_attn_key_pad_mask(seq_k, seq_q):\n",
    "    # for self-attn\n",
    "    len_q = seq_q.size(1)\n",
    "    return (seq_k == PAD).unsqueeze(1).expand(-1, len_q, -1)\n",
    "\n",
    "def get_subsequent_mask(seq):\n",
    "    B, L = seq.shape\n",
    "    subsequent_mask = torch.triu(torch.ones((L,L), device=seq.device, dtype=torch.uint8), diagonal=1)\n",
    "    subsequent_mask = subsequent_mask.unsqueeze(0).expand(B, -1, -1)\n",
    "    return subsequent_mask\n"
   ]
  },
  {
   "cell_type": "code",
   "execution_count": 3,
   "id": "7f81cbc1",
   "metadata": {},
   "outputs": [],
   "source": [
    "# Cell [3]: \"synthdata\" style code\n",
    "\n",
    "import torch\n",
    "import torch.nn as nn\n",
    "import torch.nn.functional as F\n",
    "import pandas as pd\n",
    "import numpy as np\n",
    "import lightning.pytorch as pl\n",
    "from torch.utils.data import DataLoader, Dataset\n",
    "\n",
    "PAD = 0\n",
    "\n",
    "###################\n",
    "# Hawkes Utilities\n",
    "###################\n",
    "def softplus(x, beta):\n",
    "    temp = beta * x\n",
    "    temp[temp > 20] = 20\n",
    "    return 1.0 / beta * torch.log(1 + torch.exp(temp))\n",
    "\n",
    "def compute_event(event, non_pad_mask):\n",
    "    event += 1e-9\n",
    "    event.masked_fill_(~non_pad_mask.bool(), 1.0)\n",
    "    return torch.log(event)\n",
    "\n",
    "def compute_integral_unbiased(all_hid, time, non_pad_mask, type_mask, alpha, beta):\n",
    "    num_samples = 100\n",
    "    diff_time = (time[:, 1:] - time[:, :-1]) * non_pad_mask[:, 1:]\n",
    "    temp_time = diff_time.unsqueeze(2) * torch.rand([*diff_time.size(), num_samples], device=all_hid.device)\n",
    "    temp_time = temp_time / (time[:, :-1] + 1).unsqueeze(2)\n",
    "    temp_hid = all_hid[:, 1:, :]\n",
    "    temp_hid = torch.sum(temp_hid * type_mask[:, 1:, :], dim=2, keepdim=True)\n",
    "    all_lambda = softplus(temp_hid + alpha * temp_time, beta)\n",
    "    all_lambda = torch.sum(all_lambda, dim=2) / num_samples\n",
    "    return all_lambda * diff_time\n",
    "\n",
    "def log_likelihood(all_hid, time, types, num_types, beta, alpha):\n",
    "    non_pad_mask = get_non_pad_mask(types).squeeze(2)\n",
    "    type_mask = torch.zeros([*types.size(), num_types], device=all_hid.device)\n",
    "    for i in range(num_types):\n",
    "        type_mask[:, :, i] = (types == i + 1).bool()\n",
    "    all_lambda = softplus(all_hid, beta)\n",
    "    type_lambda = torch.sum(all_lambda * type_mask, dim=2)\n",
    "    event_ll = compute_event(type_lambda, non_pad_mask)\n",
    "    event_ll = torch.sum(event_ll, dim=-1)\n",
    "    non_event_ll = compute_integral_unbiased(all_hid, time, non_pad_mask, type_mask, alpha, beta)\n",
    "    non_event_ll = torch.sum(non_event_ll, dim=-1)\n",
    "    return event_ll, non_event_ll\n",
    "\n",
    "def type_loss(prediction, types, loss_func, non_pad_mask):\n",
    "    truth = types[:, 1:] - 1\n",
    "    prediction = prediction[:, :-1, :]\n",
    "    loss = loss_func(prediction.transpose(1,2), truth)\n",
    "    loss = torch.sum(loss * non_pad_mask[:, :-1].squeeze(-1), dim=-1).mean()\n",
    "    pred_type = torch.argmax(prediction, dim=-1)\n",
    "    correct_num = torch.sum(pred_type == truth) / (non_pad_mask[:, :-1].sum())\n",
    "    return loss, correct_num\n",
    "\n",
    "def time_loss(prediction, event_time, non_pad_mask):\n",
    "    prediction = prediction.squeeze(-1)\n",
    "    pred_cum = torch.cumsum(prediction, dim=1)\n",
    "    diff = pred_cum - event_time\n",
    "    se = torch.sum((diff * diff) * non_pad_mask.squeeze(-1), dim=-1).mean()\n",
    "    return se\n",
    "\n",
    "def get_non_pad_mask(seq):\n",
    "    return (seq != PAD).float().unsqueeze(-1)\n",
    "\n",
    "def get_attn_key_pad_mask(seq_k, seq_q):\n",
    "    len_q = seq_q.size(1)\n",
    "    return (seq_k == PAD).unsqueeze(1).expand(-1, len_q, -1)\n",
    "\n",
    "def get_subsequent_mask(seq):\n",
    "    B, L = seq.shape\n",
    "    subsequent_mask = torch.triu(torch.ones((L,L), device=seq.device, dtype=torch.uint8), diagonal=1)\n",
    "    subsequent_mask = subsequent_mask.unsqueeze(0).expand(B, -1, -1)\n",
    "    return subsequent_mask\n",
    "\n",
    "###################\n",
    "# Transformer Blocks\n",
    "###################\n",
    "class EncoderLayer(nn.Module):\n",
    "    def __init__(self, d_model, d_inner, n_head, d_k, d_v, dropout=0.1, normalize_before=True):\n",
    "        super().__init__()\n",
    "        self.slf_attn = MultiHeadAttention(n_head, d_model, d_k, d_v, dropout, normalize_before)\n",
    "        self.pos_ffn  = PositionwiseFeedForward(d_model, d_inner, dropout, normalize_before)\n",
    "\n",
    "    def forward(self, enc_input, non_pad_mask=None, slf_attn_mask=None):\n",
    "        enc_output, _ = self.slf_attn(enc_input, enc_input, enc_input, slf_attn_mask)\n",
    "        enc_output *= non_pad_mask\n",
    "        enc_output = self.pos_ffn(enc_output)\n",
    "        enc_output *= non_pad_mask\n",
    "        return enc_output, _\n",
    "\n",
    "class MultiHeadAttention(nn.Module):\n",
    "    def __init__(self, n_head, d_model, d_k, d_v, dropout=0.1, normalize_before=True):\n",
    "        super().__init__()\n",
    "        self.normalize_before = normalize_before\n",
    "        self.n_head = n_head\n",
    "        self.d_k = d_k\n",
    "        self.d_v = d_v\n",
    "        self.w_qs = nn.Linear(d_model, n_head*d_k, bias=False)\n",
    "        self.w_ks = nn.Linear(d_model, n_head*d_k, bias=False)\n",
    "        self.w_vs = nn.Linear(d_model, n_head*d_v, bias=False)\n",
    "        nn.init.xavier_uniform_(self.w_qs.weight)\n",
    "        nn.init.xavier_uniform_(self.w_ks.weight)\n",
    "        nn.init.xavier_uniform_(self.w_vs.weight)\n",
    "        self.fc = nn.Linear(n_head*d_v, d_model)\n",
    "        nn.init.xavier_uniform_(self.fc.weight)\n",
    "        self.attention = ScaledDotProductAttention(d_k**0.5, attn_dropout=dropout)\n",
    "        self.layer_norm = nn.LayerNorm(d_model, eps=1e-6)\n",
    "        self.dropout = nn.Dropout(dropout)\n",
    "\n",
    "    def forward(self, q, k, v, mask=None):\n",
    "        d_k, d_v, n_head = self.d_k, self.d_v, self.n_head\n",
    "        residual = q\n",
    "        if self.normalize_before:\n",
    "            q = self.layer_norm(q)\n",
    "        B, len_q, _ = q.shape\n",
    "        q = self.w_qs(q).view(B, len_q, n_head, d_k).transpose(1,2)\n",
    "        k = self.w_ks(k).view(B, -1, n_head, d_k).transpose(1,2)\n",
    "        v = self.w_vs(v).view(B, -1, n_head, d_v).transpose(1,2)\n",
    "        if mask is not None:\n",
    "            mask = mask.unsqueeze(1)\n",
    "        out, attn = self.attention(q, k, v, mask)\n",
    "        out = out.transpose(1,2).contiguous().view(B, len_q, -1)\n",
    "        out = self.dropout(self.fc(out))\n",
    "        out += residual\n",
    "        if not self.normalize_before:\n",
    "            out = self.layer_norm(out)\n",
    "        return out, attn\n",
    "\n",
    "class PositionwiseFeedForward(nn.Module):\n",
    "    def __init__(self, d_in, d_hid, dropout=0.1, normalize_before=True):\n",
    "        super().__init__()\n",
    "        self.normalize_before = normalize_before\n",
    "        self.w_1 = nn.Linear(d_in, d_hid)\n",
    "        self.w_2 = nn.Linear(d_hid, d_in)\n",
    "        self.layer_norm = nn.LayerNorm(d_in, eps=1e-6)\n",
    "        self.dropout = nn.Dropout(dropout)\n",
    "\n",
    "    def forward(self, x):\n",
    "        residual = x\n",
    "        if self.normalize_before:\n",
    "            x = self.layer_norm(x)\n",
    "        x = F.gelu(self.w_1(x))\n",
    "        x = self.dropout(x)\n",
    "        x = self.w_2(x)\n",
    "        x = self.dropout(x)\n",
    "        x = x + residual\n",
    "        if not self.normalize_before:\n",
    "            x = self.layer_norm(x)\n",
    "        return x\n",
    "\n",
    "class ScaledDotProductAttention(nn.Module):\n",
    "    def __init__(self, temperature, attn_dropout=0.2):\n",
    "        super().__init__()\n",
    "        self.temperature = temperature\n",
    "        self.dropout = nn.Dropout(attn_dropout)\n",
    "\n",
    "    def forward(self, q, k, v, mask=None):\n",
    "        attn = torch.matmul(q/self.temperature, k.transpose(2,3))\n",
    "        if mask is not None:\n",
    "            attn = attn.masked_fill(mask, -1e9)\n",
    "        attn = self.dropout(torch.softmax(attn, dim=-1))\n",
    "        output = torch.matmul(attn, v)\n",
    "        return output, attn\n",
    "\n",
    "###################\n",
    "# Our Encoder\n",
    "###################\n",
    "class Encoder(nn.Module):\n",
    "    \"\"\"\n",
    "    Transformer encoder for event_type + event_time\n",
    "    \"\"\"\n",
    "    def __init__(self, num_types, d_model, d_inner, n_layers, n_head, d_k, d_v, dropout=0.1):\n",
    "        super().__init__()\n",
    "        self.d_model = d_model\n",
    "        # Remove direct assignment, only register once:\n",
    "        pvec = torch.tensor(\n",
    "            [10000.0 ** (2.0 * (i // 2) / d_model) for i in range(d_model)],\n",
    "            dtype=torch.float\n",
    "        )\n",
    "        self.register_buffer(\"position_vec\", pvec)\n",
    "\n",
    "        self.event_emb = nn.Embedding(num_types+1, d_model, padding_idx=PAD)\n",
    "        self.layer_stack = nn.ModuleList([\n",
    "            EncoderLayer(d_model, d_inner, n_head, d_k, d_v, dropout=dropout, normalize_before=False)\n",
    "            for _ in range(n_layers)\n",
    "        ])\n",
    "\n",
    "    def temporal_enc(self, time, non_pad_mask):\n",
    "        # time: [B, seq_len]\n",
    "        result = time.unsqueeze(-1) / self.position_vec  # shape [B, seq_len, d_model]\n",
    "        result[:, :, 0::2] = torch.sin(result[:, :, 0::2])\n",
    "        result[:, :, 1::2] = torch.cos(result[:, :, 1::2])\n",
    "        return result * non_pad_mask\n",
    "\n",
    "    def forward(self, event_type, event_time):\n",
    "        non_pad_mask = get_non_pad_mask(event_type).to(event_type.device)\n",
    "        slf_attn_mask_subseq = get_subsequent_mask(event_type).to(event_type.device)\n",
    "        slf_attn_mask_keypad = get_attn_key_pad_mask(seq_k=event_type, seq_q=event_type).to(event_type.device)\n",
    "        slf_attn_mask = (slf_attn_mask_subseq + slf_attn_mask_keypad) > 0\n",
    "\n",
    "        tem_enc = self.temporal_enc(event_time, non_pad_mask)\n",
    "        enc_output = self.event_emb(event_type) + tem_enc\n",
    "\n",
    "        for enc_layer in self.layer_stack:\n",
    "            enc_output, _ = enc_layer(enc_output, non_pad_mask=non_pad_mask, slf_attn_mask=slf_attn_mask)\n",
    "        return enc_output, non_pad_mask\n",
    "\n",
    "class Predictor(nn.Module):\n",
    "    def __init__(self, dim, num_types):\n",
    "        super().__init__()\n",
    "        self.linear = nn.Linear(dim, num_types, bias=False)\n",
    "        nn.init.xavier_normal_(self.linear.weight)\n",
    "\n",
    "    def forward(self, data, non_pad_mask):\n",
    "        out = self.linear(data)\n",
    "        out = out * non_pad_mask\n",
    "        return out\n",
    "\n",
    "class Transformer(nn.Module):\n",
    "    \"\"\"\n",
    "    Main Transformer that has an Encoder and type/time decoders\n",
    "    \"\"\"\n",
    "    def __init__(self, num_types, d_model=128, d_inner=128, n_layers=1, n_head=4, d_k=32, d_v=32, dropout=0.1):\n",
    "        super().__init__()\n",
    "        self.encoder = Encoder(num_types, d_model, d_inner, n_layers, n_head, d_k, d_v, dropout)\n",
    "        self.num_types = num_types\n",
    "        self.alpha = nn.Parameter(torch.tensor(-0.1))\n",
    "        self.beta  = nn.Parameter(torch.tensor(1.0))\n",
    "        self.time_predictor = Predictor(d_model, 1)\n",
    "        self.type_predictor = Predictor(d_model, num_types)\n",
    "\n",
    "    def forward(self, event_type, event_time):\n",
    "        enc_output, non_pad_mask = self.encoder(event_type, event_time)\n",
    "        time_prediction = self.time_predictor(enc_output, non_pad_mask)\n",
    "        type_prediction = self.type_predictor(enc_output, non_pad_mask)\n",
    "        return enc_output, (type_prediction, time_prediction), non_pad_mask\n",
    "\n",
    "class TransformerHawkes(nn.Module):\n",
    "    \"\"\"\n",
    "    Simplified wrapper with .encode() and .decode()\n",
    "    \"\"\"\n",
    "    def __init__(self, num_types=10, d_model=128, n_layers=1):\n",
    "        super().__init__()\n",
    "        self.encoder = Transformer(\n",
    "            num_types=num_types,\n",
    "            d_model=d_model,\n",
    "            d_inner=d_model,\n",
    "            n_layers=n_layers,\n",
    "            n_head=4,\n",
    "            d_k=d_model//4,\n",
    "            d_v=d_model//4,\n",
    "            dropout=0.1\n",
    "        )\n",
    "        self.num_types = num_types\n",
    "        self.beta  = self.encoder.beta\n",
    "        self.alpha = self.encoder.alpha\n",
    "\n",
    "    def encode(self, events, times):\n",
    "        # shape: [B, seq_len]\n",
    "        if len(events.shape) == 1:\n",
    "            events = events.unsqueeze(0)\n",
    "            times  = times.unsqueeze(0)\n",
    "        enc_output, (type_pred, time_pred), non_pad_mask = self.encoder.forward(events, times)\n",
    "        # Summation across time dimension as an embedding\n",
    "        return enc_output  # shape [B, L, d_model]\n",
    "\n",
    "    def decode(self, dec_input):\n",
    "        # dec_input shape: [batch, seq_len, d_model]\n",
    "        B, L, D = dec_input.shape\n",
    "        mask = torch.ones(B, L, 1, device=dec_input.device)\n",
    "        type_pred = self.encoder.type_predictor(dec_input, mask)\n",
    "        time_pred = self.encoder.time_predictor(dec_input, mask)\n",
    "        return type_pred, time_pred, dec_input\n",
    "\n",
    "###############################\n",
    "# LSTM for Downstream\n",
    "###############################\n",
    "class LSTMPredictor(pl.LightningModule):\n",
    "    def __init__(self, num_embeddings=50, hidden_size=64):\n",
    "        super().__init__()\n",
    "        self.emb = nn.Embedding(num_embeddings+1, hidden_size)\n",
    "        self.lstm = nn.LSTM(hidden_size, hidden_size, batch_first=True, num_layers=1)\n",
    "        self.linear = nn.Linear(hidden_size, 1)\n",
    "\n",
    "    def forward(self, batch):\n",
    "        events = batch[0]\n",
    "        x = self.emb(events)\n",
    "        _, (hn, _) = self.lstm(x)\n",
    "        out = self.linear(hn[-1])\n",
    "        return out\n",
    "\n",
    "    def training_step(self, batch, batch_idx):\n",
    "        logits = self.forward(batch).squeeze(-1)\n",
    "        labels = batch[3].float()\n",
    "        loss = nn.BCEWithLogitsLoss()(logits, labels)\n",
    "        self.log(\"train_loss\", loss)\n",
    "        return loss\n",
    "\n",
    "    def predict_step(self, batch, batch_idx, dataloader_idx=0):\n",
    "        logits = self.forward(batch).squeeze(-1)\n",
    "        probs = torch.sigmoid(logits)\n",
    "        return probs\n",
    "\n",
    "    def configure_optimizers(self):\n",
    "        return torch.optim.Adam(self.parameters(), lr=1e-3)\n",
    "\n",
    "\n",
    "#########################\n",
    "#   Data & Preprocessing\n",
    "#########################\n",
    "def process_patient_df(df, patient_id_col, indicator_col, value_num_col, time_col, label_col):\n",
    "    # returns list of [events, values, times, label]\n",
    "    patient_list = df.groupby(patient_id_col).apply(\n",
    "        lambda x: [\n",
    "            x[indicator_col].tolist(),\n",
    "            x[value_num_col].tolist(),\n",
    "            x[time_col].tolist(),\n",
    "            x[label_col].values[0]\n",
    "        ]\n",
    "    ).tolist()\n",
    "    return patient_list\n",
    "\n",
    "def convert_dict_to_df(patient_list, indicator_col, value_num_col, patient_id_col, time_col, label_col):\n",
    "    df_dict = {\n",
    "        patient_id_col: [], indicator_col: [], \n",
    "        value_num_col: [], time_col: [], label_col: []\n",
    "    }\n",
    "    for pat_i, p in enumerate(patient_list):\n",
    "        e_seq, v_seq, t_seq, lab = p\n",
    "        df_dict[patient_id_col].extend([pat_i]*len(e_seq))\n",
    "        df_dict[indicator_col].extend(e_seq)\n",
    "        df_dict[value_num_col].extend(v_seq)\n",
    "        df_dict[time_col].extend(t_seq)\n",
    "        df_dict[label_col].extend([lab]*len(e_seq))\n",
    "    df_out = pd.DataFrame(df_dict)\n",
    "    df_out = df_out.sort_values(by=[patient_id_col, time_col]).reset_index(drop=True)\n",
    "    df_out[patient_id_col] = df_out[patient_id_col].astype(str)\n",
    "    return df_out\n",
    "\n",
    "class PatientDataset(Dataset):\n",
    "    def __init__(self, patients_list):\n",
    "        self.patients_list = patients_list\n",
    "    def __len__(self):\n",
    "        return len(self.patients_list)\n",
    "    def __getitem__(self, idx):\n",
    "        return self.patients_list[idx]\n",
    "\n",
    "class EventDataModule(pl.LightningDataModule):\n",
    "    def __init__(self, patients_list, batch_size=8):\n",
    "        super().__init__()\n",
    "        self.dataset = PatientDataset(patients_list)\n",
    "        self.batch_size = batch_size\n",
    "        self.train = self.dataset\n",
    "        self.val = self.dataset\n",
    "\n",
    "    def train_dataloader(self):\n",
    "        return DataLoader(self.train, batch_size=self.batch_size, shuffle=True)\n",
    "    def val_dataloader(self):\n",
    "        return DataLoader(self.val, batch_size=self.batch_size, shuffle=False)\n",
    "    def test_dataloader(self):\n",
    "        return DataLoader(self.val, batch_size=self.batch_size, shuffle=False)\n",
    "    def predict_dataloader(self):\n",
    "        return DataLoader(self.val, batch_size=self.batch_size, shuffle=False)\n",
    "\n",
    "\n",
    "def preprocess_data(\n",
    "    patients_list, \n",
    "    max_length=None,\n",
    "    events2ind=None,\n",
    "    ind2events=None,\n",
    "    mean_time=None,\n",
    "    std_time=None\n",
    "):\n",
    "    # We'll append \"[END]\" to each sequence, etc.\n",
    "    for i in range(len(patients_list)):\n",
    "        patients_list[i][0].append(\"[END]\")\n",
    "        patients_list[i][1].append(patients_list[i][1][-1])  # dummy pad for values\n",
    "        patients_list[i][2].append(patients_list[i][2][-1])  # dummy pad for times\n",
    "\n",
    "    if max_length is None:\n",
    "        max_length = max(len(x[0]) for x in patients_list)\n",
    "\n",
    "    if events2ind is None:\n",
    "        all_events = []\n",
    "        for x in patients_list:\n",
    "            all_events.extend(x[0])\n",
    "        all_events = list(set(all_events))\n",
    "        events2ind = {e: i for i, e in enumerate(sorted(all_events))}\n",
    "        ind2events = {v: k for k,v in events2ind.items()}\n",
    "\n",
    "    if mean_time is None:\n",
    "        all_t = []\n",
    "        for x in patients_list:\n",
    "            all_t.extend(x[2])\n",
    "        mean_time = np.mean(all_t)\n",
    "        std_time  = np.std(all_t)\n",
    "        if std_time < 1e-9:\n",
    "            std_time = 1.0\n",
    "\n",
    "    for i in range(len(patients_list)):\n",
    "        e_list = patients_list[i][0]\n",
    "        v_list = patients_list[i][1]\n",
    "        t_list = patients_list[i][2]\n",
    "        # convert events\n",
    "        e_idx = [events2ind[e]+1 for e in e_list]\n",
    "        e_idx = e_idx[:max_length] + [0]*(max_length - len(e_idx))\n",
    "        # pad times\n",
    "        t_list = t_list[:max_length] + [0]*(max_length - len(t_list))\n",
    "        t_norm = np.array(t_list) / std_time\n",
    "        # pad values\n",
    "        v_list = v_list[:max_length] + [0]*(max_length - len(v_list))\n",
    "\n",
    "        patients_list[i][0] = torch.tensor(e_idx).long()\n",
    "        patients_list[i][1] = torch.tensor(v_list).float()\n",
    "        patients_list[i][2] = torch.tensor(t_norm).float()\n",
    "\n",
    "    return patients_list, max_length, events2ind, ind2events, mean_time, std_time\n",
    "\n",
    "###################\n",
    "#     The VAE\n",
    "###################\n",
    "class VAE(pl.LightningModule):\n",
    "    def __init__(self, max_len=100, all_latent_dim=128, embedding_dim=128, num_embeddings=50, end_token_ind=1):\n",
    "        super().__init__()\n",
    "        self.save_hyperparameters()\n",
    "        self.max_len = max_len\n",
    "        self.all_latent_dim = all_latent_dim\n",
    "        self.embedding_dim = embedding_dim\n",
    "        self.num_embeddings = num_embeddings\n",
    "        self.end_token_ind = end_token_ind\n",
    "        self.var_multiplier = 1.0\n",
    "\n",
    "        # the \"encoder\" = TransformerHawkes\n",
    "        self.ts_encoder = TransformerHawkes(\n",
    "            num_types=num_embeddings, \n",
    "            d_model=embedding_dim, \n",
    "            n_layers=1\n",
    "        )\n",
    "        # a linear block to decode latent z -> hidden states\n",
    "        self.decoder_linear = nn.Sequential(\n",
    "            nn.ReLU6(),\n",
    "            nn.Linear(all_latent_dim//max_len, embedding_dim),\n",
    "            nn.ReLU6(),\n",
    "            nn.LayerNorm(embedding_dim),\n",
    "            nn.Linear(embedding_dim, embedding_dim),\n",
    "            nn.ReLU6()\n",
    "        )\n",
    "        self.hawkes_out    = nn.Linear(128, num_embeddings, bias=False) \n",
    "\n",
    "        # distribution heads\n",
    "        self.fc_mu = nn.Sequential(\n",
    "            nn.ReLU6(),\n",
    "            nn.Linear(embedding_dim, all_latent_dim//max_len),\n",
    "            nn.Tanh()\n",
    "        )\n",
    "        self.fc_var = nn.Sequential(\n",
    "            nn.ReLU6(),\n",
    "            nn.Linear(embedding_dim, all_latent_dim//max_len),\n",
    "            nn.ReLU6()\n",
    "        )\n",
    "\n",
    "    def configure_optimizers(self):\n",
    "        opt = torch.optim.Adam(self.parameters(), lr=1e-4)\n",
    "        sched = torch.optim.lr_scheduler.StepLR(opt, step_size=10, gamma=0.5)\n",
    "        return {\"optimizer\": opt, \"lr_scheduler\": sched}\n",
    "\n",
    "    def kl_divergence(self, z, mu, std):\n",
    "        p = torch.distributions.Normal(torch.zeros_like(mu), torch.ones_like(std))\n",
    "        q = torch.distributions.Normal(mu, std)\n",
    "        log_qzx = q.log_prob(z)\n",
    "        log_pz  = p.log_prob(z)\n",
    "        return (log_qzx - log_pz).mean()\n",
    "\n",
    "    def forward(self, batch):\n",
    "        events, values, times = batch[0], batch[1], batch[2]\n",
    "        # 1) encode => shape [B, L, embed_dim=128]\n",
    "        enc_output = self.ts_encoder.encode(events, times)  # [B, max_len, 128]\n",
    "\n",
    "        # 2) pass through fc_mu, fc_var\n",
    "        #    fc_mu is linear(128 -> 32)\n",
    "        # => shape [B, L, 32]\n",
    "        x_mu  = self.fc_mu(enc_output)\n",
    "        x_var = self.fc_var(enc_output)\n",
    "\n",
    "        # 3) flatten => [B, L*32= 4096]\n",
    "        B, L, D = x_mu.shape  # e.g. L=128, D=32 => total=4096\n",
    "        mu     = x_mu.view(B, L*D)\n",
    "        logvar = x_var.view(B, L*D)\n",
    "        std    = torch.exp(logvar/2)*self.var_multiplier\n",
    "\n",
    "        # 4) sample\n",
    "        z_dist= torch.distributions.Normal(mu, std)\n",
    "        z     = z_dist.rsample()  # => [B, 4096]\n",
    "\n",
    "        # 5) decode\n",
    "        z_reshaped = z.view(B, L, D)  # => [B, 128, 32]\n",
    "        dec_out    = self.decoder_linear(z_reshaped) # => [B, L, embedding_dim=128]\n",
    "        all_hid_36 = self.hawkes_out(dec_out)  # shape [B, L, 36]\n",
    "\n",
    "        type_pred, time_pred, _ = self.ts_encoder.decode(dec_out)\n",
    "        return type_pred, time_pred, all_hid_36, z, mu, std\n",
    "\n",
    "    def predict_step(self, batch, batch_idx, dataloader_idx=0):\n",
    "        return self.forward(batch)\n",
    "\n",
    "    def training_step(self, batch, batch_idx):\n",
    "        events, values, times = batch[0], batch[1], batch[2]\n",
    "        non_pad_mask = (events!=0).unsqueeze(-1).float()\n",
    "\n",
    "        type_pred, time_pred, hid, z, mu, std = self.forward(batch)\n",
    "        type_pred = type_pred*non_pad_mask\n",
    "        time_pred = time_pred*non_pad_mask\n",
    "        hid       = hid*non_pad_mask\n",
    "\n",
    "        # time loss\n",
    "        recon_loss = time_loss(time_pred, times, non_pad_mask)\n",
    "        kl = self.kl_divergence(z, mu, std)\n",
    "        event_ll, non_event_ll = log_likelihood(hid, times, events, self.num_embeddings, self.ts_encoder.beta, self.ts_encoder.alpha)\n",
    "        event_loss = -torch.mean(event_ll - non_event_ll)/100\n",
    "        ce_loss, _ = type_loss(type_pred, events, nn.CrossEntropyLoss(reduction=\"none\", ignore_index=-1), non_pad_mask)\n",
    "\n",
    "        # handle [END]\n",
    "        END_indexes = (events==self.end_token_ind).nonzero(as_tuple=True)[0]\n",
    "        if len(END_indexes)>0:\n",
    "            end_loss = nn.CrossEntropyLoss(ignore_index=-1)(\n",
    "                type_pred[END_indexes].transpose(1,2), (events[END_indexes]-1)\n",
    "            )\n",
    "            ce_loss += end_loss*10\n",
    "\n",
    "        total = kl + recon_loss + event_loss + ce_loss\n",
    "        self.log_dict({\n",
    "            \"kl\": kl,\n",
    "            \"recon_loss\": recon_loss,\n",
    "            \"event_loss\": event_loss,\n",
    "            \"type_loss\": ce_loss,\n",
    "            \"total_loss\": total\n",
    "        }, prog_bar=True, batch_size=len(events))\n",
    "        return total\n",
    "\n",
    "    def validation_step(self, batch, batch_idx):\n",
    "        return self.training_step(batch, batch_idx)\n"
   ]
  },
  {
   "cell_type": "code",
   "execution_count": 4,
   "id": "d1b657f0",
   "metadata": {},
   "outputs": [
    {
     "name": "stderr",
     "output_type": "stream",
     "text": [
      "/var/folders/tk/17szgjb53c52s1rvb1qj14q00000gn/T/ipykernel_96336/1925828069.py:317: DeprecationWarning: DataFrameGroupBy.apply operated on the grouping columns. This behavior is deprecated, and in a future version of pandas the grouping columns will be excluded from the operation. Either pass `include_groups=False` to exclude the groupings or explicitly select the grouping columns after groupby to silence this warning.\n",
      "  patient_list = df.groupby(patient_id_col).apply(\n",
      "GPU available: True (mps), used: True\n",
      "TPU available: False, using: 0 TPU cores\n",
      "HPU available: False, using: 0 HPUs\n"
     ]
    },
    {
     "name": "stdout",
     "output_type": "stream",
     "text": [
      "Merged shape: (20268, 5)\n",
      "   patient_id                  event  value  time  label\n",
      "0       12727                 b'wbc'    0.0     0      1\n",
      "1       12727           b'platelets'    0.0     1      1\n",
      "2       12727                 b'wbc'    0.0     2      1\n",
      "3       12727  b'granulocytes/bands'    0.0     3      1\n",
      "4       12727              b'nausea'    0.0     4      1\n",
      "Number of patients: 587\n",
      "max_length =  128\n",
      "num_events =  36\n"
     ]
    },
    {
     "name": "stderr",
     "output_type": "stream",
     "text": [
      "\n",
      "  | Name           | Type              | Params | Mode \n",
      "-------------------------------------------------------------\n",
      "0 | ts_encoder     | TransformerHawkes | 108 K  | train\n",
      "1 | decoder_linear | Sequential        | 21.0 K | train\n",
      "2 | hawkes_out     | Linear            | 4.6 K  | train\n",
      "3 | fc_mu          | Sequential        | 4.1 K  | train\n",
      "4 | fc_var         | Sequential        | 4.1 K  | train\n",
      "-------------------------------------------------------------\n",
      "142 K     Trainable params\n",
      "0         Non-trainable params\n",
      "142 K     Total params\n",
      "0.570     Total estimated model params size (MB)\n",
      "40        Modules in train mode\n",
      "0         Modules in eval mode\n"
     ]
    },
    {
     "data": {
      "application/vnd.jupyter.widget-view+json": {
       "model_id": "",
       "version_major": 2,
       "version_minor": 0
      },
      "text/plain": [
       "Sanity Checking: |                                        | 0/? [00:00<?, ?it/s]"
      ]
     },
     "metadata": {},
     "output_type": "display_data"
    },
    {
     "name": "stderr",
     "output_type": "stream",
     "text": [
      "/Users/mazinrafi/miniconda3/lib/python3.10/site-packages/lightning/pytorch/trainer/connectors/data_connector.py:425: The 'val_dataloader' does not have many workers which may be a bottleneck. Consider increasing the value of the `num_workers` argument` to `num_workers=7` in the `DataLoader` to improve performance.\n",
      "/Users/mazinrafi/miniconda3/lib/python3.10/site-packages/lightning/pytorch/trainer/connectors/data_connector.py:425: The 'train_dataloader' does not have many workers which may be a bottleneck. Consider increasing the value of the `num_workers` argument` to `num_workers=7` in the `DataLoader` to improve performance.\n",
      "/Users/mazinrafi/miniconda3/lib/python3.10/site-packages/lightning/pytorch/loops/fit_loop.py:310: The number of training batches (37) is smaller than the logging interval Trainer(log_every_n_steps=50). Set a lower value for log_every_n_steps if you want to see logs for the training epoch.\n"
     ]
    },
    {
     "data": {
      "application/vnd.jupyter.widget-view+json": {
       "model_id": "5c47ba7355a74fd3b50ef591aecbb90e",
       "version_major": 2,
       "version_minor": 0
      },
      "text/plain": [
       "Training: |                                               | 0/? [00:00<?, ?it/s]"
      ]
     },
     "metadata": {},
     "output_type": "display_data"
    },
    {
     "data": {
      "application/vnd.jupyter.widget-view+json": {
       "model_id": "",
       "version_major": 2,
       "version_minor": 0
      },
      "text/plain": [
       "Validation: |                                             | 0/? [00:00<?, ?it/s]"
      ]
     },
     "metadata": {},
     "output_type": "display_data"
    },
    {
     "data": {
      "application/vnd.jupyter.widget-view+json": {
       "model_id": "",
       "version_major": 2,
       "version_minor": 0
      },
      "text/plain": [
       "Validation: |                                             | 0/? [00:00<?, ?it/s]"
      ]
     },
     "metadata": {},
     "output_type": "display_data"
    },
    {
     "data": {
      "application/vnd.jupyter.widget-view+json": {
       "model_id": "",
       "version_major": 2,
       "version_minor": 0
      },
      "text/plain": [
       "Validation: |                                             | 0/? [00:00<?, ?it/s]"
      ]
     },
     "metadata": {},
     "output_type": "display_data"
    },
    {
     "data": {
      "application/vnd.jupyter.widget-view+json": {
       "model_id": "",
       "version_major": 2,
       "version_minor": 0
      },
      "text/plain": [
       "Validation: |                                             | 0/? [00:00<?, ?it/s]"
      ]
     },
     "metadata": {},
     "output_type": "display_data"
    },
    {
     "data": {
      "application/vnd.jupyter.widget-view+json": {
       "model_id": "",
       "version_major": 2,
       "version_minor": 0
      },
      "text/plain": [
       "Validation: |                                             | 0/? [00:00<?, ?it/s]"
      ]
     },
     "metadata": {},
     "output_type": "display_data"
    },
    {
     "data": {
      "application/vnd.jupyter.widget-view+json": {
       "model_id": "",
       "version_major": 2,
       "version_minor": 0
      },
      "text/plain": [
       "Validation: |                                             | 0/? [00:00<?, ?it/s]"
      ]
     },
     "metadata": {},
     "output_type": "display_data"
    },
    {
     "data": {
      "application/vnd.jupyter.widget-view+json": {
       "model_id": "",
       "version_major": 2,
       "version_minor": 0
      },
      "text/plain": [
       "Validation: |                                             | 0/? [00:00<?, ?it/s]"
      ]
     },
     "metadata": {},
     "output_type": "display_data"
    },
    {
     "data": {
      "application/vnd.jupyter.widget-view+json": {
       "model_id": "",
       "version_major": 2,
       "version_minor": 0
      },
      "text/plain": [
       "Validation: |                                             | 0/? [00:00<?, ?it/s]"
      ]
     },
     "metadata": {},
     "output_type": "display_data"
    },
    {
     "data": {
      "application/vnd.jupyter.widget-view+json": {
       "model_id": "",
       "version_major": 2,
       "version_minor": 0
      },
      "text/plain": [
       "Validation: |                                             | 0/? [00:00<?, ?it/s]"
      ]
     },
     "metadata": {},
     "output_type": "display_data"
    },
    {
     "data": {
      "application/vnd.jupyter.widget-view+json": {
       "model_id": "",
       "version_major": 2,
       "version_minor": 0
      },
      "text/plain": [
       "Validation: |                                             | 0/? [00:00<?, ?it/s]"
      ]
     },
     "metadata": {},
     "output_type": "display_data"
    },
    {
     "name": "stderr",
     "output_type": "stream",
     "text": [
      "`Trainer.fit` stopped: `max_epochs=10` reached.\n",
      "/var/folders/tk/17szgjb53c52s1rvb1qj14q00000gn/T/ipykernel_96336/1178934827.py:111: UserWarning: To copy construct from a tensor, it is recommended to use sourceTensor.clone().detach() or sourceTensor.clone().detach().requires_grad_(True), rather than torch.tensor(sourceTensor).\n",
      "  values_tensor = torch.tensor(batch[1]).unsqueeze(0)\n"
     ]
    },
    {
     "data": {
      "image/png": "[encoded data removed]",
      "text/plain": [
       "<Figure size 700x3800 with 19 Axes>"
      ]
     },
     "metadata": {},
     "output_type": "display_data"
    },
    {
     "name": "stdout",
     "output_type": "stream",
     "text": [
      "Done. Figure above shows real vs. generated times for events of patient 12727.\n"
     ]
    }
   ],
   "source": [
    "# Cell [4]: Actual usage for c9732 (NCT00003299) example\n",
    "\n",
    "import pandas as pd\n",
    "import torch\n",
    "from lightning.pytorch.callbacks import TQDMProgressBar\n",
    "from lightning.pytorch import Trainer\n",
    "\n",
    "###################################\n",
    "#  A) Load c9732_ae and c9732_demo\n",
    "###################################\n",
    "df_ae = pd.read_excel(\"/Users/mazinrafi/Downloads/c9732_ae.xlsx\")  # adapt path\n",
    "df_demo = pd.read_excel(\"/Users/mazinrafi/Downloads/c9732_demographic.xlsx\")  # adapt path\n",
    "\n",
    "# We'll define label=1 if STATUS=2, else 0\n",
    "df_demo[\"label\"] = df_demo[\"STATUS\"].apply(lambda x: 1 if x==2 else 0)\n",
    "\n",
    "# Instead of referencing a CYCLE column (which doesn't exist), \n",
    "# we'll define time by the row order within each patient:\n",
    "df_ae[\"time\"] = df_ae.groupby(\"PHATOM_ID\").cumcount()\n",
    "\n",
    "# Merge with the demo to get 'label' for each patient\n",
    "df_merge = df_ae.merge(df_demo[[\"PHATOM_ID\",\"label\"]], on=\"PHATOM_ID\", how=\"left\")\n",
    "\n",
    "# Rename columns to match code\n",
    "df_merge = df_merge.rename(columns={\n",
    "    \"PHATOM_ID\": \"patient_id\",\n",
    "    \"AE_NAME\":    \"event\",\n",
    "})\n",
    "\n",
    "df_merge[\"value\"] = 0.0\n",
    "df_merge[\"event\"] = df_merge[\"event\"].astype(str)\n",
    "\n",
    "# Keep columns in the final order the code expects\n",
    "df_merge = df_merge[[\"patient_id\",\"event\",\"value\",\"time\",\"label\"]]\n",
    "df_merge = df_merge.sort_values([\"patient_id\",\"time\"]).reset_index(drop=True)\n",
    "\n",
    "print(\"Merged shape:\", df_merge.shape)\n",
    "print(df_merge.head())\n",
    "\n",
    "###################################\n",
    "#  B) Preprocess -> build \"patients_list\"\n",
    "###################################\n",
    "patient_id_col = \"patient_id\"\n",
    "indicator_col  = \"event\"\n",
    "value_num_col  = \"value\"\n",
    "time_col       = \"time\"\n",
    "label_col      = \"label\"\n",
    "\n",
    "# OR if you have them in the same notebook, you can just call them directly without import\n",
    "\n",
    "patients_list = process_patient_df(\n",
    "    df_merge,\n",
    "    patient_id_col, indicator_col, value_num_col, time_col, label_col\n",
    ")\n",
    "print(\"Number of patients:\", len(patients_list))\n",
    "\n",
    "patients_list, max_length, events2ind, ind2events, mean_t, std_t = preprocess_data(\n",
    "    patients_list,\n",
    "    max_length=None\n",
    ")\n",
    "print(\"max_length = \", max_length)\n",
    "print(\"num_events = \", len(events2ind))\n",
    "\n",
    "datamodule = EventDataModule(patients_list, batch_size=16)\n",
    "\n",
    "###################################\n",
    "#  C) Train the VAE + Hawkes\n",
    "###################################\n",
    "model = VAE(\n",
    "    max_len=max_length,\n",
    "    all_latent_dim=32*max_length,\n",
    "    embedding_dim=128,\n",
    "    num_embeddings=len(events2ind),\n",
    "    end_token_ind=events2ind[\"[END]\"]+1\n",
    ")\n",
    "\n",
    "trainer = Trainer(max_epochs=10, callbacks=[TQDMProgressBar(refresh_rate=20)], enable_checkpointing=False)\n",
    "trainer.fit(model, datamodule=datamodule)\n",
    "\n",
    "###################################\n",
    "#  D) Generate & Plot for one patient\n",
    "###################################\n",
    "pid_of_interest = df_merge[\"patient_id\"].unique()[0]\n",
    "onepat_df = df_merge[df_merge[\"patient_id\"]==pid_of_interest].copy()\n",
    "onepat_list = [\n",
    "    onepat_df[indicator_col].tolist(),\n",
    "    onepat_df[value_num_col].tolist(),\n",
    "    onepat_df[time_col].tolist(),\n",
    "    int(onepat_df[label_col].iloc[0])\n",
    "]\n",
    "\n",
    "# Insert [END]\n",
    "onepat_list[0].append(\"[END]\")\n",
    "onepat_list[1].append(0.0)\n",
    "onepat_list[2].append(onepat_list[2][-1])\n",
    "\n",
    "temp_list = [onepat_list]\n",
    "temp_list, _, _, _, _, _ = preprocess_data(\n",
    "    temp_list,\n",
    "    max_length=max_length,\n",
    "    events2ind=events2ind,\n",
    "    ind2events=ind2events,\n",
    "    mean_time=mean_t,\n",
    "    std_time=std_t\n",
    ")\n",
    "\n",
    "model.eval()\n",
    "with torch.no_grad():\n",
    "    batch = temp_list[0]\n",
    "    events_tensor = batch[0].unsqueeze(0)\n",
    "    values_tensor = torch.tensor(batch[1]).unsqueeze(0)\n",
    "    times_tensor  = batch[2].unsqueeze(0)\n",
    "    label_val     = torch.tensor([batch[3]])\n",
    "    out = model((events_tensor, values_tensor, times_tensor, label_val))\n",
    "    type_pred, time_pred, hid, z, mu, std = out\n",
    "\n",
    "type_pred = torch.softmax(type_pred, dim=-1).squeeze(0).cpu().numpy()\n",
    "time_pred = time_pred.squeeze(0).squeeze(-1).cpu().numpy()\n",
    "argmax_types = np.argmax(type_pred, axis=-1)\n",
    "pred_event_names = [ind2events[a-1] if a>0 else \"PAD\" for a in argmax_types]\n",
    "cumulative_time = np.cumsum(time_pred)*std_t\n",
    "\n",
    "# Real data\n",
    "real_events = onepat_df[indicator_col].tolist()\n",
    "real_times  = onepat_df[time_col].tolist()\n",
    "\n",
    "# Combined unique event names\n",
    "all_events = sorted(set(real_events + pred_event_names) - set([\"[END]\",\"PAD\"]))\n",
    "\n",
    "# map real/pred\n",
    "real_map = {}\n",
    "for e,t in zip(real_events, real_times):\n",
    "    real_map.setdefault(e, []).append(t)\n",
    "pred_map = {}\n",
    "for e,t in zip(pred_event_names, cumulative_time):\n",
    "    if e in (\"[END]\",\"PAD\"):\n",
    "        break\n",
    "    pred_map.setdefault(e, []).append(t)\n",
    "\n",
    "import matplotlib.pyplot as plt\n",
    "\n",
    "fig, axes = plt.subplots(nrows=len(all_events), ncols=1, figsize=(7,2*len(all_events)))\n",
    "if len(all_events) == 1:\n",
    "    axes = [axes]\n",
    "\n",
    "for ax, e_name in zip(axes, all_events):\n",
    "    r_times = real_map.get(e_name, [])\n",
    "    p_times = pred_map.get(e_name, [])\n",
    "    ax.scatter(r_times, [0]*len(r_times), color='red', label='Real')\n",
    "    ax.scatter(p_times, [1]*len(p_times), color='blue', label='Gen')\n",
    "    ax.set_yticks([0,1]); ax.set_yticklabels([\"Real\",\"Gen\"])\n",
    "    ax.set_title(e_name)\n",
    "\n",
    "plt.tight_layout()\n",
    "plt.show()\n",
    "print(f\"Done. Figure above shows real vs. generated times for events of patient {pid_of_interest}.\")\n"
   ]
  },
  {
   "cell_type": "code",
   "execution_count": 5,
   "id": "5ef7739b",
   "metadata": {},
   "outputs": [],
   "source": [
    "# Cell [5]: Generate Synthetic DataFrame from the trained model\n",
    "\n",
    "def generate_synthetic_df(model, df_merge, events2ind, ind2events,\n",
    "                          patient_id_col=\"patient_id\", indicator_col=\"event\",\n",
    "                          value_num_col=\"value\", time_col=\"time\", label_col=\"label\",\n",
    "                          max_length=128, mean_time=1.0, std_time=1.0,\n",
    "                          sample_factor=1):\n",
    "    \"\"\"\n",
    "    For each real patient, we do a forward pass through the model to produce\n",
    "    one synthetic sequence. Then we convert the synthetic sequence to a new DataFrame\n",
    "    that has the same columns: patient_id, event, value, time, label.\n",
    "\n",
    "    Arguments:\n",
    "      model: A trained VAE model (or any baseline) that accepts a batch and outputs synthetic.\n",
    "      df_merge: The real data DataFrame (used to iterate over patient IDs, plus label).\n",
    "      events2ind, ind2events: event dictionaries for indexing\n",
    "      sample_factor: if >1, we can generate multiple synthetic samples per real patient.\n",
    "\n",
    "    Returns: gen_df, a DataFrame with the same columns as real.\n",
    "    \"\"\"\n",
    "    all_syn_patients = []\n",
    "    unique_pids = df_merge[patient_id_col].unique().tolist()\n",
    "\n",
    "    # We'll assume we generate 1 synthetic for each real patient\n",
    "    for pid in unique_pids:\n",
    "        # extract that patient's data\n",
    "        sub = df_merge[df_merge[patient_id_col] == pid]\n",
    "        if len(sub) == 0:\n",
    "            continue\n",
    "        label_ = int(sub[label_col].iloc[0])\n",
    "\n",
    "        # build a single \"patient_list\" entry\n",
    "        events_list = sub[indicator_col].tolist()\n",
    "        values_list = sub[value_num_col].tolist()\n",
    "        times_list  = sub[time_col].tolist()\n",
    "\n",
    "        # add [END] + pad last time\n",
    "        events_list.append(\"[END]\")\n",
    "        values_list.append(values_list[-1])\n",
    "        times_list.append(times_list[-1])\n",
    "\n",
    "        # convert to numeric\n",
    "        e_idx = [events2ind[e] + 1 for e in events_list]\n",
    "        # NOTE: pad if needed, but let's just do a single pass (assuming short sequences).\n",
    "        e_idx = e_idx[:max_length] + [0]*(max_length - len(e_idx))\n",
    "        t_list = times_list[:max_length] + [0]*(max_length - len(times_list))\n",
    "        t_list = np.array(t_list) / std_time\n",
    "        v_list = values_list[:max_length] + [0]*(max_length - len(values_list))\n",
    "\n",
    "        # Turn into Tensors [1, seq_len]\n",
    "        events_tensor = torch.tensor(e_idx).unsqueeze(0).long()\n",
    "        values_tensor = torch.tensor(v_list).unsqueeze(0).float()\n",
    "        times_tensor  = torch.tensor(t_list).unsqueeze(0).float()\n",
    "        label_tensor  = torch.tensor([label_])\n",
    "\n",
    "        with torch.no_grad():\n",
    "            type_pred, time_pred, hid36, z, mu, std = model((events_tensor, values_tensor, times_tensor, label_tensor))\n",
    "            # shape: type_pred => [1, seq_len, num_types]\n",
    "            # time_pred => [1, seq_len, 1]\n",
    "\n",
    "        # convert type_pred to argmax\n",
    "        type_pred_soft = torch.softmax(type_pred, dim=-1).squeeze(0).cpu().numpy()\n",
    "        argmax_ = np.argmax(type_pred_soft, axis=-1)\n",
    "        # convert to event names\n",
    "        syn_events = [ind2events[a-1] if a>0 else \"[PAD]\" for a in argmax_]\n",
    "\n",
    "        # convert time_pred by cumsum\n",
    "        time_pred = time_pred.squeeze(0).squeeze(-1).cpu().numpy()\n",
    "        cumsum_ = np.cumsum(time_pred) * std_time\n",
    "\n",
    "        # build new list for this synthetic\n",
    "        new_seq = []\n",
    "        for e_, t_ in zip(syn_events, cumsum_):\n",
    "            if e_ in (\"[END]\", \"[PAD]\"):\n",
    "                break\n",
    "            new_seq.append((e_, 0.0, t_, label_))\n",
    "\n",
    "        # store in a list form => We'll parse after\n",
    "        # we keep patient_id as a new ID (like \"synthetic_{pid}\")\n",
    "        syn_pid = f\"syn_{pid}\"\n",
    "        pat_data = []\n",
    "        for (ee, vv, tt, ll) in new_seq:\n",
    "            pat_data.append((syn_pid, ee, vv, tt, ll))\n",
    "\n",
    "        all_syn_patients.extend(pat_data)\n",
    "\n",
    "    # now build a DataFrame\n",
    "    gen_df = pd.DataFrame(all_syn_patients,\n",
    "                          columns=[patient_id_col, indicator_col, value_num_col, time_col, label_col])\n",
    "    gen_df = gen_df.sort_values([patient_id_col, time_col]).reset_index(drop=True)\n",
    "    return gen_df\n"
   ]
  },
  {
   "cell_type": "code",
   "execution_count": 6,
   "id": "293554a8",
   "metadata": {},
   "outputs": [
    {
     "name": "stdout",
     "output_type": "stream",
     "text": [
      "Synthetic data shape: (72472, 5)\n",
      "  patient_id        event  value       time  label\n",
      "0  syn_12727   b'hearing'    0.0 -55.250313      1\n",
      "1  syn_12727  b'vomiting'    0.0 -55.009758      1\n",
      "2  syn_12727   b'hearing'    0.0 -54.832706      1\n",
      "3  syn_12727  b'vomiting'    0.0 -53.908768      1\n",
      "4  syn_12727  b'vomiting'    0.0 -53.456753      1\n",
      "5  syn_12727   b'hearing'    0.0 -53.139252      1\n",
      "6  syn_12727  b'vomiting'    0.0 -51.766838      1\n",
      "7  syn_12727  b'ischemia'    0.0 -50.704617      1\n",
      "8  syn_12727   b'hearing'    0.0 -50.440628      1\n",
      "9  syn_12727   b'hearing'    0.0 -48.717052      1\n"
     ]
    }
   ],
   "source": [
    "# after training the model in cell [4], generate synthetic\n",
    "gen_df = generate_synthetic_df(\n",
    "    model, \n",
    "    df_merge, \n",
    "    events2ind, \n",
    "    ind2events,\n",
    "    max_length=max_length,\n",
    "    mean_time=mean_t,\n",
    "    std_time=std_t\n",
    ")\n",
    "\n",
    "print(\"Synthetic data shape:\", gen_df.shape)\n",
    "print(gen_df.head(10))\n"
   ]
  },
  {
   "cell_type": "code",
   "execution_count": 7,
   "id": "582afb1f",
   "metadata": {},
   "outputs": [],
   "source": [
    "# Cell [6]: Compute the Utility (ROCAUC) for c9732\n",
    "\n",
    "from sklearn.metrics import roc_auc_score\n",
    "import random\n",
    "\n",
    "def prepare_dataset_for_lstm(df, patient_id_col=\"patient_id\", event_col=\"event\",\n",
    "                             value_col=\"value\", time_col=\"time\", label_col=\"label\"):\n",
    "    \"\"\"\n",
    "    Convert a dataFrame into a 'list of patients' format for the LSTM classification.\n",
    "    We'll just re-use process_patient_df + preprocess_data from earlier.\n",
    "    \"\"\"\n",
    "    pat_list = process_patient_df(df, patient_id_col, event_col, value_col, time_col, label_col)\n",
    "    pat_list, ml, e2i, i2e, mt, st = preprocess_data(pat_list, max_length=None)\n",
    "    return pat_list, ml, e2i, i2e, mt, st\n",
    "\n",
    "def train_downstream_classifier(syn_df, real_df, patient_id_col=\"patient_id\",\n",
    "                                event_col=\"event\", value_col=\"value\",\n",
    "                                time_col=\"time\", label_col=\"label\",\n",
    "                                num_epochs=5, hidden_size=64):\n",
    "    \"\"\"\n",
    "    1. We'll prepare the synthetic data as the 'train' set\n",
    "    2. We'll pick a test set from the real data\n",
    "    3. We'll train an LSTM classifier on synthetic, then evaluate on real test => compute ROCAUC\n",
    "    \"\"\"\n",
    "\n",
    "    # A. prepare synthetic\n",
    "    syn_list, syn_ml, syn_e2i, syn_i2e, syn_mt, syn_st = prepare_dataset_for_lstm(\n",
    "        syn_df, patient_id_col, event_col, value_col, time_col, label_col\n",
    "    )\n",
    "    syn_data = DataLoader(PatientDataset(syn_list), batch_size=8, shuffle=True)\n",
    "\n",
    "    # B. prepare real - we do a simple random 80/20 split for test\n",
    "    #   (in practice, the paper might do a more careful split, but let's keep it simple)\n",
    "    real_pids = list(real_df[patient_id_col].unique())\n",
    "    random.shuffle(real_pids)\n",
    "    test_size = int(0.2 * len(real_pids))\n",
    "    test_pids = set(real_pids[:test_size])\n",
    "    train_pids= set(real_pids[test_size:]) # not used for training here, though\n",
    "\n",
    "    # The paper's logic: \"We do NOT train LSTM on real. We only test on real.\"\n",
    "    # We'll just gather the test set as a separate list\n",
    "    test_df = real_df[real_df[patient_id_col].isin(test_pids)].copy()\n",
    "    test_list, test_ml, test_e2i, test_i2e, test_mt, test_st = prepare_dataset_for_lstm(\n",
    "        test_df, patient_id_col, event_col, value_col, time_col, label_col\n",
    "    )\n",
    "\n",
    "    test_data = DataLoader(PatientDataset(test_list), batch_size=8, shuffle=False)\n",
    "\n",
    "    # We'll unify the number of events for the LSTM's embedding dimension\n",
    "    # => pick the bigger from syn_e2i vs test_e2i\n",
    "    # for simplicity let's pick max\n",
    "    vocab_size = max(len(syn_e2i), len(test_e2i))\n",
    "    # define the LSTM predictor\n",
    "    classifier = LSTMPredictor(num_embeddings=vocab_size, hidden_size=hidden_size)\n",
    "\n",
    "    # C. train on synthetic\n",
    "    trainer = pl.Trainer(max_epochs=num_epochs, enable_checkpointing=False, logger=False)\n",
    "    trainer.fit(model=classifier, train_dataloaders=syn_data)\n",
    "\n",
    "    # D. predict on real test\n",
    "    preds = trainer.predict(model=classifier, dataloaders=test_data)\n",
    "    preds = torch.cat(preds, dim=0).cpu().squeeze().numpy()\n",
    "\n",
    "    # gather ground truth labels\n",
    "    test_labels = [test_list[i][3] for i in range(len(test_list))]\n",
    "\n",
    "    # E. compute roc auc\n",
    "    rocauc = roc_auc_score(test_labels, preds)\n",
    "    return rocauc, preds, test_labels\n",
    "\n"
   ]
  },
  {
   "cell_type": "code",
   "execution_count": 8,
   "id": "3ace2a9c",
   "metadata": {},
   "outputs": [
    {
     "name": "stderr",
     "output_type": "stream",
     "text": [
      "/var/folders/tk/17szgjb53c52s1rvb1qj14q00000gn/T/ipykernel_96336/1925828069.py:317: DeprecationWarning: DataFrameGroupBy.apply operated on the grouping columns. This behavior is deprecated, and in a future version of pandas the grouping columns will be excluded from the operation. Either pass `include_groups=False` to exclude the groupings or explicitly select the grouping columns after groupby to silence this warning.\n",
      "  patient_list = df.groupby(patient_id_col).apply(\n",
      "/var/folders/tk/17szgjb53c52s1rvb1qj14q00000gn/T/ipykernel_96336/1925828069.py:317: DeprecationWarning: DataFrameGroupBy.apply operated on the grouping columns. This behavior is deprecated, and in a future version of pandas the grouping columns will be excluded from the operation. Either pass `include_groups=False` to exclude the groupings or explicitly select the grouping columns after groupby to silence this warning.\n",
      "  patient_list = df.groupby(patient_id_col).apply(\n",
      "GPU available: True (mps), used: True\n",
      "TPU available: False, using: 0 TPU cores\n",
      "HPU available: False, using: 0 HPUs\n",
      "\n",
      "  | Name   | Type      | Params | Mode \n",
      "---------------------------------------------\n",
      "0 | emb    | Embedding | 2.4 K  | train\n",
      "1 | lstm   | LSTM      | 33.3 K | train\n",
      "2 | linear | Linear    | 65     | train\n",
      "---------------------------------------------\n",
      "35.7 K    Trainable params\n",
      "0         Non-trainable params\n",
      "35.7 K    Total params\n",
      "0.143     Total estimated model params size (MB)\n",
      "3         Modules in train mode\n",
      "0         Modules in eval mode\n",
      "/Users/mazinrafi/miniconda3/lib/python3.10/site-packages/lightning/pytorch/trainer/connectors/data_connector.py:425: The 'train_dataloader' does not have many workers which may be a bottleneck. Consider increasing the value of the `num_workers` argument` to `num_workers=7` in the `DataLoader` to improve performance.\n"
     ]
    },
    {
     "data": {
      "application/vnd.jupyter.widget-view+json": {
       "model_id": "22ba0f9b7bcf4e839579144337a1f8ce",
       "version_major": 2,
       "version_minor": 0
      },
      "text/plain": [
       "Training: |                                               | 0/? [00:00<?, ?it/s]"
      ]
     },
     "metadata": {},
     "output_type": "display_data"
    },
    {
     "name": "stderr",
     "output_type": "stream",
     "text": [
      "`Trainer.fit` stopped: `max_epochs=5` reached.\n",
      "/Users/mazinrafi/miniconda3/lib/python3.10/site-packages/lightning/pytorch/trainer/connectors/data_connector.py:425: The 'predict_dataloader' does not have many workers which may be a bottleneck. Consider increasing the value of the `num_workers` argument` to `num_workers=7` in the `DataLoader` to improve performance.\n"
     ]
    },
    {
     "data": {
      "application/vnd.jupyter.widget-view+json": {
       "model_id": "dc1bc3a71aad4e689c33b7c51ef73b8f",
       "version_major": 2,
       "version_minor": 0
      },
      "text/plain": [
       "Predicting: |                                             | 0/? [00:00<?, ?it/s]"
      ]
     },
     "metadata": {},
     "output_type": "display_data"
    },
    {
     "name": "stdout",
     "output_type": "stream",
     "text": [
      "Utility ROCAUC on c9732 (LC1): 0.6123853211009175\n"
     ]
    }
   ],
   "source": [
    "# Suppose we have `df_merge` as the real data and `gen_df` as the synthetic\n",
    "# from the previous cell. Now let's compute the utility AUC.\n",
    "\n",
    "rocauc, preds, labels = train_downstream_classifier(gen_df, df_merge, num_epochs=5, hidden_size=64)\n",
    "print(\"Utility ROCAUC on c9732 (LC1):\", rocauc)\n"
   ]
  },
  {
   "cell_type": "code",
   "execution_count": 9,
   "id": "4b727db4",
   "metadata": {},
   "outputs": [],
   "source": [
    "# Cell [7]: ML Inference Score\n",
    "\n",
    "from sklearn.metrics import roc_auc_score\n",
    "\n",
    "def ml_inference_score(real_df, syn_df,\n",
    "                       patient_id_col=\"patient_id\",\n",
    "                       event_col=\"event\",\n",
    "                       value_col=\"value\",\n",
    "                       time_col=\"time\",\n",
    "                       label_col=\"label\",\n",
    "                       epochs=5, hidden_size=64):\n",
    "    \"\"\"\n",
    "    1) Label real data with rs_label=0, synthetic data with rs_label=1\n",
    "    2) Combine them, shuffle\n",
    "    3) Create sequences for an LSTM-based classifier\n",
    "    4) Train the LSTM on part of the data and test on another (80/20) \n",
    "       to see how well it can separate real vs. synthetic\n",
    "    5) Return the ROC AUC (closer to 0.5 => more private)\n",
    "    \"\"\"\n",
    "\n",
    "    # A. Tag them\n",
    "    real_df = real_df.copy()\n",
    "    real_df[\"rs_label\"] = 0\n",
    "    syn_df = syn_df.copy()\n",
    "    syn_df[\"rs_label\"]  = 1\n",
    "\n",
    "    # B. Combine\n",
    "    combined_df = pd.concat([real_df, syn_df], axis=0).reset_index(drop=True)\n",
    "\n",
    "    # We'll create a new function that uses 'rs_label' as the classification target\n",
    "    # We'll rename 'label' to something else to avoid confusion\n",
    "    # or we just ignore it and rely on 'rs_label' only\n",
    "    combined_df[\"orig_label\"] = combined_df[label_col]  # keep old label if needed\n",
    "\n",
    "    # We'll define a helper to build sequences from 'rs_label' now\n",
    "    # We'll do a minimal version similar to process_patient_df, but we store 'rs_label' instead of 'label'\n",
    "    def process_df_for_inference(df):\n",
    "        df_list = df.groupby(patient_id_col).apply(\n",
    "            lambda x: [\n",
    "                x[event_col].tolist(),\n",
    "                x[value_col].tolist(),\n",
    "                x[time_col].tolist(),\n",
    "                x[\"rs_label\"].values[0]  # the real vs. synthetic label for that patient\n",
    "            ]\n",
    "        ).tolist()\n",
    "        return df_list\n",
    "\n",
    "    # create the list\n",
    "    comb_list = process_df_for_inference(combined_df)\n",
    "\n",
    "    # Pad, etc. reusing existing logic\n",
    "    comb_list, ml, e2i, i2e, mt, st = preprocess_data(comb_list, max_length=None)\n",
    "\n",
    "    # We'll do a random train/test 80/20\n",
    "    import random\n",
    "    random.shuffle(comb_list)\n",
    "    split_idx = int(len(comb_list)*0.8)\n",
    "    train_list = comb_list[:split_idx]\n",
    "    test_list  = comb_list[split_idx:]\n",
    "\n",
    "    train_dl = DataLoader(PatientDataset(train_list), batch_size=8, shuffle=True)\n",
    "    test_dl  = DataLoader(PatientDataset(test_list),  batch_size=8, shuffle=False)\n",
    "\n",
    "    vocab_size = len(e2i)\n",
    "    # define a simple LSTM classifier for real-vs-syn label\n",
    "    classifier = LSTMPredictor(num_embeddings=vocab_size, hidden_size=hidden_size)\n",
    "\n",
    "    trainer = pl.Trainer(max_epochs=epochs, enable_checkpointing=False, logger=False)\n",
    "    trainer.fit(model=classifier, train_dataloaders=train_dl)\n",
    "\n",
    "    # predict on test\n",
    "    preds = trainer.predict(classifier, test_dl)\n",
    "    preds = torch.cat(preds, dim=0).cpu().numpy().squeeze()\n",
    "\n",
    "    # gather test labels\n",
    "    test_labels = [t[3] for t in test_list]  # the 'rs_label'\n",
    "    auc_val = roc_auc_score(test_labels, preds)\n",
    "    return auc_val\n"
   ]
  },
  {
   "cell_type": "code",
   "execution_count": 10,
   "id": "93ade60b",
   "metadata": {},
   "outputs": [
    {
     "name": "stderr",
     "output_type": "stream",
     "text": [
      "/var/folders/tk/17szgjb53c52s1rvb1qj14q00000gn/T/ipykernel_96336/1757795076.py:38: DeprecationWarning: DataFrameGroupBy.apply operated on the grouping columns. This behavior is deprecated, and in a future version of pandas the grouping columns will be excluded from the operation. Either pass `include_groups=False` to exclude the groupings or explicitly select the grouping columns after groupby to silence this warning.\n",
      "  df_list = df.groupby(patient_id_col).apply(\n",
      "GPU available: True (mps), used: True\n",
      "TPU available: False, using: 0 TPU cores\n",
      "HPU available: False, using: 0 HPUs\n",
      "\n",
      "  | Name   | Type      | Params | Mode \n",
      "---------------------------------------------\n",
      "0 | emb    | Embedding | 2.4 K  | train\n",
      "1 | lstm   | LSTM      | 33.3 K | train\n",
      "2 | linear | Linear    | 65     | train\n",
      "---------------------------------------------\n",
      "35.7 K    Trainable params\n",
      "0         Non-trainable params\n",
      "35.7 K    Total params\n",
      "0.143     Total estimated model params size (MB)\n",
      "3         Modules in train mode\n",
      "0         Modules in eval mode\n",
      "/Users/mazinrafi/miniconda3/lib/python3.10/site-packages/lightning/pytorch/trainer/connectors/data_connector.py:425: The 'train_dataloader' does not have many workers which may be a bottleneck. Consider increasing the value of the `num_workers` argument` to `num_workers=7` in the `DataLoader` to improve performance.\n"
     ]
    },
    {
     "data": {
      "application/vnd.jupyter.widget-view+json": {
       "model_id": "6a24fc5bfee742f2a99ec9b70dd34622",
       "version_major": 2,
       "version_minor": 0
      },
      "text/plain": [
       "Training: |                                               | 0/? [00:00<?, ?it/s]"
      ]
     },
     "metadata": {},
     "output_type": "display_data"
    },
    {
     "name": "stderr",
     "output_type": "stream",
     "text": [
      "`Trainer.fit` stopped: `max_epochs=5` reached.\n",
      "/Users/mazinrafi/miniconda3/lib/python3.10/site-packages/lightning/pytorch/trainer/connectors/data_connector.py:425: The 'predict_dataloader' does not have many workers which may be a bottleneck. Consider increasing the value of the `num_workers` argument` to `num_workers=7` in the `DataLoader` to improve performance.\n"
     ]
    },
    {
     "data": {
      "application/vnd.jupyter.widget-view+json": {
       "model_id": "86d43020a8f4480485c7117255272815",
       "version_major": 2,
       "version_minor": 0
      },
      "text/plain": [
       "Predicting: |                                             | 0/? [00:00<?, ?it/s]"
      ]
     },
     "metadata": {},
     "output_type": "display_data"
    },
    {
     "name": "stdout",
     "output_type": "stream",
     "text": [
      "ML Inference Score (AUC). Closer to 0.5 => better privacy: 1.0\n"
     ]
    }
   ],
   "source": [
    "# Suppose we have df_merge (real) and gen_df (synthetic).\n",
    "rs_auc = ml_inference_score(df_merge, gen_df, epochs=5)\n",
    "print(\"ML Inference Score (AUC). Closer to 0.5 => better privacy:\", rs_auc)\n"
   ]
  },
  {
   "cell_type": "code",
   "execution_count": 11,
   "id": "73efbff7",
   "metadata": {},
   "outputs": [],
   "source": [
    "# Cell [8]: Distance to Closest Record (DCR)\n",
    "\n",
    "import math\n",
    "\n",
    "def featurize_events(df, patient_id_col=\"patient_id\", event_col=\"event\", time_col=\"time\"):\n",
    "    \"\"\"\n",
    "    Build a dictionary: pid -> (count_of_events, mean_time, std_time)\n",
    "    for each patient. \n",
    "    Simple approach: ignore event type variety, just count them.\n",
    "    \"\"\"\n",
    "    feat_dict = {}\n",
    "    for pid, subdf in df.groupby(patient_id_col):\n",
    "        times = subdf[time_col].values\n",
    "        c = len(times)\n",
    "        m = times.mean() if c>0 else 0\n",
    "        s = times.std() if c>1 else 0\n",
    "        feat_dict[pid] = (c, m, s)\n",
    "    return feat_dict\n",
    "\n",
    "def compute_dcr(real_df, syn_df,\n",
    "                patient_id_col=\"patient_id\", event_col=\"event\", time_col=\"time\"):\n",
    "    \"\"\"\n",
    "    1) featurize real -> real_feat\n",
    "    2) featurize syn -> syn_feat\n",
    "    3) for each syn patient, compute L2 distance to each real patient, take min\n",
    "    4) average these mins\n",
    "    \"\"\"\n",
    "    real_feat = featurize_events(real_df, patient_id_col, event_col, time_col)\n",
    "    syn_feat  = featurize_events(syn_df, patient_id_col, event_col, time_col)\n",
    "\n",
    "    real_keys = list(real_feat.keys())\n",
    "    syn_keys  = list(syn_feat.keys())\n",
    "\n",
    "    real_vecs = np.array([real_feat[k] for k in real_keys])\n",
    "    syn_vecs  = np.array([syn_feat[k]  for k in syn_keys])\n",
    "\n",
    "    # For each synthetic vector, compute min L2 distance to real vectors\n",
    "    dcr_list = []\n",
    "    for v in syn_vecs:\n",
    "        dists = np.sqrt(np.sum((real_vecs - v)**2, axis=1))\n",
    "        min_dist = dists.min()\n",
    "        dcr_list.append(min_dist)\n",
    "\n",
    "    return np.mean(dcr_list)\n"
   ]
  },
  {
   "cell_type": "code",
   "execution_count": 12,
   "id": "a723b837",
   "metadata": {},
   "outputs": [
    {
     "name": "stdout",
     "output_type": "stream",
     "text": [
      "Distance to Closest Record: 44.352346027975564\n"
     ]
    }
   ],
   "source": [
    "# compute DCR for LC1\n",
    "dcr_value = compute_dcr(df_merge, gen_df)\n",
    "print(\"Distance to Closest Record:\", dcr_value)\n"
   ]
  },
  {
   "cell_type": "code",
   "execution_count": 13,
   "id": "b1e040ae",
   "metadata": {},
   "outputs": [],
   "source": [
    "# Cell [9]: Dataset Attack\n",
    "\n",
    "def dataset_attack(real_df, syn_df,\n",
    "                   patient_id_col=\"patient_id\", event_col=\"event\", time_col=\"time\"):\n",
    "    \"\"\"\n",
    "    We'll compute the same feature vectors as DCR:\n",
    "    (count_of_events, mean_time, std_time), or more if needed.\n",
    "    Then combine real + synthetic. For each real record, find the single closest\n",
    "    record in that combined set. \n",
    "    If that closest is synthetic => label=1, else 0. Then we return the fraction of 1's.\n",
    "\n",
    "    The paper wants ~ 0.5 ideally.\n",
    "    \"\"\"\n",
    "\n",
    "    # 1) build feats\n",
    "    real_feat = featurize_events(real_df, patient_id_col, event_col, time_col)\n",
    "    syn_feat  = featurize_events(syn_df,  patient_id_col, event_col, time_col)\n",
    "\n",
    "    # 2) combine\n",
    "    all_keys  = list(real_feat.keys()) + list(syn_feat.keys())\n",
    "    all_feats = [real_feat[k] for k in real_feat.keys()] + [syn_feat[k] for k in syn_feat.keys()]\n",
    "    all_vecs  = np.array(all_feats)\n",
    "\n",
    "    # We'll store an index range to identify real vs syn\n",
    "    real_count = len(real_feat)\n",
    "    syn_count  = len(syn_feat)\n",
    "\n",
    "    # For each real subject i in [0..real_count-1], find the min distance in [0..(real+syn)-1].\n",
    "    # If that min index >= real_count, it means the closest is synthetic.\n",
    "    # We'll skip the distance to itself (which is 0).\n",
    "    # Implementation detail: We can do a quick brute force or fancy approach.\n",
    "\n",
    "    real_keys = list(real_feat.keys())\n",
    "    real_vecs = all_vecs[:real_count]\n",
    "\n",
    "    hits = 0\n",
    "    for i in range(real_count):\n",
    "        rvec = real_vecs[i]\n",
    "        # measure distance to all\n",
    "        dists = np.sqrt(np.sum((all_vecs - rvec)**2, axis=1))\n",
    "        dists[i] = 1e9  # ignore itself in the real list\n",
    "        min_idx = np.argmin(dists)\n",
    "        # if min_idx >= real_count => synthetic\n",
    "        if min_idx >= real_count:\n",
    "            hits += 1\n",
    "\n",
    "    # fraction\n",
    "    fraction = hits / real_count\n",
    "    return fraction\n"
   ]
  },
  {
   "cell_type": "code",
   "execution_count": 14,
   "id": "f2959361",
   "metadata": {},
   "outputs": [
    {
     "name": "stdout",
     "output_type": "stream",
     "text": [
      "Dataset Attack fraction. (closer to 0.5 => more private): 0.0034071550255536627\n"
     ]
    }
   ],
   "source": [
    "attack_val = dataset_attack(df_merge, gen_df)\n",
    "print(\"Dataset Attack fraction. (closer to 0.5 => more private):\", attack_val)\n"
   ]
  },
  {
   "cell_type": "code",
   "execution_count": null,
   "id": "052d8bf4",
   "metadata": {},
   "outputs": [],
   "source": [
    "#above seems to have failed. Let's try again"
   ]
  },
  {
   "cell_type": "code",
   "execution_count": 20,
   "id": "5b1e7627",
   "metadata": {},
   "outputs": [
    {
     "name": "stderr",
     "output_type": "stream",
     "text": [
      "/var/folders/tk/17szgjb53c52s1rvb1qj14q00000gn/T/ipykernel_96336/1925828069.py:317: DeprecationWarning: DataFrameGroupBy.apply operated on the grouping columns. This behavior is deprecated, and in a future version of pandas the grouping columns will be excluded from the operation. Either pass `include_groups=False` to exclude the groupings or explicitly select the grouping columns after groupby to silence this warning.\n",
      "  patient_list = df.groupby(patient_id_col).apply(\n",
      "GPU available: True (mps), used: True\n",
      "TPU available: False, using: 0 TPU cores\n",
      "HPU available: False, using: 0 HPUs\n"
     ]
    },
    {
     "name": "stdout",
     "output_type": "stream",
     "text": [
      "Merged shape: (20268, 5)\n",
      "   patient_id                  event  value  time  label\n",
      "0       12727                 b'wbc'    0.0     0      1\n",
      "1       12727           b'platelets'    0.0     1      1\n",
      "2       12727                 b'wbc'    0.0     2      1\n",
      "3       12727  b'granulocytes/bands'    0.0     3      1\n",
      "4       12727              b'nausea'    0.0     4      1\n",
      "Number of patients: 587\n",
      "max_length =  128\n",
      "num_events =  36\n"
     ]
    },
    {
     "name": "stderr",
     "output_type": "stream",
     "text": [
      "\n",
      "  | Name           | Type              | Params | Mode \n",
      "-------------------------------------------------------------\n",
      "0 | ts_encoder     | TransformerHawkes | 108 K  | train\n",
      "1 | decoder_linear | Sequential        | 21.0 K | train\n",
      "2 | hawkes_out     | Linear            | 4.6 K  | train\n",
      "3 | fc_mu          | Sequential        | 4.1 K  | train\n",
      "4 | fc_var         | Sequential        | 4.1 K  | train\n",
      "-------------------------------------------------------------\n",
      "142 K     Trainable params\n",
      "0         Non-trainable params\n",
      "142 K     Total params\n",
      "0.570     Total estimated model params size (MB)\n",
      "40        Modules in train mode\n",
      "0         Modules in eval mode\n"
     ]
    },
    {
     "data": {
      "application/vnd.jupyter.widget-view+json": {
       "model_id": "",
       "version_major": 2,
       "version_minor": 0
      },
      "text/plain": [
       "Sanity Checking: |                                        | 0/? [00:00<?, ?it/s]"
      ]
     },
     "metadata": {},
     "output_type": "display_data"
    },
    {
     "name": "stderr",
     "output_type": "stream",
     "text": [
      "/Users/mazinrafi/miniconda3/lib/python3.10/site-packages/lightning/pytorch/trainer/connectors/data_connector.py:425: The 'val_dataloader' does not have many workers which may be a bottleneck. Consider increasing the value of the `num_workers` argument` to `num_workers=7` in the `DataLoader` to improve performance.\n",
      "/Users/mazinrafi/miniconda3/lib/python3.10/site-packages/lightning/pytorch/trainer/connectors/data_connector.py:425: The 'train_dataloader' does not have many workers which may be a bottleneck. Consider increasing the value of the `num_workers` argument` to `num_workers=7` in the `DataLoader` to improve performance.\n",
      "/Users/mazinrafi/miniconda3/lib/python3.10/site-packages/lightning/pytorch/loops/fit_loop.py:310: The number of training batches (37) is smaller than the logging interval Trainer(log_every_n_steps=50). Set a lower value for log_every_n_steps if you want to see logs for the training epoch.\n"
     ]
    },
    {
     "data": {
      "application/vnd.jupyter.widget-view+json": {
       "model_id": "ed9f92bfb14d4fa8b1489f03910d02b2",
       "version_major": 2,
       "version_minor": 0
      },
      "text/plain": [
       "Training: |                                               | 0/? [00:00<?, ?it/s]"
      ]
     },
     "metadata": {},
     "output_type": "display_data"
    },
    {
     "data": {
      "application/vnd.jupyter.widget-view+json": {
       "model_id": "",
       "version_major": 2,
       "version_minor": 0
      },
      "text/plain": [
       "Validation: |                                             | 0/? [00:00<?, ?it/s]"
      ]
     },
     "metadata": {},
     "output_type": "display_data"
    },
    {
     "data": {
      "application/vnd.jupyter.widget-view+json": {
       "model_id": "",
       "version_major": 2,
       "version_minor": 0
      },
      "text/plain": [
       "Validation: |                                             | 0/? [00:00<?, ?it/s]"
      ]
     },
     "metadata": {},
     "output_type": "display_data"
    },
    {
     "data": {
      "application/vnd.jupyter.widget-view+json": {
       "model_id": "",
       "version_major": 2,
       "version_minor": 0
      },
      "text/plain": [
       "Validation: |                                             | 0/? [00:00<?, ?it/s]"
      ]
     },
     "metadata": {},
     "output_type": "display_data"
    },
    {
     "data": {
      "application/vnd.jupyter.widget-view+json": {
       "model_id": "",
       "version_major": 2,
       "version_minor": 0
      },
      "text/plain": [
       "Validation: |                                             | 0/? [00:00<?, ?it/s]"
      ]
     },
     "metadata": {},
     "output_type": "display_data"
    },
    {
     "data": {
      "application/vnd.jupyter.widget-view+json": {
       "model_id": "",
       "version_major": 2,
       "version_minor": 0
      },
      "text/plain": [
       "Validation: |                                             | 0/? [00:00<?, ?it/s]"
      ]
     },
     "metadata": {},
     "output_type": "display_data"
    },
    {
     "data": {
      "application/vnd.jupyter.widget-view+json": {
       "model_id": "",
       "version_major": 2,
       "version_minor": 0
      },
      "text/plain": [
       "Validation: |                                             | 0/? [00:00<?, ?it/s]"
      ]
     },
     "metadata": {},
     "output_type": "display_data"
    },
    {
     "data": {
      "application/vnd.jupyter.widget-view+json": {
       "model_id": "",
       "version_major": 2,
       "version_minor": 0
      },
      "text/plain": [
       "Validation: |                                             | 0/? [00:00<?, ?it/s]"
      ]
     },
     "metadata": {},
     "output_type": "display_data"
    },
    {
     "data": {
      "application/vnd.jupyter.widget-view+json": {
       "model_id": "",
       "version_major": 2,
       "version_minor": 0
      },
      "text/plain": [
       "Validation: |                                             | 0/? [00:00<?, ?it/s]"
      ]
     },
     "metadata": {},
     "output_type": "display_data"
    },
    {
     "data": {
      "application/vnd.jupyter.widget-view+json": {
       "model_id": "",
       "version_major": 2,
       "version_minor": 0
      },
      "text/plain": [
       "Validation: |                                             | 0/? [00:00<?, ?it/s]"
      ]
     },
     "metadata": {},
     "output_type": "display_data"
    },
    {
     "data": {
      "application/vnd.jupyter.widget-view+json": {
       "model_id": "",
       "version_major": 2,
       "version_minor": 0
      },
      "text/plain": [
       "Validation: |                                             | 0/? [00:00<?, ?it/s]"
      ]
     },
     "metadata": {},
     "output_type": "display_data"
    },
    {
     "name": "stderr",
     "output_type": "stream",
     "text": [
      "`Trainer.fit` stopped: `max_epochs=10` reached.\n",
      "/var/folders/tk/17szgjb53c52s1rvb1qj14q00000gn/T/ipykernel_96336/3951018379.py:117: UserWarning: To copy construct from a tensor, it is recommended to use sourceTensor.clone().detach() or sourceTensor.clone().detach().requires_grad_(True), rather than torch.tensor(sourceTensor).\n",
      "  values_tensor = torch.tensor(batch[1]).unsqueeze(0)\n"
     ]
    },
    {
     "data": {
      "image/png": "[encoded data removed]",
      "text/plain": [
       "<Figure size 700x3200 with 16 Axes>"
      ]
     },
     "metadata": {},
     "output_type": "display_data"
    },
    {
     "name": "stdout",
     "output_type": "stream",
     "text": [
      "Done. Figure above shows real vs. generated times for events of patient 12727.\n"
     ]
    }
   ],
   "source": [
    "# A) Scale the time column more aggressively\n",
    "# e.g., if time ranges up to 200 or 300, dividing it down to 0-20 range:\n",
    "df_merge[\"time\"] = df_merge[\"time\"]  # change and experiment\n",
    "\n",
    "# B) Adjust var_multiplier inside your VAE or after training\n",
    "# If code references self.var_multiplier somewhere, set it <1.0\n",
    "model.var_multiplier = 2\n",
    "\n",
    "import pandas as pd\n",
    "import torch\n",
    "from lightning.pytorch.callbacks import TQDMProgressBar\n",
    "from lightning.pytorch import Trainer\n",
    "\n",
    "###################################\n",
    "#  A) Load c9732_ae and c9732_demo\n",
    "###################################\n",
    "df_ae = pd.read_excel(\"/Users/mazinrafi/Downloads/c9732_ae.xlsx\")  # adapt path\n",
    "df_demo = pd.read_excel(\"/Users/mazinrafi/Downloads/c9732_demographic.xlsx\")  # adapt path\n",
    "\n",
    "# We'll define label=1 if STATUS=2, else 0\n",
    "df_demo[\"label\"] = df_demo[\"STATUS\"].apply(lambda x: 1 if x==2 else 0)\n",
    "\n",
    "# Instead of referencing a CYCLE column (which doesn't exist), \n",
    "# we'll define time by the row order within each patient:\n",
    "df_ae[\"time\"] = df_ae.groupby(\"PHATOM_ID\").cumcount()\n",
    "\n",
    "# Merge with the demo to get 'label' for each patient\n",
    "df_merge = df_ae.merge(df_demo[[\"PHATOM_ID\",\"label\"]], on=\"PHATOM_ID\", how=\"left\")\n",
    "\n",
    "# Rename columns to match code\n",
    "df_merge = df_merge.rename(columns={\n",
    "    \"PHATOM_ID\": \"patient_id\",\n",
    "    \"AE_NAME\":    \"event\",\n",
    "})\n",
    "\n",
    "df_merge[\"value\"] = 0.0\n",
    "df_merge[\"event\"] = df_merge[\"event\"].astype(str)\n",
    "\n",
    "# Keep columns in the final order the code expects\n",
    "df_merge = df_merge[[\"patient_id\",\"event\",\"value\",\"time\",\"label\"]]\n",
    "df_merge = df_merge.sort_values([\"patient_id\",\"time\"]).reset_index(drop=True)\n",
    "\n",
    "print(\"Merged shape:\", df_merge.shape)\n",
    "print(df_merge.head())\n",
    "\n",
    "###################################\n",
    "#  B) Preprocess -> build \"patients_list\"\n",
    "###################################\n",
    "patient_id_col = \"patient_id\"\n",
    "indicator_col  = \"event\"\n",
    "value_num_col  = \"value\"\n",
    "time_col       = \"time\"\n",
    "label_col      = \"label\"\n",
    "\n",
    "# OR if you have them in the same notebook, you can just call them directly without import\n",
    "\n",
    "patients_list = process_patient_df(\n",
    "    df_merge,\n",
    "    patient_id_col, indicator_col, value_num_col, time_col, label_col\n",
    ")\n",
    "print(\"Number of patients:\", len(patients_list))\n",
    "\n",
    "patients_list, max_length, events2ind, ind2events, mean_t, std_t = preprocess_data(\n",
    "    patients_list,\n",
    "    max_length=None\n",
    ")\n",
    "print(\"max_length = \", max_length)\n",
    "print(\"num_events = \", len(events2ind))\n",
    "\n",
    "datamodule = EventDataModule(patients_list, batch_size=16)\n",
    "\n",
    "###################################\n",
    "#  C) Train the VAE + Hawkes\n",
    "###################################\n",
    "model = VAE(\n",
    "    max_len=max_length,\n",
    "    all_latent_dim=32*max_length,\n",
    "    embedding_dim=128,\n",
    "    num_embeddings=len(events2ind),\n",
    "    end_token_ind=events2ind[\"[END]\"]+1\n",
    ")\n",
    "\n",
    "trainer = Trainer(max_epochs=10, callbacks=[TQDMProgressBar(refresh_rate=20)], enable_checkpointing=False)\n",
    "trainer.fit(model, datamodule=datamodule)\n",
    "\n",
    "###################################\n",
    "#  D) Generate & Plot for one patient\n",
    "###################################\n",
    "pid_of_interest = df_merge[\"patient_id\"].unique()[0]\n",
    "onepat_df = df_merge[df_merge[\"patient_id\"]==pid_of_interest].copy()\n",
    "onepat_list = [\n",
    "    onepat_df[indicator_col].tolist(),\n",
    "    onepat_df[value_num_col].tolist(),\n",
    "    onepat_df[time_col].tolist(),\n",
    "    int(onepat_df[label_col].iloc[0])\n",
    "]\n",
    "\n",
    "# Insert [END]\n",
    "onepat_list[0].append(\"[END]\")\n",
    "onepat_list[1].append(0.0)\n",
    "onepat_list[2].append(onepat_list[2][-1])\n",
    "\n",
    "temp_list = [onepat_list]\n",
    "temp_list, _, _, _, _, _ = preprocess_data(\n",
    "    temp_list,\n",
    "    max_length=max_length,\n",
    "    events2ind=events2ind,\n",
    "    ind2events=ind2events,\n",
    "    mean_time=mean_t,\n",
    "    std_time=std_t\n",
    ")\n",
    "\n",
    "model.eval()\n",
    "with torch.no_grad():\n",
    "    batch = temp_list[0]\n",
    "    events_tensor = batch[0].unsqueeze(0)\n",
    "    values_tensor = torch.tensor(batch[1]).unsqueeze(0)\n",
    "    times_tensor  = batch[2].unsqueeze(0)\n",
    "    label_val     = torch.tensor([batch[3]])\n",
    "    out = model((events_tensor, values_tensor, times_tensor, label_val))\n",
    "    type_pred, time_pred, hid, z, mu, std = out\n",
    "\n",
    "type_pred = torch.softmax(type_pred, dim=-1).squeeze(0).cpu().numpy()\n",
    "time_pred = time_pred.squeeze(0).squeeze(-1).cpu().numpy()\n",
    "argmax_types = np.argmax(type_pred, axis=-1)\n",
    "pred_event_names = [ind2events[a-1] if a>0 else \"PAD\" for a in argmax_types]\n",
    "cumulative_time = np.cumsum(time_pred)*std_t\n",
    "\n",
    "# Real data\n",
    "real_events = onepat_df[indicator_col].tolist()\n",
    "real_times  = onepat_df[time_col].tolist()\n",
    "\n",
    "# Combined unique event names\n",
    "all_events = sorted(set(real_events + pred_event_names) - set([\"[END]\",\"PAD\"]))\n",
    "\n",
    "# map real/pred\n",
    "real_map = {}\n",
    "for e,t in zip(real_events, real_times):\n",
    "    real_map.setdefault(e, []).append(t)\n",
    "pred_map = {}\n",
    "for e,t in zip(pred_event_names, cumulative_time):\n",
    "    if e in (\"[END]\",\"PAD\"):\n",
    "        break\n",
    "    pred_map.setdefault(e, []).append(t)\n",
    "\n",
    "import matplotlib.pyplot as plt\n",
    "\n",
    "fig, axes = plt.subplots(nrows=len(all_events), ncols=1, figsize=(7,2*len(all_events)))\n",
    "if len(all_events) == 1:\n",
    "    axes = [axes]\n",
    "\n",
    "for ax, e_name in zip(axes, all_events):\n",
    "    r_times = real_map.get(e_name, [])\n",
    "    p_times = pred_map.get(e_name, [])\n",
    "    ax.scatter(r_times, [0]*len(r_times), color='red', label='Real')\n",
    "    ax.scatter(p_times, [1]*len(p_times), color='blue', label='Gen')\n",
    "    ax.set_yticks([0,1]); ax.set_yticklabels([\"Real\",\"Gen\"])\n",
    "    ax.set_title(e_name)\n",
    "\n",
    "plt.tight_layout()\n",
    "plt.show()\n",
    "print(f\"Done. Figure above shows real vs. generated times for events of patient {pid_of_interest}.\")\n"
   ]
  },
  {
   "cell_type": "code",
   "execution_count": 18,
   "id": "aeb460f3",
   "metadata": {},
   "outputs": [],
   "source": [
    "# Cell [5A]: Utility (ROCAUC) with repeated runs, consistent train/test splits\n",
    "\n",
    "import random\n",
    "import numpy as np\n",
    "from sklearn.metrics import roc_auc_score\n",
    "\n",
    "def train_downstream_classifier_repeated(\n",
    "    syn_df,\n",
    "    real_df,\n",
    "    patient_id_col=\"patient_id\",\n",
    "    event_col=\"event\",\n",
    "    value_col=\"value\",\n",
    "    time_col=\"time\",\n",
    "    label_col=\"label\",\n",
    "    num_epochs=5,\n",
    "    hidden_size=64,\n",
    "    n_runs=5,\n",
    "    test_ratio=0.2,\n",
    "    random_seeds=(42,43,44,45,46)\n",
    "):\n",
    "    \"\"\"\n",
    "    Repeated approach:\n",
    "      1) For each run (with a different random seed):\n",
    "         - pick a random test set from real (test_ratio)\n",
    "         - train LSTM on synthetic\n",
    "         - measure ROC AUC on real test\n",
    "      2) Collect the AUCs and return mean ± std.\n",
    "    \"\"\"\n",
    "\n",
    "    # Prepare the synthetic data => used for training every run\n",
    "    syn_list, syn_ml, syn_e2i, syn_i2e, syn_mt, syn_st = prepare_dataset_for_lstm(\n",
    "        syn_df, patient_id_col, event_col, value_col, time_col, label_col\n",
    "    )\n",
    "    syn_data = DataLoader(PatientDataset(syn_list), batch_size=8, shuffle=True)\n",
    "\n",
    "    rocs = []\n",
    "\n",
    "    pid_list = list(real_df[patient_id_col].unique())\n",
    "    for run_i, seed_val in enumerate(random_seeds):\n",
    "        random.seed(seed_val)\n",
    "        np.random.seed(seed_val)\n",
    "        torch.manual_seed(seed_val)\n",
    "        # pick test set\n",
    "        random.shuffle(pid_list)\n",
    "        test_n = int(len(pid_list)*test_ratio)\n",
    "        test_pids = set(pid_list[:test_n])\n",
    "        test_df = real_df[real_df[patient_id_col].isin(test_pids)].copy()\n",
    "\n",
    "        # build test list\n",
    "        test_list, _, _, _, _, _ = prepare_dataset_for_lstm(\n",
    "            test_df, patient_id_col, event_col, value_col, time_col, label_col\n",
    "        )\n",
    "        test_data = DataLoader(PatientDataset(test_list), batch_size=8, shuffle=False)\n",
    "\n",
    "        # unify vocab size\n",
    "        vocab_size = max(len(syn_e2i), 1)\n",
    "        # define classifier\n",
    "        classifier = LSTMPredictor(num_embeddings=vocab_size, hidden_size=hidden_size)\n",
    "\n",
    "        trainer = pl.Trainer(max_epochs=num_epochs, enable_checkpointing=False, logger=False)\n",
    "        # fit on synthetic\n",
    "        trainer.fit(model=classifier, train_dataloaders=syn_data)\n",
    "\n",
    "        # predict on real test\n",
    "        preds = trainer.predict(model=classifier, dataloaders=test_data)\n",
    "        preds = torch.cat(preds, dim=0).cpu().squeeze().numpy()\n",
    "        true_labels = [test_list[ii][3] for ii in range(len(test_list))]\n",
    "        auc_val = roc_auc_score(true_labels, preds)\n",
    "        rocs.append(auc_val)\n",
    "\n",
    "    mean_ = np.mean(rocs)\n",
    "    std_  = np.std(rocs)\n",
    "    return mean_, std_\n",
    "\n",
    "def prepare_dataset_for_lstm(df, patient_id_col, event_col, value_col, time_col, label_col):\n",
    "    pat_list = process_patient_df(df, patient_id_col, event_col, value_col, time_col, label_col)\n",
    "    pat_list, ml, e2i, i2e, mt, st = preprocess_data(pat_list, max_length=None)\n",
    "    return pat_list, ml, e2i, i2e, mt, st\n"
   ]
  },
  {
   "cell_type": "code",
   "execution_count": 19,
   "id": "c3285971",
   "metadata": {},
   "outputs": [
    {
     "name": "stderr",
     "output_type": "stream",
     "text": [
      "/var/folders/tk/17szgjb53c52s1rvb1qj14q00000gn/T/ipykernel_96336/1925828069.py:317: DeprecationWarning: DataFrameGroupBy.apply operated on the grouping columns. This behavior is deprecated, and in a future version of pandas the grouping columns will be excluded from the operation. Either pass `include_groups=False` to exclude the groupings or explicitly select the grouping columns after groupby to silence this warning.\n",
      "  patient_list = df.groupby(patient_id_col).apply(\n",
      "/var/folders/tk/17szgjb53c52s1rvb1qj14q00000gn/T/ipykernel_96336/1925828069.py:317: DeprecationWarning: DataFrameGroupBy.apply operated on the grouping columns. This behavior is deprecated, and in a future version of pandas the grouping columns will be excluded from the operation. Either pass `include_groups=False` to exclude the groupings or explicitly select the grouping columns after groupby to silence this warning.\n",
      "  patient_list = df.groupby(patient_id_col).apply(\n",
      "GPU available: True (mps), used: True\n",
      "TPU available: False, using: 0 TPU cores\n",
      "HPU available: False, using: 0 HPUs\n",
      "\n",
      "  | Name   | Type      | Params | Mode \n",
      "---------------------------------------------\n",
      "0 | emb    | Embedding | 1.5 K  | train\n",
      "1 | lstm   | LSTM      | 33.3 K | train\n",
      "2 | linear | Linear    | 65     | train\n",
      "---------------------------------------------\n",
      "34.8 K    Trainable params\n",
      "0         Non-trainable params\n",
      "34.8 K    Total params\n",
      "0.139     Total estimated model params size (MB)\n",
      "3         Modules in train mode\n",
      "0         Modules in eval mode\n",
      "/Users/mazinrafi/miniconda3/lib/python3.10/site-packages/lightning/pytorch/trainer/connectors/data_connector.py:425: The 'train_dataloader' does not have many workers which may be a bottleneck. Consider increasing the value of the `num_workers` argument` to `num_workers=7` in the `DataLoader` to improve performance.\n"
     ]
    },
    {
     "data": {
      "application/vnd.jupyter.widget-view+json": {
       "model_id": "26d7fe532146426e984f995aca946e42",
       "version_major": 2,
       "version_minor": 0
      },
      "text/plain": [
       "Training: |                                               | 0/? [00:00<?, ?it/s]"
      ]
     },
     "metadata": {},
     "output_type": "display_data"
    },
    {
     "name": "stderr",
     "output_type": "stream",
     "text": [
      "`Trainer.fit` stopped: `max_epochs=5` reached.\n",
      "/Users/mazinrafi/miniconda3/lib/python3.10/site-packages/lightning/pytorch/trainer/connectors/data_connector.py:425: The 'predict_dataloader' does not have many workers which may be a bottleneck. Consider increasing the value of the `num_workers` argument` to `num_workers=7` in the `DataLoader` to improve performance.\n"
     ]
    },
    {
     "data": {
      "application/vnd.jupyter.widget-view+json": {
       "model_id": "c36a901f33094452b4e0b8ecded1bc81",
       "version_major": 2,
       "version_minor": 0
      },
      "text/plain": [
       "Predicting: |                                             | 0/? [00:00<?, ?it/s]"
      ]
     },
     "metadata": {},
     "output_type": "display_data"
    },
    {
     "name": "stderr",
     "output_type": "stream",
     "text": [
      "/var/folders/tk/17szgjb53c52s1rvb1qj14q00000gn/T/ipykernel_96336/1925828069.py:317: DeprecationWarning: DataFrameGroupBy.apply operated on the grouping columns. This behavior is deprecated, and in a future version of pandas the grouping columns will be excluded from the operation. Either pass `include_groups=False` to exclude the groupings or explicitly select the grouping columns after groupby to silence this warning.\n",
      "  patient_list = df.groupby(patient_id_col).apply(\n",
      "GPU available: True (mps), used: True\n",
      "TPU available: False, using: 0 TPU cores\n",
      "HPU available: False, using: 0 HPUs\n",
      "\n",
      "  | Name   | Type      | Params | Mode \n",
      "---------------------------------------------\n",
      "0 | emb    | Embedding | 1.5 K  | train\n",
      "1 | lstm   | LSTM      | 33.3 K | train\n",
      "2 | linear | Linear    | 65     | train\n",
      "---------------------------------------------\n",
      "34.8 K    Trainable params\n",
      "0         Non-trainable params\n",
      "34.8 K    Total params\n",
      "0.139     Total estimated model params size (MB)\n",
      "3         Modules in train mode\n",
      "0         Modules in eval mode\n",
      "/Users/mazinrafi/miniconda3/lib/python3.10/site-packages/lightning/pytorch/trainer/connectors/data_connector.py:425: The 'train_dataloader' does not have many workers which may be a bottleneck. Consider increasing the value of the `num_workers` argument` to `num_workers=7` in the `DataLoader` to improve performance.\n"
     ]
    },
    {
     "data": {
      "application/vnd.jupyter.widget-view+json": {
       "model_id": "a6a0b5755c244501b72e005a9a8d3eee",
       "version_major": 2,
       "version_minor": 0
      },
      "text/plain": [
       "Training: |                                               | 0/? [00:00<?, ?it/s]"
      ]
     },
     "metadata": {},
     "output_type": "display_data"
    },
    {
     "name": "stderr",
     "output_type": "stream",
     "text": [
      "`Trainer.fit` stopped: `max_epochs=5` reached.\n",
      "/Users/mazinrafi/miniconda3/lib/python3.10/site-packages/lightning/pytorch/trainer/connectors/data_connector.py:425: The 'predict_dataloader' does not have many workers which may be a bottleneck. Consider increasing the value of the `num_workers` argument` to `num_workers=7` in the `DataLoader` to improve performance.\n"
     ]
    },
    {
     "data": {
      "application/vnd.jupyter.widget-view+json": {
       "model_id": "9baff52e21f644cda58c340c61cbfac8",
       "version_major": 2,
       "version_minor": 0
      },
      "text/plain": [
       "Predicting: |                                             | 0/? [00:00<?, ?it/s]"
      ]
     },
     "metadata": {},
     "output_type": "display_data"
    },
    {
     "name": "stderr",
     "output_type": "stream",
     "text": [
      "/var/folders/tk/17szgjb53c52s1rvb1qj14q00000gn/T/ipykernel_96336/1925828069.py:317: DeprecationWarning: DataFrameGroupBy.apply operated on the grouping columns. This behavior is deprecated, and in a future version of pandas the grouping columns will be excluded from the operation. Either pass `include_groups=False` to exclude the groupings or explicitly select the grouping columns after groupby to silence this warning.\n",
      "  patient_list = df.groupby(patient_id_col).apply(\n",
      "GPU available: True (mps), used: True\n",
      "TPU available: False, using: 0 TPU cores\n",
      "HPU available: False, using: 0 HPUs\n",
      "\n",
      "  | Name   | Type      | Params | Mode \n",
      "---------------------------------------------\n",
      "0 | emb    | Embedding | 1.5 K  | train\n",
      "1 | lstm   | LSTM      | 33.3 K | train\n",
      "2 | linear | Linear    | 65     | train\n",
      "---------------------------------------------\n",
      "34.8 K    Trainable params\n",
      "0         Non-trainable params\n",
      "34.8 K    Total params\n",
      "0.139     Total estimated model params size (MB)\n",
      "3         Modules in train mode\n",
      "0         Modules in eval mode\n",
      "/Users/mazinrafi/miniconda3/lib/python3.10/site-packages/lightning/pytorch/trainer/connectors/data_connector.py:425: The 'train_dataloader' does not have many workers which may be a bottleneck. Consider increasing the value of the `num_workers` argument` to `num_workers=7` in the `DataLoader` to improve performance.\n"
     ]
    },
    {
     "data": {
      "application/vnd.jupyter.widget-view+json": {
       "model_id": "0f3a7010ea9d422389a712e167877bc1",
       "version_major": 2,
       "version_minor": 0
      },
      "text/plain": [
       "Training: |                                               | 0/? [00:00<?, ?it/s]"
      ]
     },
     "metadata": {},
     "output_type": "display_data"
    },
    {
     "name": "stderr",
     "output_type": "stream",
     "text": [
      "`Trainer.fit` stopped: `max_epochs=5` reached.\n",
      "/Users/mazinrafi/miniconda3/lib/python3.10/site-packages/lightning/pytorch/trainer/connectors/data_connector.py:425: The 'predict_dataloader' does not have many workers which may be a bottleneck. Consider increasing the value of the `num_workers` argument` to `num_workers=7` in the `DataLoader` to improve performance.\n"
     ]
    },
    {
     "data": {
      "application/vnd.jupyter.widget-view+json": {
       "model_id": "6e8696e2f4114ffd98d1a076754e6f93",
       "version_major": 2,
       "version_minor": 0
      },
      "text/plain": [
       "Predicting: |                                             | 0/? [00:00<?, ?it/s]"
      ]
     },
     "metadata": {},
     "output_type": "display_data"
    },
    {
     "name": "stderr",
     "output_type": "stream",
     "text": [
      "/var/folders/tk/17szgjb53c52s1rvb1qj14q00000gn/T/ipykernel_96336/1925828069.py:317: DeprecationWarning: DataFrameGroupBy.apply operated on the grouping columns. This behavior is deprecated, and in a future version of pandas the grouping columns will be excluded from the operation. Either pass `include_groups=False` to exclude the groupings or explicitly select the grouping columns after groupby to silence this warning.\n",
      "  patient_list = df.groupby(patient_id_col).apply(\n",
      "GPU available: True (mps), used: True\n",
      "TPU available: False, using: 0 TPU cores\n",
      "HPU available: False, using: 0 HPUs\n",
      "\n",
      "  | Name   | Type      | Params | Mode \n",
      "---------------------------------------------\n",
      "0 | emb    | Embedding | 1.5 K  | train\n",
      "1 | lstm   | LSTM      | 33.3 K | train\n",
      "2 | linear | Linear    | 65     | train\n",
      "---------------------------------------------\n",
      "34.8 K    Trainable params\n",
      "0         Non-trainable params\n",
      "34.8 K    Total params\n",
      "0.139     Total estimated model params size (MB)\n",
      "3         Modules in train mode\n",
      "0         Modules in eval mode\n",
      "/Users/mazinrafi/miniconda3/lib/python3.10/site-packages/lightning/pytorch/trainer/connectors/data_connector.py:425: The 'train_dataloader' does not have many workers which may be a bottleneck. Consider increasing the value of the `num_workers` argument` to `num_workers=7` in the `DataLoader` to improve performance.\n"
     ]
    },
    {
     "data": {
      "application/vnd.jupyter.widget-view+json": {
       "model_id": "81aedfb7cc5f47fdb93f757efc3d9908",
       "version_major": 2,
       "version_minor": 0
      },
      "text/plain": [
       "Training: |                                               | 0/? [00:00<?, ?it/s]"
      ]
     },
     "metadata": {},
     "output_type": "display_data"
    },
    {
     "name": "stderr",
     "output_type": "stream",
     "text": [
      "`Trainer.fit` stopped: `max_epochs=5` reached.\n",
      "/Users/mazinrafi/miniconda3/lib/python3.10/site-packages/lightning/pytorch/trainer/connectors/data_connector.py:425: The 'predict_dataloader' does not have many workers which may be a bottleneck. Consider increasing the value of the `num_workers` argument` to `num_workers=7` in the `DataLoader` to improve performance.\n"
     ]
    },
    {
     "data": {
      "application/vnd.jupyter.widget-view+json": {
       "model_id": "e4f863d50cc8446f81ce884a9b1da6fa",
       "version_major": 2,
       "version_minor": 0
      },
      "text/plain": [
       "Predicting: |                                             | 0/? [00:00<?, ?it/s]"
      ]
     },
     "metadata": {},
     "output_type": "display_data"
    },
    {
     "name": "stderr",
     "output_type": "stream",
     "text": [
      "/var/folders/tk/17szgjb53c52s1rvb1qj14q00000gn/T/ipykernel_96336/1925828069.py:317: DeprecationWarning: DataFrameGroupBy.apply operated on the grouping columns. This behavior is deprecated, and in a future version of pandas the grouping columns will be excluded from the operation. Either pass `include_groups=False` to exclude the groupings or explicitly select the grouping columns after groupby to silence this warning.\n",
      "  patient_list = df.groupby(patient_id_col).apply(\n",
      "GPU available: True (mps), used: True\n",
      "TPU available: False, using: 0 TPU cores\n",
      "HPU available: False, using: 0 HPUs\n",
      "\n",
      "  | Name   | Type      | Params | Mode \n",
      "---------------------------------------------\n",
      "0 | emb    | Embedding | 1.5 K  | train\n",
      "1 | lstm   | LSTM      | 33.3 K | train\n",
      "2 | linear | Linear    | 65     | train\n",
      "---------------------------------------------\n",
      "34.8 K    Trainable params\n",
      "0         Non-trainable params\n",
      "34.8 K    Total params\n",
      "0.139     Total estimated model params size (MB)\n",
      "3         Modules in train mode\n",
      "0         Modules in eval mode\n",
      "/Users/mazinrafi/miniconda3/lib/python3.10/site-packages/lightning/pytorch/trainer/connectors/data_connector.py:425: The 'train_dataloader' does not have many workers which may be a bottleneck. Consider increasing the value of the `num_workers` argument` to `num_workers=7` in the `DataLoader` to improve performance.\n"
     ]
    },
    {
     "data": {
      "application/vnd.jupyter.widget-view+json": {
       "model_id": "3f853f1c1b734445b5e18033a77f1984",
       "version_major": 2,
       "version_minor": 0
      },
      "text/plain": [
       "Training: |                                               | 0/? [00:00<?, ?it/s]"
      ]
     },
     "metadata": {},
     "output_type": "display_data"
    },
    {
     "name": "stderr",
     "output_type": "stream",
     "text": [
      "`Trainer.fit` stopped: `max_epochs=5` reached.\n",
      "/Users/mazinrafi/miniconda3/lib/python3.10/site-packages/lightning/pytorch/trainer/connectors/data_connector.py:425: The 'predict_dataloader' does not have many workers which may be a bottleneck. Consider increasing the value of the `num_workers` argument` to `num_workers=7` in the `DataLoader` to improve performance.\n"
     ]
    },
    {
     "data": {
      "application/vnd.jupyter.widget-view+json": {
       "model_id": "a46d2f82a8434fecaf9825d6deddd13f",
       "version_major": 2,
       "version_minor": 0
      },
      "text/plain": [
       "Predicting: |                                             | 0/? [00:00<?, ?it/s]"
      ]
     },
     "metadata": {},
     "output_type": "display_data"
    },
    {
     "name": "stdout",
     "output_type": "stream",
     "text": [
      "Utility ROCAUC on c9732: 0.515 ± 0.078\n"
     ]
    }
   ],
   "source": [
    "#let's say we have gen_df from the model:\n",
    "mean_roc, std_roc = train_downstream_classifier_repeated(\n",
    "    syn_df=gen_df,\n",
    "    real_df=df_merge,\n",
    "    num_epochs=5,\n",
    "    n_runs=5\n",
    ")\n",
    "print(f\"Utility ROCAUC on c9732: {mean_roc:.3f} ± {std_roc:.3f}\")\n"
   ]
  }
 ],
 "metadata": {
  "kernelspec": {
   "display_name": "Python 3 (ipykernel)",
   "language": "python",
   "name": "python3"
  },
  "language_info": {
   "codemirror_mode": {
    "name": "ipython",
    "version": 3
   },
   "file_extension": ".py",
   "mimetype": "text/x-python",
   "name": "python",
   "nbconvert_exporter": "python",
   "pygments_lexer": "ipython3",
   "version": "3.10.8"
  }
 },
 "nbformat": 4,
 "nbformat_minor": 5
}
