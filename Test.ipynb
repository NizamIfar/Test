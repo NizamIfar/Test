{
 "cells": [
  {
   "cell_type": "code",
   "execution_count": 1,
   "id": "cfb0393a",
   "metadata": {},
   "outputs": [
    {
     "name": "stdout",
     "output_type": "stream",
     "text": [
      "lower: [0, 1, 2, 3, 4]\n",
      "upper: [5, 6, 7, 8, 9]\n"
     ]
    }
   ],
   "source": [
    "#Link to original document: https://jakevdp.github.io/WhirlwindTourOfPython/index.html \n",
    "#Required reading was for Chapters 3-9\n",
    "\n",
    "# set the midpoint\n",
    "midpoint = 5\n",
    "\n",
    "# make two empty lists\n",
    "lower = []; upper = [] #note that the ; terminates the code early. \n",
    "\n",
    "# split the numbers into lower and upper\n",
    "for i in range(10):\n",
    "    if (i < midpoint):\n",
    "        lower.append(i)\n",
    "    else:\n",
    "        upper.append(i)\n",
    "        \n",
    "print(\"lower:\", lower)\n",
    "print(\"upper:\", upper)"
   ]
  },
  {
   "cell_type": "code",
   "execution_count": 10,
   "id": "2266386e",
   "metadata": {},
   "outputs": [
    {
     "name": "stdout",
     "output_type": "stream",
     "text": [
      "4950\n"
     ]
    }
   ],
   "source": [
    "total = 0 \n",
    "for i in range(100):\n",
    "    total = total + i\n",
    "print(total) #sum of numbers between 0 and 99"
   ]
  },
  {
   "cell_type": "code",
   "execution_count": 13,
   "id": "2334e015",
   "metadata": {},
   "outputs": [
    {
     "name": "stdout",
     "output_type": "stream",
     "text": [
      "2\n"
     ]
    }
   ],
   "source": [
    "x=2\n",
    "if x<4: #actually works: if x is less than 4, it will be printed.\n",
    "    y=x*2\n",
    "    print(x)\n",
    "\n",
    "x=5\n",
    "if x<4: #doesn't run since if is not satisfied. \n",
    "    y=x*2\n",
    "    print(y)"
   ]
  },
  {
   "cell_type": "code",
   "execution_count": 15,
   "id": "87fcef71",
   "metadata": {},
   "outputs": [
    {
     "name": "stdout",
     "output_type": "stream",
     "text": [
      "2\n",
      "5\n"
     ]
    }
   ],
   "source": [
    "x=2\n",
    "if x<4: #this prints x regardless. \n",
    "    y=x*2\n",
    "print(x)\n",
    "\n",
    "x=5\n",
    "if x<4: #this also prints x regardless. \n",
    "    y=x*2\n",
    "print(x)"
   ]
  },
  {
   "cell_type": "code",
   "execution_count": 16,
   "id": "55ad6128",
   "metadata": {},
   "outputs": [
    {
     "name": "stdout",
     "output_type": "stream",
     "text": [
      "3\n",
      "3\n",
      "3\n"
     ]
    }
   ],
   "source": [
    "x += 2  # shorthand for x = x + 2\n",
    "\n",
    "#whitespace does not matter. All of the following denote x as 3. \n",
    "x=1+2\n",
    "print(x)\n",
    "x = 1 + 2\n",
    "print(x)\n",
    "x             =        1    +                2\n",
    "print(x)"
   ]
  },
  {
   "cell_type": "code",
   "execution_count": 17,
   "id": "54b7b4ec",
   "metadata": {},
   "outputs": [],
   "source": [
    "#sometimes the indentation/white space can be useful: \n",
    "x=10**-2\n",
    "x = 10 ** -2 #easier to see that this is 10"
   ]
  },
  {
   "cell_type": "code",
   "execution_count": 20,
   "id": "850f839e",
   "metadata": {},
   "outputs": [],
   "source": [
    "x=4 #essentially assigns a pointer named x to the value 4.  \n",
    "\n",
    "x = 5         # x is an integer\n",
    "x = 'hello'   # now x is a string\n",
    "x = [1, 2, 3] # now x is a list"
   ]
  },
  {
   "cell_type": "code",
   "execution_count": 21,
   "id": "eda6b9d4",
   "metadata": {},
   "outputs": [
    {
     "name": "stdout",
     "output_type": "stream",
     "text": [
      "[1, 2, 3]\n",
      "[1, 2, 3, 4]\n",
      "[1, 2, 3, 4]\n",
      "[1, 2, 3, 4]\n"
     ]
    }
   ],
   "source": [
    "y = x #y points to x. \n",
    "print(y) #prints the list [1,2,3] since y points to x which points to it's designated list. \n",
    "\n",
    "x.append(4)\n",
    "print(x) #now prints [1,2,3,4]\n",
    "print(y) #also prints [1,2,3,4]!\n",
    "\n",
    "#and funnily enough, if you set x as a new value like a string:\n",
    "\n",
    "x = 'something else'\n",
    "print(y)  # y is unchanged. still outputs [1,2,3,4]"
   ]
  },
  {
   "cell_type": "code",
   "execution_count": 22,
   "id": "c874c919",
   "metadata": {},
   "outputs": [
    {
     "name": "stdout",
     "output_type": "stream",
     "text": [
      "x = 15\n",
      "y = 10\n"
     ]
    }
   ],
   "source": [
    "#It's important to note that variable assignment is immutable. \n",
    "x = 10\n",
    "y = x\n",
    "x += 5  # add 5 to x's value, and assign it to x\n",
    "print(\"x =\", x) #prints x=15\n",
    "print(\"y =\", y) #prints y=10"
   ]
  },
  {
   "cell_type": "code",
   "execution_count": 24,
   "id": "4c5dc695",
   "metadata": {},
   "outputs": [
    {
     "data": {
      "text/plain": [
       "int"
      ]
     },
     "execution_count": 24,
     "metadata": {},
     "output_type": "execute_result"
    }
   ],
   "source": [
    "x = 4\n",
    "type(x) #x is a integer (int)"
   ]
  },
  {
   "cell_type": "code",
   "execution_count": 25,
   "id": "c9625d07",
   "metadata": {},
   "outputs": [
    {
     "data": {
      "text/plain": [
       "str"
      ]
     },
     "execution_count": 25,
     "metadata": {},
     "output_type": "execute_result"
    }
   ],
   "source": [
    "x = 'hello' \n",
    "type(x) #x is a string"
   ]
  },
  {
   "cell_type": "code",
   "execution_count": 26,
   "id": "489dd45d",
   "metadata": {},
   "outputs": [
    {
     "data": {
      "text/plain": [
       "float"
      ]
     },
     "execution_count": 26,
     "metadata": {},
     "output_type": "execute_result"
    }
   ],
   "source": [
    "x = 3.14159\n",
    "type(x) #x is a floating"
   ]
  },
  {
   "cell_type": "code",
   "execution_count": 27,
   "id": "96656848",
   "metadata": {},
   "outputs": [
    {
     "name": "stdout",
     "output_type": "stream",
     "text": [
      "[1, 2, 3, 100]\n"
     ]
    }
   ],
   "source": [
    "L = [1, 2, 3]\n",
    "L.append(100)\n",
    "print(L) #L is now [1,2,3,100]"
   ]
  },
  {
   "cell_type": "code",
   "execution_count": 29,
   "id": "dfbdc8aa",
   "metadata": {},
   "outputs": [
    {
     "name": "stdout",
     "output_type": "stream",
     "text": [
      "4.5 + 0.0 i\n"
     ]
    }
   ],
   "source": [
    "x = 4.5\n",
    "print(x.real, \"+\", x.imag, 'i') #output is 4.5 +0.0i, which makes sense since there is no imaginary part to the x value. "
   ]
  },
  {
   "cell_type": "code",
   "execution_count": 30,
   "id": "e319e0a3",
   "metadata": {},
   "outputs": [
    {
     "data": {
      "text/plain": [
       "False"
      ]
     },
     "execution_count": 30,
     "metadata": {},
     "output_type": "execute_result"
    }
   ],
   "source": [
    "x = 4.5\n",
    "x.is_integer() #4.5 is not an integer. This is False. "
   ]
  },
  {
   "cell_type": "code",
   "execution_count": 31,
   "id": "5a3005ab",
   "metadata": {},
   "outputs": [
    {
     "data": {
      "text/plain": [
       "True"
      ]
     },
     "execution_count": 31,
     "metadata": {},
     "output_type": "execute_result"
    }
   ],
   "source": [
    "x = 4.0\n",
    "x.is_integer() #4.0 is an integer. This is True."
   ]
  },
  {
   "cell_type": "code",
   "execution_count": 32,
   "id": "6d9e3dfa",
   "metadata": {},
   "outputs": [
    {
     "data": {
      "text/plain": [
       "builtin_function_or_method"
      ]
     },
     "execution_count": 32,
     "metadata": {},
     "output_type": "execute_result"
    }
   ],
   "source": [
    "type(x.is_integer) #Output is: builtin_function_or_method"
   ]
  },
  {
   "cell_type": "code",
   "execution_count": 226,
   "id": "9557dc58",
   "metadata": {},
   "outputs": [
    {
     "data": {
      "text/plain": [
       "42.0"
      ]
     },
     "execution_count": 226,
     "metadata": {},
     "output_type": "execute_result"
    }
   ],
   "source": [
    "(4 + 8) * (6.5 - 3) #output is 42.0"
   ]
  },
  {
   "cell_type": "code",
   "execution_count": 227,
   "id": "96869d1f",
   "metadata": {},
   "outputs": [
    {
     "data": {
      "text/plain": [
       "5.5"
      ]
     },
     "execution_count": 227,
     "metadata": {},
     "output_type": "execute_result"
    }
   ],
   "source": [
    "11/2 #True division. Output is 5.5"
   ]
  },
  {
   "cell_type": "code",
   "execution_count": 35,
   "id": "4ebf874a",
   "metadata": {},
   "outputs": [
    {
     "data": {
      "text/plain": [
       "5"
      ]
     },
     "execution_count": 35,
     "metadata": {},
     "output_type": "execute_result"
    }
   ],
   "source": [
    "11//2 #Floor division. Output is 5. "
   ]
  },
  {
   "cell_type": "code",
   "execution_count": null,
   "id": "5acc18c0",
   "metadata": {},
   "outputs": [],
   "source": [
    "#matrix operation: a@b does a matrix product of a, b\n",
    "\n",
    "#a & b\tBitwise AND\tBits defined in both a and b\n",
    "#a | b\tBitwise OR\tBits defined in a or b or both\n",
    "#a ^ b\tBitwise XOR\tBits defined in a or b but not both\n",
    "#a << b\tBit shift left\tShift bits of a left by b units\n",
    "#a >> b\tBit shift right\tShift bits of a right by b units\n",
    "#~a\tBitwise NOT\tBitwise negation of a\n",
    "\n",
    "# << multiplies the decimal value by 2\n",
    "# >> divides the decimal value by 2"
   ]
  },
  {
   "cell_type": "code",
   "execution_count": 64,
   "id": "ae0ae285",
   "metadata": {},
   "outputs": [
    {
     "data": {
      "text/plain": [
       "12"
      ]
     },
     "execution_count": 64,
     "metadata": {},
     "output_type": "execute_result"
    }
   ],
   "source": [
    "6 << 1 #output is 12. 6 in binary is 0b110, 12 in binary is 0b1100"
   ]
  },
  {
   "cell_type": "code",
   "execution_count": 65,
   "id": "a292389b",
   "metadata": {},
   "outputs": [
    {
     "data": {
      "text/plain": [
       "24"
      ]
     },
     "execution_count": 65,
     "metadata": {},
     "output_type": "execute_result"
    }
   ],
   "source": [
    "6 << 2 #output is 24. 6 in binary is 0b110, 24 in binary is 0b11000 "
   ]
  },
  {
   "cell_type": "code",
   "execution_count": 66,
   "id": "b9f812b3",
   "metadata": {},
   "outputs": [
    {
     "data": {
      "text/plain": [
       "3"
      ]
     },
     "execution_count": 66,
     "metadata": {},
     "output_type": "execute_result"
    }
   ],
   "source": [
    "6 >> 1 #output is 3. 6 in binary is 0b110, 3 in binary is 0b11"
   ]
  },
  {
   "cell_type": "code",
   "execution_count": 67,
   "id": "a3a97ad8",
   "metadata": {},
   "outputs": [
    {
     "data": {
      "text/plain": [
       "1"
      ]
     },
     "execution_count": 67,
     "metadata": {},
     "output_type": "execute_result"
    }
   ],
   "source": [
    "6 >> 2 #output is 0b1 which is 2"
   ]
  },
  {
   "cell_type": "code",
   "execution_count": 68,
   "id": "6660a67f",
   "metadata": {},
   "outputs": [
    {
     "data": {
      "text/plain": [
       "0"
      ]
     },
     "execution_count": 68,
     "metadata": {},
     "output_type": "execute_result"
    }
   ],
   "source": [
    "6 >> 3 #output is 0b0 which is 0"
   ]
  },
  {
   "cell_type": "code",
   "execution_count": 69,
   "id": "e8ca290c",
   "metadata": {},
   "outputs": [
    {
     "data": {
      "text/plain": [
       "0"
      ]
     },
     "execution_count": 69,
     "metadata": {},
     "output_type": "execute_result"
    }
   ],
   "source": [
    "6 >>4 #can't go any further. this is still expected to be 0. "
   ]
  },
  {
   "cell_type": "code",
   "execution_count": 70,
   "id": "6bf42e1f",
   "metadata": {},
   "outputs": [
    {
     "data": {
      "text/plain": [
       "192"
      ]
     },
     "execution_count": 70,
     "metadata": {},
     "output_type": "execute_result"
    }
   ],
   "source": [
    "6<<5 #0b110 becomes 0b11000000 which is 192. "
   ]
  },
  {
   "cell_type": "code",
   "execution_count": 36,
   "id": "36c693bc",
   "metadata": {},
   "outputs": [
    {
     "data": {
      "text/plain": [
       "-1"
      ]
     },
     "execution_count": 36,
     "metadata": {},
     "output_type": "execute_result"
    }
   ],
   "source": [
    "~0 #bitwise negation. Multiply the number by 1 and subtract it by 1. 0*-1 -1 is -1"
   ]
  },
  {
   "cell_type": "code",
   "execution_count": 37,
   "id": "166923d9",
   "metadata": {},
   "outputs": [
    {
     "data": {
      "text/plain": [
       "-7"
      ]
     },
     "execution_count": 37,
     "metadata": {},
     "output_type": "execute_result"
    }
   ],
   "source": [
    "~6 #6(-1)-1 =-7"
   ]
  },
  {
   "cell_type": "code",
   "execution_count": 39,
   "id": "b842f35a",
   "metadata": {},
   "outputs": [
    {
     "data": {
      "text/plain": [
       "5"
      ]
     },
     "execution_count": 39,
     "metadata": {},
     "output_type": "execute_result"
    }
   ],
   "source": [
    "~-6#-6(-1)-1 =5"
   ]
  },
  {
   "cell_type": "code",
   "execution_count": 40,
   "id": "53329c4c",
   "metadata": {},
   "outputs": [
    {
     "data": {
      "text/plain": [
       "'0b1010'"
      ]
     },
     "execution_count": 40,
     "metadata": {},
     "output_type": "execute_result"
    }
   ],
   "source": [
    "bin(10)"
   ]
  },
  {
   "cell_type": "code",
   "execution_count": 42,
   "id": "48881fea",
   "metadata": {},
   "outputs": [
    {
     "data": {
      "text/plain": [
       "'0b100'"
      ]
     },
     "execution_count": 42,
     "metadata": {},
     "output_type": "execute_result"
    }
   ],
   "source": [
    "bin(4)"
   ]
  },
  {
   "cell_type": "code",
   "execution_count": 43,
   "id": "9843f975",
   "metadata": {},
   "outputs": [
    {
     "data": {
      "text/plain": [
       "'0b1110'"
      ]
     },
     "execution_count": 43,
     "metadata": {},
     "output_type": "execute_result"
    }
   ],
   "source": [
    "bin(14)"
   ]
  },
  {
   "cell_type": "code",
   "execution_count": 44,
   "id": "0cee6ea4",
   "metadata": {},
   "outputs": [
    {
     "data": {
      "text/plain": [
       "14"
      ]
     },
     "execution_count": 44,
     "metadata": {},
     "output_type": "execute_result"
    }
   ],
   "source": [
    "4|10"
   ]
  },
  {
   "cell_type": "code",
   "execution_count": 45,
   "id": "c2e68de5",
   "metadata": {},
   "outputs": [
    {
     "data": {
      "text/plain": [
       "0"
      ]
     },
     "execution_count": 45,
     "metadata": {},
     "output_type": "execute_result"
    }
   ],
   "source": [
    "4 & 10 #100 and 1010 have no common 1s place. Output is 0."
   ]
  },
  {
   "cell_type": "code",
   "execution_count": 46,
   "id": "69bbfc80",
   "metadata": {},
   "outputs": [
    {
     "data": {
      "text/plain": [
       "2"
      ]
     },
     "execution_count": 46,
     "metadata": {},
     "output_type": "execute_result"
    }
   ],
   "source": [
    "2 & 3 #10 and 11 have an intersection at 10; output is 2. "
   ]
  },
  {
   "cell_type": "code",
   "execution_count": 47,
   "id": "db984f12",
   "metadata": {},
   "outputs": [
    {
     "data": {
      "text/plain": [
       "4"
      ]
     },
     "execution_count": 47,
     "metadata": {},
     "output_type": "execute_result"
    }
   ],
   "source": [
    "5 & 6 #101 and #110 have an intersection at 100; output is 4. "
   ]
  },
  {
   "cell_type": "code",
   "execution_count": 48,
   "id": "7998fe64",
   "metadata": {},
   "outputs": [
    {
     "data": {
      "text/plain": [
       "5"
      ]
     },
     "execution_count": 48,
     "metadata": {},
     "output_type": "execute_result"
    }
   ],
   "source": [
    "4 | 5 #100 and 101 when overlapped produce 101 which is 5. Output is 5. "
   ]
  },
  {
   "cell_type": "code",
   "execution_count": 71,
   "id": "cbd975cb",
   "metadata": {},
   "outputs": [
    {
     "data": {
      "text/plain": [
       "True"
      ]
     },
     "execution_count": 71,
     "metadata": {},
     "output_type": "execute_result"
    }
   ],
   "source": [
    "#prove an integer is odd\n",
    "\n",
    "#Is 25 odd? \n",
    "25 % 2 ==1 #Output is True, implying the value is odd. "
   ]
  },
  {
   "cell_type": "code",
   "execution_count": 72,
   "id": "17293559",
   "metadata": {},
   "outputs": [
    {
     "data": {
      "text/plain": [
       "False"
      ]
     },
     "execution_count": 72,
     "metadata": {},
     "output_type": "execute_result"
    }
   ],
   "source": [
    "#Is 66 odd? \n",
    "66 % 2 ==1 #Output is False, implying the value is not odd (even.) "
   ]
  },
  {
   "cell_type": "code",
   "execution_count": 73,
   "id": "3f664f91",
   "metadata": {},
   "outputs": [
    {
     "data": {
      "text/plain": [
       "True"
      ]
     },
     "execution_count": 73,
     "metadata": {},
     "output_type": "execute_result"
    }
   ],
   "source": [
    "a=25\n",
    "15<a<30 #output is True. "
   ]
  },
  {
   "cell_type": "code",
   "execution_count": 74,
   "id": "466fe86e",
   "metadata": {},
   "outputs": [
    {
     "data": {
      "text/plain": [
       "True"
      ]
     },
     "execution_count": 74,
     "metadata": {},
     "output_type": "execute_result"
    }
   ],
   "source": [
    "-1 == ~0 #output is true since bitwise NOT of 0 is -1. "
   ]
  },
  {
   "cell_type": "code",
   "execution_count": 76,
   "id": "1c7c6fd3",
   "metadata": {},
   "outputs": [
    {
     "data": {
      "text/plain": [
       "True"
      ]
     },
     "execution_count": 76,
     "metadata": {},
     "output_type": "execute_result"
    }
   ],
   "source": [
    "1 in [1,2,3] #output is True"
   ]
  },
  {
   "cell_type": "code",
   "execution_count": 77,
   "id": "7addf7cc",
   "metadata": {},
   "outputs": [
    {
     "data": {
      "text/plain": [
       "False"
      ]
     },
     "execution_count": 77,
     "metadata": {},
     "output_type": "execute_result"
    }
   ],
   "source": [
    "2 not in [1,2,3] #output is False"
   ]
  },
  {
   "cell_type": "code",
   "execution_count": 78,
   "id": "519b696d",
   "metadata": {},
   "outputs": [
    {
     "data": {
      "text/plain": [
       "int"
      ]
     },
     "execution_count": 78,
     "metadata": {},
     "output_type": "execute_result"
    }
   ],
   "source": [
    "###Integers\n",
    "\n",
    "\n",
    "#int, float, complex, bool, str, None simple values/scalar types.\n",
    "\n",
    "\n",
    "x=1\n",
    "type(x) #output is int"
   ]
  },
  {
   "cell_type": "code",
   "execution_count": 79,
   "id": "2750e9c4",
   "metadata": {},
   "outputs": [
    {
     "data": {
      "text/plain": [
       "1606938044258990275541962092341162602522202993782792835301376"
      ]
     },
     "execution_count": 79,
     "metadata": {},
     "output_type": "execute_result"
    }
   ],
   "source": [
    "2 **200 #output is 2^200, a big ass number, or 1606938044258990275541962092341162602522202993782792835301376"
   ]
  },
  {
   "cell_type": "code",
   "execution_count": 80,
   "id": "8c2fb4db",
   "metadata": {},
   "outputs": [
    {
     "data": {
      "text/plain": [
       "2.5"
      ]
     },
     "execution_count": 80,
     "metadata": {},
     "output_type": "execute_result"
    }
   ],
   "source": [
    "5/2 #output is 2.5; fun fact: this used to be 2 in Python2."
   ]
  },
  {
   "cell_type": "code",
   "execution_count": 81,
   "id": "3b94d3d4",
   "metadata": {},
   "outputs": [
    {
     "data": {
      "text/plain": [
       "2"
      ]
     },
     "execution_count": 81,
     "metadata": {},
     "output_type": "execute_result"
    }
   ],
   "source": [
    "5//2 #output is 2 (floor division.)"
   ]
  },
  {
   "cell_type": "code",
   "execution_count": 82,
   "id": "c0c3579c",
   "metadata": {},
   "outputs": [
    {
     "name": "stdout",
     "output_type": "stream",
     "text": [
      "True\n"
     ]
    }
   ],
   "source": [
    "#Floating Numbers: \n",
    "#can be written in decimal form or exponential form\n",
    "x = 0.000005 #decimal form\n",
    "y = 5e-6 #exponential form\n",
    "print(x == y) #output is True"
   ]
  },
  {
   "cell_type": "code",
   "execution_count": 1,
   "id": "f1145295",
   "metadata": {},
   "outputs": [
    {
     "name": "stdout",
     "output_type": "stream",
     "text": [
      "True\n"
     ]
    }
   ],
   "source": [
    "#similarly this. Interesting thing to note is that despite the extra .00, they are still equivalent. \n",
    "#Python most likely writes both of these as floating integers up to the same decimal point and checks to see if they match. \n",
    "\n",
    "x = 1400000.00\n",
    "y = 1.4e6 \n",
    "print(x == y)"
   ]
  },
  {
   "cell_type": "code",
   "execution_count": 83,
   "id": "fce3c606",
   "metadata": {},
   "outputs": [
    {
     "data": {
      "text/plain": [
       "1.0"
      ]
     },
     "execution_count": 83,
     "metadata": {},
     "output_type": "execute_result"
    }
   ],
   "source": [
    "float(1) #converts an int to floating"
   ]
  },
  {
   "cell_type": "code",
   "execution_count": 51,
   "id": "ba891fef",
   "metadata": {},
   "outputs": [
    {
     "data": {
      "text/plain": [
       "float"
      ]
     },
     "execution_count": 51,
     "metadata": {},
     "output_type": "execute_result"
    }
   ],
   "source": [
    "type(11/2)"
   ]
  },
  {
   "cell_type": "code",
   "execution_count": 52,
   "id": "b09ee9c7",
   "metadata": {},
   "outputs": [
    {
     "data": {
      "text/plain": [
       "int"
      ]
     },
     "execution_count": 52,
     "metadata": {},
     "output_type": "execute_result"
    }
   ],
   "source": [
    "type(11//2)"
   ]
  },
  {
   "cell_type": "code",
   "execution_count": 53,
   "id": "4e244bfb",
   "metadata": {},
   "outputs": [
    {
     "name": "stdout",
     "output_type": "stream",
     "text": [
      "0.1 = 0.10000000000000001\n",
      "0.2 = 0.20000000000000001\n",
      "0.3 = 0.29999999999999999\n",
      "0.4 = 0.40000000000000002\n",
      "0.5 = 0.50000000000000000\n",
      "0.6 = 0.59999999999999998\n",
      "0.7 = 0.69999999999999996\n",
      "0.8 = 0.80000000000000004\n",
      "0.9 = 0.90000000000000002\n",
      "1.0 = 1.00000000000000000\n"
     ]
    }
   ],
   "source": [
    "print(\"0.1 = {0:.17f}\".format(0.1)) #output is \"0.1 = 0.10000000000000001\" to the 17th decimal\n",
    "print(\"0.2 = {0:.17f}\".format(0.2)) #output is \"0.2 = 0.20000000000000001\" to the 17th decimal\n",
    "print(\"0.3 = {0:.17f}\".format(0.3)) #output is \"0.3 = 0.29999999999999999\" to the 17th decimal\n",
    "print(\"0.4 = {0:.17f}\".format(0.4)) #output is \"0.4 = 0.40000000000000002\" to the 17th decimal.\n",
    "print(\"0.5 = {0:.17f}\".format(0.5)) #output is \"0.5 = 0.50000000000000000\" to the 17th decimal. \n",
    "print(\"0.6 = {0:.17f}\".format(0.6)) #output is \"0.6 = 0.59999999999999998\" to the 17th decimal. \n",
    "print(\"0.7 = {0:.17f}\".format(0.7)) #output is \"0.7 = 0.69999999999999996\"\n",
    "print(\"0.8 = {0:.17f}\".format(0.8)) #output is \"0.8 = 0.80000000000000004\" to the 17th decimal. \n",
    "print(\"0.9 = {0:.17f}\".format(0.9)) #output is \"0.9 = 0.90000000000000002\" to the 17th decimal. \n",
    "print(\"1.0 = {0:.17f}\".format(1.0)) #output is \"1.0 = 1.00000000000000000\" to the 17th decimal. "
   ]
  },
  {
   "cell_type": "code",
   "execution_count": 55,
   "id": "f15de4f1",
   "metadata": {},
   "outputs": [
    {
     "data": {
      "text/plain": [
       "True"
      ]
     },
     "execution_count": 55,
     "metadata": {},
     "output_type": "execute_result"
    }
   ],
   "source": [
    "0.2 +0.3 == 0.5 #since the floating values up to this point will match each other perfectly for 0.5"
   ]
  },
  {
   "cell_type": "code",
   "execution_count": 84,
   "id": "8b03fe76",
   "metadata": {},
   "outputs": [],
   "source": [
    "#binary of 1/8 = 0.001"
   ]
  },
  {
   "cell_type": "code",
   "execution_count": 85,
   "id": "308fcebc",
   "metadata": {},
   "outputs": [],
   "source": [
    "#binary of 1/3 = 0.0101010101..."
   ]
  },
  {
   "cell_type": "code",
   "execution_count": null,
   "id": "76584bb7",
   "metadata": {},
   "outputs": [],
   "source": [
    "#binary of 1/10 = 0.00011001100110011"
   ]
  },
  {
   "cell_type": "code",
   "execution_count": 88,
   "id": "fe62189b",
   "metadata": {},
   "outputs": [
    {
     "data": {
      "text/plain": [
       "(1+2j)"
      ]
     },
     "execution_count": 88,
     "metadata": {},
     "output_type": "execute_result"
    }
   ],
   "source": [
    "complex(1,2) #output is 1 +2j"
   ]
  },
  {
   "cell_type": "code",
   "execution_count": 89,
   "id": "8438cf27",
   "metadata": {},
   "outputs": [
    {
     "data": {
      "text/plain": [
       "3.0"
      ]
     },
     "execution_count": 89,
     "metadata": {},
     "output_type": "execute_result"
    }
   ],
   "source": [
    "c=3+4j\n",
    "c.real #output is 3.0"
   ]
  },
  {
   "cell_type": "code",
   "execution_count": 90,
   "id": "2bd942ef",
   "metadata": {},
   "outputs": [
    {
     "data": {
      "text/plain": [
       "4.0"
      ]
     },
     "execution_count": 90,
     "metadata": {},
     "output_type": "execute_result"
    }
   ],
   "source": [
    "c.imag #output is 4.0"
   ]
  },
  {
   "cell_type": "code",
   "execution_count": 91,
   "id": "e6fa26e0",
   "metadata": {},
   "outputs": [
    {
     "data": {
      "text/plain": [
       "(3-4j)"
      ]
     },
     "execution_count": 91,
     "metadata": {},
     "output_type": "execute_result"
    }
   ],
   "source": [
    "c.conjugate() #output is 3-4j"
   ]
  },
  {
   "cell_type": "code",
   "execution_count": 92,
   "id": "f3241bbc",
   "metadata": {},
   "outputs": [
    {
     "data": {
      "text/plain": [
       "5.0"
      ]
     },
     "execution_count": 92,
     "metadata": {},
     "output_type": "execute_result"
    }
   ],
   "source": [
    "abs(c) #output is sqrt(c.real**2 + c.imag **2) = sqrt(9+16)= 5.0"
   ]
  },
  {
   "cell_type": "code",
   "execution_count": 93,
   "id": "7e7f9387",
   "metadata": {},
   "outputs": [
    {
     "data": {
      "text/plain": [
       "4"
      ]
     },
     "execution_count": 93,
     "metadata": {},
     "output_type": "execute_result"
    }
   ],
   "source": [
    "message = \"what do you like?\"\n",
    "response = 'spam'\n",
    "len(response) #output is 4"
   ]
  },
  {
   "cell_type": "code",
   "execution_count": 94,
   "id": "23de2f20",
   "metadata": {},
   "outputs": [
    {
     "data": {
      "text/plain": [
       "'SPAM'"
      ]
     },
     "execution_count": 94,
     "metadata": {},
     "output_type": "execute_result"
    }
   ],
   "source": [
    "response.upper() #output is 'SPAM'"
   ]
  },
  {
   "cell_type": "code",
   "execution_count": 95,
   "id": "d0aaa087",
   "metadata": {},
   "outputs": [
    {
     "data": {
      "text/plain": [
       "'What do you like?'"
      ]
     },
     "execution_count": 95,
     "metadata": {},
     "output_type": "execute_result"
    }
   ],
   "source": [
    "message.capitalize() #output is \"What do you like?\". Interesting thing to note: the \"\" becomes ''"
   ]
  },
  {
   "cell_type": "code",
   "execution_count": 96,
   "id": "adde7fee",
   "metadata": {},
   "outputs": [
    {
     "data": {
      "text/plain": [
       "'what do you like?spam'"
      ]
     },
     "execution_count": 96,
     "metadata": {},
     "output_type": "execute_result"
    }
   ],
   "source": [
    "message + response   # 'what do you like?spam'"
   ]
  },
  {
   "cell_type": "code",
   "execution_count": 97,
   "id": "b373e7e0",
   "metadata": {},
   "outputs": [
    {
     "data": {
      "text/plain": [
       "'spamspamspamspamspam'"
      ]
     },
     "execution_count": 97,
     "metadata": {},
     "output_type": "execute_result"
    }
   ],
   "source": [
    "5 * response #Output is 'spamspamspamspamspam'"
   ]
  },
  {
   "cell_type": "code",
   "execution_count": 63,
   "id": "696738d3",
   "metadata": {},
   "outputs": [
    {
     "data": {
      "text/plain": [
       "[11, 7, 5, 3, 2]"
      ]
     },
     "execution_count": 63,
     "metadata": {},
     "output_type": "execute_result"
    }
   ],
   "source": [
    "L[::-1]"
   ]
  },
  {
   "cell_type": "code",
   "execution_count": 98,
   "id": "cb611595",
   "metadata": {},
   "outputs": [
    {
     "data": {
      "text/plain": [
       "'w'"
      ]
     },
     "execution_count": 98,
     "metadata": {},
     "output_type": "execute_result"
    }
   ],
   "source": [
    "message[0] #output is 'w'"
   ]
  },
  {
   "cell_type": "code",
   "execution_count": 99,
   "id": "5372027e",
   "metadata": {},
   "outputs": [
    {
     "data": {
      "text/plain": [
       "NoneType"
      ]
     },
     "execution_count": 99,
     "metadata": {},
     "output_type": "execute_result"
    }
   ],
   "source": [
    "type(None) #<class 'NoneType' in terminal> Output here is: NoneType"
   ]
  },
  {
   "cell_type": "code",
   "execution_count": 228,
   "id": "009d7824",
   "metadata": {},
   "outputs": [
    {
     "name": "stdout",
     "output_type": "stream",
     "text": [
      "abc\n"
     ]
    }
   ],
   "source": [
    "#Interesting to note: \n",
    "\n",
    "return_value = print(\"abc\") #Output is abc"
   ]
  },
  {
   "cell_type": "code",
   "execution_count": 229,
   "id": "65f3bfe8",
   "metadata": {},
   "outputs": [
    {
     "data": {
      "text/plain": [
       "NoneType"
      ]
     },
     "execution_count": 229,
     "metadata": {},
     "output_type": "execute_result"
    }
   ],
   "source": [
    "type(return_value) #Output is None (NoneType in Jupyter.) return_value is not assigned any value. "
   ]
  },
  {
   "cell_type": "code",
   "execution_count": 103,
   "id": "ff12d88a",
   "metadata": {},
   "outputs": [
    {
     "data": {
      "text/plain": [
       "True"
      ]
     },
     "execution_count": 103,
     "metadata": {},
     "output_type": "execute_result"
    }
   ],
   "source": [
    "#Boolean Operations\n",
    "\n",
    "result = 4<5\n",
    "result #output is True"
   ]
  },
  {
   "cell_type": "code",
   "execution_count": 104,
   "id": "374d8c1c",
   "metadata": {},
   "outputs": [
    {
     "data": {
      "text/plain": [
       "bool"
      ]
     },
     "execution_count": 104,
     "metadata": {},
     "output_type": "execute_result"
    }
   ],
   "source": [
    "type(result) #Output is <class 'bool'>"
   ]
  },
  {
   "cell_type": "code",
   "execution_count": 105,
   "id": "40b0eef2",
   "metadata": {},
   "outputs": [
    {
     "data": {
      "text/plain": [
       "True"
      ]
     },
     "execution_count": 105,
     "metadata": {},
     "output_type": "execute_result"
    }
   ],
   "source": [
    "bool(2014) #output is True always as long as the number inside isn't 0. "
   ]
  },
  {
   "cell_type": "code",
   "execution_count": 106,
   "id": "d0629e33",
   "metadata": {},
   "outputs": [
    {
     "data": {
      "text/plain": [
       "False"
      ]
     },
     "execution_count": 106,
     "metadata": {},
     "output_type": "execute_result"
    }
   ],
   "source": [
    "bool(0) #output is False"
   ]
  },
  {
   "cell_type": "code",
   "execution_count": 107,
   "id": "4f9b7b2a",
   "metadata": {},
   "outputs": [
    {
     "data": {
      "text/plain": [
       "True"
      ]
     },
     "execution_count": 107,
     "metadata": {},
     "output_type": "execute_result"
    }
   ],
   "source": [
    "bool(3.14159) #output is True"
   ]
  },
  {
   "cell_type": "code",
   "execution_count": 108,
   "id": "fa82a297",
   "metadata": {},
   "outputs": [
    {
     "data": {
      "text/plain": [
       "False"
      ]
     },
     "execution_count": 108,
     "metadata": {},
     "output_type": "execute_result"
    }
   ],
   "source": [
    "bool(None) #output is False. Note that None i"
   ]
  },
  {
   "cell_type": "code",
   "execution_count": 109,
   "id": "42caa96c",
   "metadata": {},
   "outputs": [
    {
     "data": {
      "text/plain": [
       "False"
      ]
     },
     "execution_count": 109,
     "metadata": {},
     "output_type": "execute_result"
    }
   ],
   "source": [
    "bool(\"\") #Output is False for empty strings, but True for filled in strings."
   ]
  },
  {
   "cell_type": "code",
   "execution_count": 110,
   "id": "328685f5",
   "metadata": {},
   "outputs": [
    {
     "data": {
      "text/plain": [
       "True"
      ]
     },
     "execution_count": 110,
     "metadata": {},
     "output_type": "execute_result"
    }
   ],
   "source": [
    "bool(\"abc\") #Output is True. "
   ]
  },
  {
   "cell_type": "code",
   "execution_count": 111,
   "id": "96634688",
   "metadata": {},
   "outputs": [
    {
     "data": {
      "text/plain": [
       "True"
      ]
     },
     "execution_count": 111,
     "metadata": {},
     "output_type": "execute_result"
    }
   ],
   "source": [
    "bool([1,2,3]) #output is True"
   ]
  },
  {
   "cell_type": "code",
   "execution_count": 112,
   "id": "370be87a",
   "metadata": {},
   "outputs": [
    {
     "data": {
      "text/plain": [
       "False"
      ]
     },
     "execution_count": 112,
     "metadata": {},
     "output_type": "execute_result"
    }
   ],
   "source": [
    "bool([]) #output is False"
   ]
  },
  {
   "cell_type": "code",
   "execution_count": 113,
   "id": "f3417414",
   "metadata": {},
   "outputs": [
    {
     "data": {
      "text/plain": [
       "4"
      ]
     },
     "execution_count": 113,
     "metadata": {},
     "output_type": "execute_result"
    }
   ],
   "source": [
    "###Built In Data Structures\n",
    "\n",
    "#lists[1,2,3], tuples are immutable(1,2,3), dictionaries{'a':1, 'b':2, 'c':3}, sets {1, 2, 3}\n",
    "\n",
    "\n",
    "#lists and tuples are ordered\n",
    "#sets contain unique values\n",
    "\n",
    "\n",
    "L = [2,3,5,7]\n",
    "len(L) #Output is 4"
   ]
  },
  {
   "cell_type": "code",
   "execution_count": 114,
   "id": "1195dd1f",
   "metadata": {},
   "outputs": [
    {
     "data": {
      "text/plain": [
       "[2, 3, 5, 7, 11]"
      ]
     },
     "execution_count": 114,
     "metadata": {},
     "output_type": "execute_result"
    }
   ],
   "source": [
    "L.append(11)\n",
    "L #Output is [2,3,5,7,11]. Note that print(L) does does the same as L. "
   ]
  },
  {
   "cell_type": "code",
   "execution_count": 115,
   "id": "7a5ebd78",
   "metadata": {},
   "outputs": [
    {
     "data": {
      "text/plain": [
       "[2, 3, 5, 7, 11, 13, 17, 19]"
      ]
     },
     "execution_count": 115,
     "metadata": {},
     "output_type": "execute_result"
    }
   ],
   "source": [
    "L + [13, 17, 19] #Output is [2, 3, 5, 7, 11, 13, 17, 19].  "
   ]
  },
  {
   "cell_type": "code",
   "execution_count": 116,
   "id": "b44f32b0",
   "metadata": {},
   "outputs": [
    {
     "data": {
      "text/plain": [
       "[1, 2, 3, 4, 5, 6]"
      ]
     },
     "execution_count": 116,
     "metadata": {},
     "output_type": "execute_result"
    }
   ],
   "source": [
    "L = [2, 5, 1, 6, 3, 4]\n",
    "L.sort()\n",
    "L #Output is [1,2,3,4,5,6]. Note that the sort does not automatically print the sorted list. "
   ]
  },
  {
   "cell_type": "code",
   "execution_count": 117,
   "id": "7b2372bc",
   "metadata": {},
   "outputs": [
    {
     "data": {
      "text/plain": [
       "[1, 'two', 3.14, [0, 3, 5]]"
      ]
     },
     "execution_count": 117,
     "metadata": {},
     "output_type": "execute_result"
    }
   ],
   "source": [
    "L = [1, 'two', 3.14, [0, 3, 5]] #lists are very flexible. you can have ints, strings, floats, and other lists. \n",
    "L"
   ]
  },
  {
   "cell_type": "code",
   "execution_count": 145,
   "id": "564fadc2",
   "metadata": {},
   "outputs": [
    {
     "data": {
      "text/plain": [
       "2"
      ]
     },
     "execution_count": 145,
     "metadata": {},
     "output_type": "execute_result"
    }
   ],
   "source": [
    "L=[2,3,5,7,11]\n",
    "#RECALL THE IMAGE OF 2,3,5,7,11 FOR INDICIES. \n",
    "#0 at the top left. accesses the square down and right to it. \n",
    "#-1 at the last element's bottom left. accesses the square to the up and right of it.\n",
    "L[0] #Output is 2"
   ]
  },
  {
   "cell_type": "code",
   "execution_count": 120,
   "id": "85604611",
   "metadata": {},
   "outputs": [
    {
     "data": {
      "text/plain": [
       "3"
      ]
     },
     "execution_count": 120,
     "metadata": {},
     "output_type": "execute_result"
    }
   ],
   "source": [
    "L[1] #Output is 3 "
   ]
  },
  {
   "cell_type": "code",
   "execution_count": 121,
   "id": "386c67ac",
   "metadata": {},
   "outputs": [
    {
     "data": {
      "text/plain": [
       "11"
      ]
     },
     "execution_count": 121,
     "metadata": {},
     "output_type": "execute_result"
    }
   ],
   "source": [
    "L[-1] #Output is 11. This goes backwards. "
   ]
  },
  {
   "cell_type": "code",
   "execution_count": 122,
   "id": "8aacedfb",
   "metadata": {},
   "outputs": [
    {
     "data": {
      "text/plain": [
       "7"
      ]
     },
     "execution_count": 122,
     "metadata": {},
     "output_type": "execute_result"
    }
   ],
   "source": [
    "L[-2] #Output is 7. This goes back 2. "
   ]
  },
  {
   "cell_type": "code",
   "execution_count": 124,
   "id": "6c46a4be",
   "metadata": {},
   "outputs": [
    {
     "data": {
      "text/plain": [
       "[2, 3, 5]"
      ]
     },
     "execution_count": 124,
     "metadata": {},
     "output_type": "execute_result"
    }
   ],
   "source": [
    "L[0:3] #Output is [2,3,5]. \n",
    "#Remember the visualization (keep the index at the top left of the item in the list. \n",
    "#Bottom left for negative indices."
   ]
  },
  {
   "cell_type": "code",
   "execution_count": 125,
   "id": "ea1fba86",
   "metadata": {},
   "outputs": [
    {
     "data": {
      "text/plain": [
       "[2, 3, 5]"
      ]
     },
     "execution_count": 125,
     "metadata": {},
     "output_type": "execute_result"
    }
   ],
   "source": [
    "L[:3] #Output is [2,3,5]"
   ]
  },
  {
   "cell_type": "code",
   "execution_count": 126,
   "id": "b2c9e8e9",
   "metadata": {},
   "outputs": [
    {
     "data": {
      "text/plain": [
       "[5, 7, 11]"
      ]
     },
     "execution_count": 126,
     "metadata": {},
     "output_type": "execute_result"
    }
   ],
   "source": [
    "L[-3:] #Output is [5,7,11]"
   ]
  },
  {
   "cell_type": "code",
   "execution_count": 127,
   "id": "7d8c4904",
   "metadata": {},
   "outputs": [
    {
     "data": {
      "text/plain": [
       "[2, 5, 11]"
      ]
     },
     "execution_count": 127,
     "metadata": {},
     "output_type": "execute_result"
    }
   ],
   "source": [
    "L[::2] #equivalent to L[0:len(L):2]. THIS ONE SKIPS. Starts from 0th index and goes to every other value. \n",
    "#L[0:5:2] is the equivalent, shown on the following line. "
   ]
  },
  {
   "cell_type": "code",
   "execution_count": 132,
   "id": "d219c263",
   "metadata": {},
   "outputs": [
    {
     "data": {
      "text/plain": [
       "[2, 5, 11]"
      ]
     },
     "execution_count": 132,
     "metadata": {},
     "output_type": "execute_result"
    }
   ],
   "source": [
    "L[0:5:2]"
   ]
  },
  {
   "cell_type": "code",
   "execution_count": 147,
   "id": "2aa53638",
   "metadata": {},
   "outputs": [
    {
     "data": {
      "text/plain": [
       "[11, 7, 5, 3, 2]"
      ]
     },
     "execution_count": 147,
     "metadata": {},
     "output_type": "execute_result"
    }
   ],
   "source": [
    "L[::-1] #equivalent to L[0:len(L):-1] or L[0:5:-1]. From start to end going backwards. This reverses the list. \n",
    "#Output is [11,7,5,3,2]"
   ]
  },
  {
   "cell_type": "code",
   "execution_count": 134,
   "id": "f7861d7e",
   "metadata": {},
   "outputs": [
    {
     "data": {
      "text/plain": [
       "[100, 3, 5, 7, 11]"
      ]
     },
     "execution_count": 134,
     "metadata": {},
     "output_type": "execute_result"
    }
   ],
   "source": [
    "L[0] = 100 #replaces the first value with 100\n",
    "L #Output is [2,3,5,7,11]\n"
   ]
  },
  {
   "cell_type": "code",
   "execution_count": 135,
   "id": "0d7e1689",
   "metadata": {},
   "outputs": [
    {
     "name": "stdout",
     "output_type": "stream",
     "text": [
      "[100, 55, 56, 7, 11]\n"
     ]
    }
   ],
   "source": [
    "\n",
    "#Can also be done on many ranges. This is called slicing.  \n",
    "\n",
    "L[1:3] = [55, 56]\n",
    "print(L) #Output is [100,55,56,7,11]"
   ]
  },
  {
   "cell_type": "code",
   "execution_count": 136,
   "id": "45c6fc5a",
   "metadata": {},
   "outputs": [
    {
     "name": "stdout",
     "output_type": "stream",
     "text": [
      "(1, 2, 3)\n"
     ]
    }
   ],
   "source": [
    "#Tuples\n",
    "t=(1,2,3) #can also be done without the ()\n",
    "print(t)"
   ]
  },
  {
   "cell_type": "code",
   "execution_count": 137,
   "id": "a590b9ed",
   "metadata": {},
   "outputs": [
    {
     "name": "stdout",
     "output_type": "stream",
     "text": [
      "(1, 2, 3)\n"
     ]
    }
   ],
   "source": [
    "t=1,2,3 \n",
    "print(t) #output will be (1,2,3)"
   ]
  },
  {
   "cell_type": "code",
   "execution_count": 138,
   "id": "ed130a8a",
   "metadata": {},
   "outputs": [
    {
     "data": {
      "text/plain": [
       "3"
      ]
     },
     "execution_count": 138,
     "metadata": {},
     "output_type": "execute_result"
    }
   ],
   "source": [
    "len(t) #output is 3"
   ]
  },
  {
   "cell_type": "code",
   "execution_count": 139,
   "id": "c8ee0b75",
   "metadata": {},
   "outputs": [
    {
     "data": {
      "text/plain": [
       "1"
      ]
     },
     "execution_count": 139,
     "metadata": {},
     "output_type": "execute_result"
    }
   ],
   "source": [
    "#Indexing is the same as lists. t[i]\n",
    "t[0] #output is 1"
   ]
  },
  {
   "cell_type": "code",
   "execution_count": 140,
   "id": "ff00a187",
   "metadata": {},
   "outputs": [
    {
     "ename": "TypeError",
     "evalue": "'tuple' object does not support item assignment",
     "output_type": "error",
     "traceback": [
      "\u001b[0;31m---------------------------------------------------------------------------\u001b[0m",
      "\u001b[0;31mTypeError\u001b[0m                                 Traceback (most recent call last)",
      "Cell \u001b[0;32mIn[140], line 3\u001b[0m\n\u001b[1;32m      1\u001b[0m \u001b[38;5;66;03m#But these values cannot be reassigned. Once a tuple is set, it is set. \u001b[39;00m\n\u001b[0;32m----> 3\u001b[0m \u001b[43mt\u001b[49m\u001b[43m[\u001b[49m\u001b[38;5;241;43m1\u001b[39;49m\u001b[43m]\u001b[49m\u001b[38;5;241m=\u001b[39m\u001b[38;5;241m4\u001b[39m \u001b[38;5;66;03m#Output is an error\u001b[39;00m\n",
      "\u001b[0;31mTypeError\u001b[0m: 'tuple' object does not support item assignment"
     ]
    }
   ],
   "source": [
    "#But these values cannot be reassigned. Once a tuple is set, it is set. \n",
    "\n",
    "t[1]=4 #Output is a TypeError: 'tuple' object does not support item assignment"
   ]
  },
  {
   "cell_type": "code",
   "execution_count": 141,
   "id": "c2d8fd7a",
   "metadata": {},
   "outputs": [
    {
     "ename": "AttributeError",
     "evalue": "'tuple' object has no attribute 'append'",
     "output_type": "error",
     "traceback": [
      "\u001b[0;31m---------------------------------------------------------------------------\u001b[0m",
      "\u001b[0;31mAttributeError\u001b[0m                            Traceback (most recent call last)",
      "Cell \u001b[0;32mIn[141], line 1\u001b[0m\n\u001b[0;32m----> 1\u001b[0m \u001b[43mt\u001b[49m\u001b[38;5;241;43m.\u001b[39;49m\u001b[43mappend\u001b[49m(\u001b[38;5;241m4\u001b[39m)\n",
      "\u001b[0;31mAttributeError\u001b[0m: 'tuple' object has no attribute 'append'"
     ]
    }
   ],
   "source": [
    "t.append(4) #Output is an AttributeError: 'tuple' object has no attribute 'append'"
   ]
  },
  {
   "cell_type": "code",
   "execution_count": 142,
   "id": "5852722f",
   "metadata": {},
   "outputs": [
    {
     "data": {
      "text/plain": [
       "(1, 8)"
      ]
     },
     "execution_count": 142,
     "metadata": {},
     "output_type": "execute_result"
    }
   ],
   "source": [
    "#How are tuples useful? They can be useful when there are multiple return values. \n",
    "#they are useful in certain python functions. a great one is as_integer_ratio():\n",
    "x = 0.125\n",
    "x.as_integer_ratio()"
   ]
  },
  {
   "cell_type": "code",
   "execution_count": 143,
   "id": "38f181ec",
   "metadata": {},
   "outputs": [
    {
     "name": "stdout",
     "output_type": "stream",
     "text": [
      "0.125\n"
     ]
    }
   ],
   "source": [
    "numerator, denominator = x.as_integer_ratio()\n",
    "print(numerator / denominator)"
   ]
  },
  {
   "cell_type": "code",
   "execution_count": null,
   "id": "32e4a6e6",
   "metadata": {},
   "outputs": [],
   "source": [
    "#Other useful info on data structures can be found here: https://docs.python.org/3/tutorial/datastructures.html"
   ]
  },
  {
   "cell_type": "code",
   "execution_count": 152,
   "id": "f20b6169",
   "metadata": {},
   "outputs": [
    {
     "data": {
      "text/plain": [
       "2"
      ]
     },
     "execution_count": 152,
     "metadata": {},
     "output_type": "execute_result"
    }
   ],
   "source": [
    "numbers = {'one':1, 'two':2, 'three':3} #numbers is now a dictionary\n",
    "numbers['two'] #Finds the word 'two', and gives its definition 2. Output is 2"
   ]
  },
  {
   "cell_type": "code",
   "execution_count": 153,
   "id": "42005883",
   "metadata": {},
   "outputs": [
    {
     "name": "stdout",
     "output_type": "stream",
     "text": [
      "{'one': 1, 'two': 2, 'three': 3, 'ninety': 90}\n"
     ]
    }
   ],
   "source": [
    "# You can add to the dictionary by simply doing this: \n",
    "numbers['ninety'] = 90\n",
    "print(numbers)"
   ]
  },
  {
   "cell_type": "code",
   "execution_count": 150,
   "id": "c60e6144",
   "metadata": {},
   "outputs": [],
   "source": [
    "#You can also change the values of them by reassignment. numbers['ninety'] = 89 will change the value. "
   ]
  },
  {
   "cell_type": "code",
   "execution_count": 154,
   "id": "e7303448",
   "metadata": {},
   "outputs": [],
   "source": [
    "#note the lack of order; this is useful for implementing the values/random access is fast. \n",
    "#Recall back to hash tables/functions if you are curious. "
   ]
  },
  {
   "cell_type": "code",
   "execution_count": 156,
   "id": "877fd9ec",
   "metadata": {},
   "outputs": [
    {
     "data": {
      "text/plain": [
       "{1, 2, 3, 5, 7, 9}"
      ]
     },
     "execution_count": 156,
     "metadata": {},
     "output_type": "execute_result"
    }
   ],
   "source": [
    "##Sets (Recall how they are useful in Set Theory) \n",
    "primes = {2, 3, 5, 7}\n",
    "odds = {1, 3, 5, 7, 9}\n",
    "primes | odds #output is the union of the sets. In this case: {1, 2, 3, 5, 7, 9}\n",
    "primes.union(odds) #is a similar output. "
   ]
  },
  {
   "cell_type": "code",
   "execution_count": 157,
   "id": "5a5da8d8",
   "metadata": {},
   "outputs": [
    {
     "data": {
      "text/plain": [
       "{3, 5, 7}"
      ]
     },
     "execution_count": 157,
     "metadata": {},
     "output_type": "execute_result"
    }
   ],
   "source": [
    "primes & odds  #recall that & is and. This finds the intersection of the sets. In this case: {3,5,7}\n",
    "primes.intersection(odds)"
   ]
  },
  {
   "cell_type": "code",
   "execution_count": 158,
   "id": "ac6437af",
   "metadata": {},
   "outputs": [
    {
     "data": {
      "text/plain": [
       "{2}"
      ]
     },
     "execution_count": 158,
     "metadata": {},
     "output_type": "execute_result"
    }
   ],
   "source": [
    "primes - odds #a set with the primes without odds (here, this removes 3,5,7.) In this case: {2}\n",
    "primes.difference(odds)"
   ]
  },
  {
   "cell_type": "code",
   "execution_count": 160,
   "id": "817e5eb8",
   "metadata": {},
   "outputs": [
    {
     "data": {
      "text/plain": [
       "{1, 2, 9}"
      ]
     },
     "execution_count": 160,
     "metadata": {},
     "output_type": "execute_result"
    }
   ],
   "source": [
    "primes ^ odds #XOR: values that are in one set but not the other. In this case: {1,2,9}\n",
    "primes.symmetric_difference(odds)"
   ]
  },
  {
   "cell_type": "code",
   "execution_count": 161,
   "id": "1cbd0d5d",
   "metadata": {},
   "outputs": [
    {
     "data": {
      "text/plain": [
       "1"
      ]
     },
     "execution_count": 161,
     "metadata": {},
     "output_type": "execute_result"
    }
   ],
   "source": [
    "#More on XOR:\n",
    "2 ^ 3 #10 and 11. The second 1 for the bin(3) is in 1 number but not the other. "
   ]
  },
  {
   "cell_type": "code",
   "execution_count": 162,
   "id": "53882694",
   "metadata": {},
   "outputs": [
    {
     "data": {
      "text/plain": [
       "2"
      ]
     },
     "execution_count": 162,
     "metadata": {},
     "output_type": "execute_result"
    }
   ],
   "source": [
    "4^6 #100 and 110. Value in one but not the other is 10. 10 represents 2. Output is 2"
   ]
  },
  {
   "cell_type": "code",
   "execution_count": 163,
   "id": "d056050c",
   "metadata": {},
   "outputs": [
    {
     "ename": "NameError",
     "evalue": "name 'collections' is not defined",
     "output_type": "error",
     "traceback": [
      "\u001b[0;31m---------------------------------------------------------------------------\u001b[0m",
      "\u001b[0;31mNameError\u001b[0m                                 Traceback (most recent call last)",
      "Cell \u001b[0;32mIn[163], line 7\u001b[0m\n\u001b[1;32m      1\u001b[0m \u001b[38;5;66;03m#useful commands: \u001b[39;00m\n\u001b[1;32m      2\u001b[0m \n\u001b[1;32m      3\u001b[0m \u001b[38;5;66;03m#collections.namedtuple ( Like a tuple, but each value has a name)\u001b[39;00m\n\u001b[1;32m      4\u001b[0m \u001b[38;5;66;03m#collections.defaultdict (Like a dictionary, but unspecified keys have a user-specified default value)\u001b[39;00m\n\u001b[1;32m      5\u001b[0m \u001b[38;5;66;03m#collections.OrderedDict (dictionary with order) \u001b[39;00m\n\u001b[0;32m----> 7\u001b[0m \u001b[43mcollections\u001b[49m\u001b[38;5;241m.\u001b[39mnamedtuple\n",
      "\u001b[0;31mNameError\u001b[0m: name 'collections' is not defined"
     ]
    }
   ],
   "source": [
    "#other data structures that are useful can be found in the collections module. \n",
    "\n",
    "#collections.namedtuple ( Like a tuple, but each value has a name)\n",
    "#collections.defaultdict (Like a dictionary, but unspecified keys have a user-specified default value)\n",
    "#collections.OrderedDict (dictionary with order) "
   ]
  },
  {
   "cell_type": "code",
   "execution_count": 164,
   "id": "7d2b1073",
   "metadata": {},
   "outputs": [
    {
     "name": "stdout",
     "output_type": "stream",
     "text": [
      "-15 is negative\n",
      "2 3 5 7 "
     ]
    }
   ],
   "source": [
    "###Control Flow\n",
    "\n",
    "x = -15\n",
    "\n",
    "if x == 0:\n",
    "    print(x, \"is zero\")\n",
    "elif x > 0:\n",
    "    print(x, \"is positive\")\n",
    "elif x < 0:\n",
    "    print(x, \"is negative\")\n",
    "else:\n",
    "    print(x, \"is unlike anything I've ever seen...\")"
   ]
  },
  {
   "cell_type": "code",
   "execution_count": 165,
   "id": "a0017c61",
   "metadata": {},
   "outputs": [
    {
     "name": "stdout",
     "output_type": "stream",
     "text": [
      "2 3 5 7 "
     ]
    }
   ],
   "source": [
    "#For Loop: to repeatedly executions of code. \n",
    "\n",
    "for N in [2, 3, 5, 7]:\n",
    "    print(N, end=' ') # print all on same line\n",
    "#output is 2 3 5 7"
   ]
  },
  {
   "cell_type": "code",
   "execution_count": 166,
   "id": "af87308d",
   "metadata": {},
   "outputs": [
    {
     "name": "stdout",
     "output_type": "stream",
     "text": [
      "0 1 2 3 4 5 6 7 8 9 "
     ]
    }
   ],
   "source": [
    "for i in range(10):\n",
    "    print(i, end=' ') #Output is 0 1 2 3 4 5 6 7 8 9 "
   ]
  },
  {
   "cell_type": "code",
   "execution_count": 167,
   "id": "310863e5",
   "metadata": {},
   "outputs": [
    {
     "name": "stdout",
     "output_type": "stream",
     "text": [
      "0\n",
      "1\n",
      "2\n",
      "3\n",
      "4\n",
      "5\n",
      "6\n",
      "7\n",
      "8\n",
      "9\n"
     ]
    }
   ],
   "source": [
    "#Comparison: this prints the values in a vertical list\n",
    "for i in range(10):\n",
    "    print(i) "
   ]
  },
  {
   "cell_type": "code",
   "execution_count": 168,
   "id": "817a75f6",
   "metadata": {},
   "outputs": [
    {
     "name": "stdout",
     "output_type": "stream",
     "text": [
      "0q1q2q3q4q5q6q7q8q9q"
     ]
    }
   ],
   "source": [
    "#Comparison: this prints the values with a q in between them all in one line. \n",
    "for i in range(10):\n",
    "    print(i,end=\"q\") \n",
    "    \n",
    "#Output is 0q1q2q3q4q5q6q7q8q9q"
   ]
  },
  {
   "cell_type": "code",
   "execution_count": 169,
   "id": "8e77f084",
   "metadata": {},
   "outputs": [
    {
     "data": {
      "text/plain": [
       "[0, 2, 4, 6, 8]"
      ]
     },
     "execution_count": 169,
     "metadata": {},
     "output_type": "execute_result"
    }
   ],
   "source": [
    "# range from 0 to 10 by 2\n",
    "list(range(0, 10, 2)) #Output is [0, 2, 4, 6, 8]"
   ]
  },
  {
   "cell_type": "code",
   "execution_count": 170,
   "id": "11f39260",
   "metadata": {},
   "outputs": [
    {
     "name": "stdout",
     "output_type": "stream",
     "text": [
      "0 1 2 3 4 5 6 7 8 9 "
     ]
    }
   ],
   "source": [
    "#WHILE LOOPS: iterates until a certain condition is met\n",
    "\n",
    "i = 0\n",
    "while i < 10:\n",
    "    print(i, end=' ')\n",
    "    i += 1\n",
    "#Output is 0 1 2 3 4 5 6 7 8 9 "
   ]
  },
  {
   "cell_type": "code",
   "execution_count": 171,
   "id": "8320b7a7",
   "metadata": {},
   "outputs": [
    {
     "name": "stdout",
     "output_type": "stream",
     "text": [
      "1 3 5 7 9 11 13 15 17 19 "
     ]
    }
   ],
   "source": [
    "#Using break and continue:\n",
    "\n",
    "for n in range(20):\n",
    "    # if the remainder of n / 2 is 0, skip the rest of the loop\n",
    "    if n % 2 == 0:\n",
    "        continue\n",
    "    print(n, end=' ')\n",
    "\n",
    "#output is 1 3 5 7 9 11 13 15 17 19. If the number is divisible by 2, then it is not included. We continue to the next value. "
   ]
  },
  {
   "cell_type": "code",
   "execution_count": 173,
   "id": "d0701afd",
   "metadata": {},
   "outputs": [
    {
     "name": "stdout",
     "output_type": "stream",
     "text": [
      "[1, 1, 2, 3, 5, 8, 13, 21, 34, 55, 89]\n"
     ]
    }
   ],
   "source": [
    "a, b = 0, 1\n",
    "amax = 100\n",
    "L = []\n",
    "\n",
    "while True:\n",
    "    (a, b) = (b, a + b)\n",
    "    if a > amax:\n",
    "        break\n",
    "    L.append(a)\n",
    "\n",
    "print(L) #This does the Fibonacci sequence until the next value is >100. If a>100, the sequence breaks.  "
   ]
  },
  {
   "cell_type": "code",
   "execution_count": 174,
   "id": "67c96d73",
   "metadata": {},
   "outputs": [
    {
     "name": "stdout",
     "output_type": "stream",
     "text": [
      "[2, 3, 5, 7, 11, 13, 17, 19, 23, 29]\n"
     ]
    }
   ],
   "source": [
    "L = []\n",
    "nmax = 30\n",
    "\n",
    "for n in range(2, nmax): #start at 2, go until 30. \n",
    "    for factor in L:\n",
    "        if n % factor == 0:\n",
    "            break\n",
    "    else: # no break\n",
    "        L.append(n)\n",
    "print(L) \n",
    "\n",
    "#output is [2, 3, 5, 7, 11, 13, 17, 19, 23, 29]\n"
   ]
  },
  {
   "cell_type": "code",
   "execution_count": 176,
   "id": "32e95ebd",
   "metadata": {},
   "outputs": [
    {
     "name": "stdout",
     "output_type": "stream",
     "text": [
      "abc\n"
     ]
    },
    {
     "data": {
      "text/plain": [
       "builtin_function_or_method"
      ]
     },
     "execution_count": 176,
     "metadata": {},
     "output_type": "execute_result"
    }
   ],
   "source": [
    "###Functions\n",
    "\n",
    "#print is a function\n",
    "print('abc')\n",
    "type(print) #builtin_function_or_method"
   ]
  },
  {
   "cell_type": "code",
   "execution_count": 177,
   "id": "c5d47dc5",
   "metadata": {},
   "outputs": [
    {
     "name": "stdout",
     "output_type": "stream",
     "text": [
      "1 2 3\n"
     ]
    }
   ],
   "source": [
    "print(1, 2, 3)"
   ]
  },
  {
   "cell_type": "code",
   "execution_count": 178,
   "id": "2bf0edd1",
   "metadata": {},
   "outputs": [
    {
     "name": "stdout",
     "output_type": "stream",
     "text": [
      "1--2--3\n"
     ]
    }
   ],
   "source": [
    "print(1, 2, 3, sep='--')"
   ]
  },
  {
   "cell_type": "code",
   "execution_count": 179,
   "id": "648024b1",
   "metadata": {},
   "outputs": [],
   "source": [
    "def fibonacci(N):\n",
    "    L = []\n",
    "    a, b = 0, 1\n",
    "    while len(L) < N:\n",
    "        a, b = b, a + b\n",
    "        L.append(a)\n",
    "    return L"
   ]
  },
  {
   "cell_type": "code",
   "execution_count": 180,
   "id": "1b8fd0b6",
   "metadata": {},
   "outputs": [
    {
     "data": {
      "text/plain": [
       "[1, 1, 2, 3, 5, 8, 13, 21, 34, 55]"
      ]
     },
     "execution_count": 180,
     "metadata": {},
     "output_type": "execute_result"
    }
   ],
   "source": [
    "fibonacci(10) #output is [1, 1, 2, 3, 5, 8, 13, 21, 34, 55]. First 10 of Fibonacci"
   ]
  },
  {
   "cell_type": "code",
   "execution_count": 181,
   "id": "ef0e3b39",
   "metadata": {},
   "outputs": [
    {
     "name": "stdout",
     "output_type": "stream",
     "text": [
      "3.0 4.0 (3-4j)\n"
     ]
    }
   ],
   "source": [
    "def real_imag_conj(val):\n",
    "    return val.real, val.imag, val.conjugate()\n",
    "\n",
    "r, i, c = real_imag_conj(3 + 4j)\n",
    "print(r, i, c) #output is 3.0 4.0 (3-4j)"
   ]
  },
  {
   "cell_type": "code",
   "execution_count": 182,
   "id": "310edf30",
   "metadata": {},
   "outputs": [],
   "source": [
    "#define the starting values in the function inputs, rather than setting them aside within the function. \n",
    "#this idea is using \"default values\" as arguments\n",
    "\n",
    "def fibonacci(N, a=0, b=1):\n",
    "    L = []\n",
    "    while len(L) < N:\n",
    "        a, b = b, a + b\n",
    "        L.append(a)\n",
    "    return L"
   ]
  },
  {
   "cell_type": "code",
   "execution_count": 183,
   "id": "1e384ccb",
   "metadata": {},
   "outputs": [
    {
     "data": {
      "text/plain": [
       "[1, 1, 2, 3, 5, 8, 13, 21, 34, 55]"
      ]
     },
     "execution_count": 183,
     "metadata": {},
     "output_type": "execute_result"
    }
   ],
   "source": [
    "fibonacci(10)"
   ]
  },
  {
   "cell_type": "code",
   "execution_count": 184,
   "id": "9bb677cf",
   "metadata": {},
   "outputs": [
    {
     "data": {
      "text/plain": [
       "[2, 2, 4, 6, 10, 16, 26, 42, 68, 110]"
      ]
     },
     "execution_count": 184,
     "metadata": {},
     "output_type": "execute_result"
    }
   ],
   "source": [
    "fibonacci(10, 0, 2)"
   ]
  },
  {
   "cell_type": "code",
   "execution_count": 185,
   "id": "9cd7a264",
   "metadata": {},
   "outputs": [
    {
     "data": {
      "text/plain": [
       "[3, 4, 7, 11, 18, 29, 47, 76, 123, 199]"
      ]
     },
     "execution_count": 185,
     "metadata": {},
     "output_type": "execute_result"
    }
   ],
   "source": [
    "fibonacci(10, b=3, a=1) #note that the order does not matter. Sequence itself starts at 1, but the output is,3,4,7 etc. \n",
    "#Final Output is: [3, 4, 7, 11, 18, 29, 47, 76, 123, 199]"
   ]
  },
  {
   "cell_type": "code",
   "execution_count": 187,
   "id": "dbc3a014",
   "metadata": {},
   "outputs": [],
   "source": [
    "#args is simply a variable name; the important part is the *. args is arguments; a typical choice. \n",
    "#* expands this as a sequence. \n",
    "#note the **; this passes a second set of arguments. kwargs is key arguments. \n",
    "#** expands the argument as a dictionary. \n",
    "\n",
    "def catch_all(*args, **kwargs): #if you want to pass multiple arguments in a function, without knowing the exact number. \n",
    "    print(\"args =\", args)  \n",
    "    print(\"kwargs = \", kwargs) "
   ]
  },
  {
   "cell_type": "code",
   "execution_count": 188,
   "id": "a9ea3d83",
   "metadata": {},
   "outputs": [
    {
     "name": "stdout",
     "output_type": "stream",
     "text": [
      "args = (1, 2, 3)\n",
      "kwargs =  {'a': 4, 'b': 5}\n"
     ]
    }
   ],
   "source": [
    "catch_all(1, 2, 3, a=4, b=5)\n",
    "#args = (1, 2, 3)\n",
    "#kwargs =  {'a': 4, 'b': 5}"
   ]
  },
  {
   "cell_type": "code",
   "execution_count": 189,
   "id": "ebd3ce1e",
   "metadata": {},
   "outputs": [
    {
     "name": "stdout",
     "output_type": "stream",
     "text": [
      "args = (1, 2, 3)\n",
      "kwargs =  {'pi': 3.14}\n"
     ]
    }
   ],
   "source": [
    "inputs = (1, 2, 3)\n",
    "keywords = {'pi': 3.14}\n",
    "catch_all(*inputs, **keywords)"
   ]
  },
  {
   "cell_type": "code",
   "execution_count": 192,
   "id": "cd5552b9",
   "metadata": {},
   "outputs": [
    {
     "name": "stdout",
     "output_type": "stream",
     "text": [
      "args = (1, 2, 3)\n",
      "kwargs =  {'a': 4, 'b': 5}\n"
     ]
    }
   ],
   "source": [
    "catch_all(1, 2, 3,a=4,b=5)"
   ]
  },
  {
   "cell_type": "code",
   "execution_count": 193,
   "id": "b3d07e80",
   "metadata": {},
   "outputs": [
    {
     "data": {
      "text/plain": [
       "3"
      ]
     },
     "execution_count": 193,
     "metadata": {},
     "output_type": "execute_result"
    }
   ],
   "source": [
    "#Lambda functions: a one off defining function\n",
    "\n",
    "add = lambda x, y: x + y\n",
    "add(1, 2)"
   ]
  },
  {
   "cell_type": "code",
   "execution_count": 194,
   "id": "80cb11ff",
   "metadata": {},
   "outputs": [
    {
     "data": {
      "text/plain": [
       "5"
      ]
     },
     "execution_count": 194,
     "metadata": {},
     "output_type": "execute_result"
    }
   ],
   "source": [
    "add(2,3)"
   ]
  },
  {
   "cell_type": "code",
   "execution_count": 195,
   "id": "038dc708",
   "metadata": {},
   "outputs": [],
   "source": [
    "#equivalently, the lambda function can be written as: \n",
    "\n",
    "\n",
    "def add(x,y): \n",
    "    return x + y"
   ]
  },
  {
   "cell_type": "code",
   "execution_count": 196,
   "id": "0b08d0d3",
   "metadata": {},
   "outputs": [],
   "source": [
    "#Why is the Lambda function useful? \n",
    "#Everything is an object in Python. Lists are mutable and can be sorted. \n",
    "#sorted([2,4,3,5,1,6]) #output is [1, 2, 3, 4, 5, 6]\n",
    "\n",
    "#dictionaries \n",
    "data = [{'first':'Guido', 'last':'Van Rossum', 'YOB':1956},\n",
    "        {'first':'Grace', 'last':'Hopper',     'YOB':1906},\n",
    "        {'first':'Alan',  'last':'Turing',     'YOB':1912}]"
   ]
  },
  {
   "cell_type": "code",
   "execution_count": 197,
   "id": "9ee544bf",
   "metadata": {},
   "outputs": [
    {
     "data": {
      "text/plain": [
       "[{'first': 'Alan', 'last': 'Turing', 'YOB': 1912},\n",
       " {'first': 'Grace', 'last': 'Hopper', 'YOB': 1906},\n",
       " {'first': 'Guido', 'last': 'Van Rossum', 'YOB': 1956}]"
      ]
     },
     "execution_count": 197,
     "metadata": {},
     "output_type": "execute_result"
    }
   ],
   "source": [
    "# sort alphabetically by first name\n",
    "sorted(data, key=lambda item: item['first'])"
   ]
  },
  {
   "cell_type": "code",
   "execution_count": 198,
   "id": "6b65e202",
   "metadata": {},
   "outputs": [
    {
     "data": {
      "text/plain": [
       "[{'first': 'Grace', 'last': 'Hopper', 'YOB': 1906},\n",
       " {'first': 'Alan', 'last': 'Turing', 'YOB': 1912},\n",
       " {'first': 'Guido', 'last': 'Van Rossum', 'YOB': 1956}]"
      ]
     },
     "execution_count": 198,
     "metadata": {},
     "output_type": "execute_result"
    }
   ],
   "source": [
    "# sort by their Year of Birth\n",
    "sorted(data, key=lambda item: item['YOB'])"
   ]
  },
  {
   "cell_type": "code",
   "execution_count": 199,
   "id": "a4d0e924",
   "metadata": {},
   "outputs": [
    {
     "ename": "NameError",
     "evalue": "name 'Q' is not defined",
     "output_type": "error",
     "traceback": [
      "\u001b[0;31m---------------------------------------------------------------------------\u001b[0m",
      "\u001b[0;31mNameError\u001b[0m                                 Traceback (most recent call last)",
      "Cell \u001b[0;32mIn[199], line 5\u001b[0m\n\u001b[1;32m      1\u001b[0m \u001b[38;5;66;03m###Errors and Exceptions: Three types: Syntax, Runtime, Semantics\u001b[39;00m\n\u001b[1;32m      2\u001b[0m \n\u001b[1;32m      3\u001b[0m \u001b[38;5;66;03m#The focus of this chapter is on Runtime errors: \u001b[39;00m\n\u001b[0;32m----> 5\u001b[0m \u001b[38;5;28mprint\u001b[39m(\u001b[43mQ\u001b[49m) \u001b[38;5;66;03m#gives an error. Specifically a NameError\u001b[39;00m\n",
      "\u001b[0;31mNameError\u001b[0m: name 'Q' is not defined"
     ]
    }
   ],
   "source": [
    "###Errors and Exceptions: Three types: Syntax, Runtime, Semantics\n",
    "\n",
    "#The focus of this chapter is on Runtime errors: \n",
    "\n",
    "print(Q) #gives an error. Specifically a NameError because Q is not defined. \n"
   ]
  },
  {
   "cell_type": "code",
   "execution_count": 200,
   "id": "054d2eef",
   "metadata": {},
   "outputs": [
    {
     "ename": "TypeError",
     "evalue": "unsupported operand type(s) for +: 'int' and 'str'",
     "output_type": "error",
     "traceback": [
      "\u001b[0;31m---------------------------------------------------------------------------\u001b[0m",
      "\u001b[0;31mTypeError\u001b[0m                                 Traceback (most recent call last)",
      "Cell \u001b[0;32mIn[200], line 1\u001b[0m\n\u001b[0;32m----> 1\u001b[0m \u001b[38;5;241;43m1\u001b[39;49m\u001b[43m \u001b[49m\u001b[38;5;241;43m+\u001b[39;49m\u001b[43m \u001b[49m\u001b[38;5;124;43m'\u001b[39;49m\u001b[38;5;124;43mabc\u001b[39;49m\u001b[38;5;124;43m'\u001b[39;49m \u001b[38;5;66;03m#TypeError. Can't add a string with an int. \u001b[39;00m\n",
      "\u001b[0;31mTypeError\u001b[0m: unsupported operand type(s) for +: 'int' and 'str'"
     ]
    }
   ],
   "source": [
    "1 + 'abc' #TypeError. Can't add a string with an int. "
   ]
  },
  {
   "cell_type": "code",
   "execution_count": 201,
   "id": "79ee3d6c",
   "metadata": {},
   "outputs": [
    {
     "ename": "ZeroDivisionError",
     "evalue": "division by zero",
     "output_type": "error",
     "traceback": [
      "\u001b[0;31m---------------------------------------------------------------------------\u001b[0m",
      "\u001b[0;31mZeroDivisionError\u001b[0m                         Traceback (most recent call last)",
      "Cell \u001b[0;32mIn[201], line 1\u001b[0m\n\u001b[0;32m----> 1\u001b[0m \u001b[38;5;241;43m2\u001b[39;49m\u001b[43m \u001b[49m\u001b[38;5;241;43m/\u001b[39;49m\u001b[43m \u001b[49m\u001b[38;5;241;43m0\u001b[39;49m \u001b[38;5;66;03m#ZeroDivisionError. Exactly as it sounds: you cannot divide by 0. \u001b[39;00m\n",
      "\u001b[0;31mZeroDivisionError\u001b[0m: division by zero"
     ]
    }
   ],
   "source": [
    "2 / 0 #ZeroDivisionError. Exactly as it sounds: you cannot divide by 0. "
   ]
  },
  {
   "cell_type": "code",
   "execution_count": 202,
   "id": "375f650e",
   "metadata": {},
   "outputs": [
    {
     "ename": "IndexError",
     "evalue": "list index out of range",
     "output_type": "error",
     "traceback": [
      "\u001b[0;31m---------------------------------------------------------------------------\u001b[0m",
      "\u001b[0;31mIndexError\u001b[0m                                Traceback (most recent call last)",
      "Cell \u001b[0;32mIn[202], line 2\u001b[0m\n\u001b[1;32m      1\u001b[0m L\u001b[38;5;241m=\u001b[39m[\u001b[38;5;241m1\u001b[39m,\u001b[38;5;241m2\u001b[39m,\u001b[38;5;241m3\u001b[39m]\n\u001b[0;32m----> 2\u001b[0m \u001b[43mL\u001b[49m\u001b[43m[\u001b[49m\u001b[38;5;241;43m1000\u001b[39;49m\u001b[43m]\u001b[49m \u001b[38;5;66;03m#Index Error. There is no indexed value in that list. \u001b[39;00m\n",
      "\u001b[0;31mIndexError\u001b[0m: list index out of range"
     ]
    }
   ],
   "source": [
    "L=[1,2,3]\n",
    "L[1000] #Index Error. There is no indexed value in that list. "
   ]
  },
  {
   "cell_type": "code",
   "execution_count": 203,
   "id": "2fa32258",
   "metadata": {},
   "outputs": [
    {
     "name": "stdout",
     "output_type": "stream",
     "text": [
      "this gets executed first\n"
     ]
    }
   ],
   "source": [
    "try:\n",
    "    print(\"this gets executed first\")\n",
    "except:\n",
    "    print(\"this gets executed only if there is an error\") #executes fine because there's no error to worry about. "
   ]
  },
  {
   "cell_type": "code",
   "execution_count": 204,
   "id": "0359434c",
   "metadata": {},
   "outputs": [
    {
     "name": "stdout",
     "output_type": "stream",
     "text": [
      "let's try something:\n",
      "something bad happened!\n"
     ]
    }
   ],
   "source": [
    "try:\n",
    "    print(\"let's try something:\")\n",
    "    x = 1 / 0 # ZeroDivisionError\n",
    "except:\n",
    "    print(\"something bad happened!\") #here the division error forces the second clause to activate. \n",
    "\n",
    "#output is: \n",
    "\n",
    "#let's try something:\n",
    "#something bad happened!"
   ]
  },
  {
   "cell_type": "code",
   "execution_count": 205,
   "id": "ce63c564",
   "metadata": {},
   "outputs": [],
   "source": [
    "def safe_divide(a, b):\n",
    "    try:\n",
    "        return a / b\n",
    "    except:\n",
    "        return 1E100"
   ]
  },
  {
   "cell_type": "code",
   "execution_count": 206,
   "id": "fb65c354",
   "metadata": {},
   "outputs": [
    {
     "data": {
      "text/plain": [
       "0.5"
      ]
     },
     "execution_count": 206,
     "metadata": {},
     "output_type": "execute_result"
    }
   ],
   "source": [
    "safe_divide(1,2)"
   ]
  },
  {
   "cell_type": "code",
   "execution_count": 207,
   "id": "7ae2953d",
   "metadata": {},
   "outputs": [
    {
     "data": {
      "text/plain": [
       "1e+100"
      ]
     },
     "execution_count": 207,
     "metadata": {},
     "output_type": "execute_result"
    }
   ],
   "source": [
    "safe_divide(2, 0)"
   ]
  },
  {
   "cell_type": "code",
   "execution_count": 208,
   "id": "efca6d4a",
   "metadata": {},
   "outputs": [
    {
     "data": {
      "text/plain": [
       "1e+100"
      ]
     },
     "execution_count": 208,
     "metadata": {},
     "output_type": "execute_result"
    }
   ],
   "source": [
    "safe_divide (1, '2') #yields the same error as dividing by 0. How can we specify this? "
   ]
  },
  {
   "cell_type": "code",
   "execution_count": 209,
   "id": "84ed1826",
   "metadata": {},
   "outputs": [],
   "source": [
    "def safe_divide(a, b):\n",
    "    try:\n",
    "        return a / b\n",
    "    except ZeroDivisionError:\n",
    "        return 1E100"
   ]
  },
  {
   "cell_type": "code",
   "execution_count": 210,
   "id": "27a3f664",
   "metadata": {},
   "outputs": [
    {
     "data": {
      "text/plain": [
       "1e+100"
      ]
     },
     "execution_count": 210,
     "metadata": {},
     "output_type": "execute_result"
    }
   ],
   "source": [
    "safe_divide(2, 0)"
   ]
  },
  {
   "cell_type": "code",
   "execution_count": 211,
   "id": "6a803c2a",
   "metadata": {},
   "outputs": [
    {
     "ename": "TypeError",
     "evalue": "unsupported operand type(s) for /: 'int' and 'str'",
     "output_type": "error",
     "traceback": [
      "\u001b[0;31m---------------------------------------------------------------------------\u001b[0m",
      "\u001b[0;31mTypeError\u001b[0m                                 Traceback (most recent call last)",
      "Cell \u001b[0;32mIn[211], line 1\u001b[0m\n\u001b[0;32m----> 1\u001b[0m \u001b[43msafe_divide\u001b[49m\u001b[43m \u001b[49m\u001b[43m(\u001b[49m\u001b[38;5;241;43m1\u001b[39;49m\u001b[43m,\u001b[49m\u001b[43m \u001b[49m\u001b[38;5;124;43m'\u001b[39;49m\u001b[38;5;124;43m2\u001b[39;49m\u001b[38;5;124;43m'\u001b[39;49m\u001b[43m)\u001b[49m\n",
      "Cell \u001b[0;32mIn[209], line 3\u001b[0m, in \u001b[0;36msafe_divide\u001b[0;34m(a, b)\u001b[0m\n\u001b[1;32m      1\u001b[0m \u001b[38;5;28;01mdef\u001b[39;00m \u001b[38;5;21msafe_divide\u001b[39m(a, b):\n\u001b[1;32m      2\u001b[0m     \u001b[38;5;28;01mtry\u001b[39;00m:\n\u001b[0;32m----> 3\u001b[0m         \u001b[38;5;28;01mreturn\u001b[39;00m \u001b[43ma\u001b[49m\u001b[43m \u001b[49m\u001b[38;5;241;43m/\u001b[39;49m\u001b[43m \u001b[49m\u001b[43mb\u001b[49m\n\u001b[1;32m      4\u001b[0m     \u001b[38;5;28;01mexcept\u001b[39;00m \u001b[38;5;167;01mZeroDivisionError\u001b[39;00m:\n\u001b[1;32m      5\u001b[0m         \u001b[38;5;28;01mreturn\u001b[39;00m \u001b[38;5;241m1E100\u001b[39m\n",
      "\u001b[0;31mTypeError\u001b[0m: unsupported operand type(s) for /: 'int' and 'str'"
     ]
    }
   ],
   "source": [
    "safe_divide (1, '2') #now specifies that this will be a TypeError"
   ]
  },
  {
   "cell_type": "code",
   "execution_count": 212,
   "id": "9587de25",
   "metadata": {},
   "outputs": [
    {
     "ename": "RuntimeError",
     "evalue": "my error message",
     "output_type": "error",
     "traceback": [
      "\u001b[0;31m---------------------------------------------------------------------------\u001b[0m",
      "\u001b[0;31mRuntimeError\u001b[0m                              Traceback (most recent call last)",
      "Cell \u001b[0;32mIn[212], line 1\u001b[0m\n\u001b[0;32m----> 1\u001b[0m \u001b[38;5;28;01mraise\u001b[39;00m \u001b[38;5;167;01mRuntimeError\u001b[39;00m(\u001b[38;5;124m\"\u001b[39m\u001b[38;5;124mmy error message\u001b[39m\u001b[38;5;124m\"\u001b[39m)\n",
      "\u001b[0;31mRuntimeError\u001b[0m: my error message"
     ]
    }
   ],
   "source": [
    "raise RuntimeError(\"my error message\")"
   ]
  },
  {
   "cell_type": "code",
   "execution_count": 213,
   "id": "6d3a11e6",
   "metadata": {},
   "outputs": [
    {
     "ename": "RuntimeError",
     "evalue": "",
     "output_type": "error",
     "traceback": [
      "\u001b[0;31m---------------------------------------------------------------------------\u001b[0m",
      "\u001b[0;31mRuntimeError\u001b[0m                              Traceback (most recent call last)",
      "Cell \u001b[0;32mIn[213], line 1\u001b[0m\n\u001b[0;32m----> 1\u001b[0m \u001b[38;5;28;01mraise\u001b[39;00m \u001b[38;5;167;01mRuntimeError\u001b[39;00m\n",
      "\u001b[0;31mRuntimeError\u001b[0m: "
     ]
    }
   ],
   "source": [
    "raise RuntimeError #no output/message. "
   ]
  },
  {
   "cell_type": "code",
   "execution_count": 214,
   "id": "7af06b0a",
   "metadata": {},
   "outputs": [],
   "source": [
    "#can be useful to explain why an error was encountered. It \"raises\" a fair point.\n",
    "\n",
    "def fibonacci(N):\n",
    "    L = []\n",
    "    a, b = 0, 1\n",
    "    while len(L) < N:\n",
    "        a, b = b, a + b\n",
    "        L.append(a)\n",
    "    return L"
   ]
  },
  {
   "cell_type": "code",
   "execution_count": 215,
   "id": "2b77a5a9",
   "metadata": {},
   "outputs": [
    {
     "data": {
      "text/plain": [
       "[1, 1, 2, 3, 5, 8, 13, 21, 34, 55]"
      ]
     },
     "execution_count": 215,
     "metadata": {},
     "output_type": "execute_result"
    }
   ],
   "source": [
    "fibonacci(10)"
   ]
  },
  {
   "cell_type": "code",
   "execution_count": 216,
   "id": "fc92e2fe",
   "metadata": {},
   "outputs": [
    {
     "data": {
      "text/plain": [
       "[]"
      ]
     },
     "execution_count": 216,
     "metadata": {},
     "output_type": "execute_result"
    }
   ],
   "source": [
    "fibonacci(-10) #output is an empty list, but we don't exactly know why. "
   ]
  },
  {
   "cell_type": "code",
   "execution_count": 217,
   "id": "6b2894ee",
   "metadata": {},
   "outputs": [
    {
     "name": "stdout",
     "output_type": "stream",
     "text": [
      "trying this...\n",
      "[]\n"
     ]
    }
   ],
   "source": [
    "N = -10 #can't be debugged in its current state\n",
    "try:\n",
    "    print(\"trying this...\")\n",
    "    print(fibonacci(N))\n",
    "except ValueError:\n",
    "    print(\"Bad value: need to do something else\")"
   ]
  },
  {
   "cell_type": "code",
   "execution_count": 218,
   "id": "a99688d5",
   "metadata": {},
   "outputs": [],
   "source": [
    "#Now let's try adding a RuntimeError message\n",
    "\n",
    "def fibonacci(N):\n",
    "    if N <0:\n",
    "        raise ValueError(\"N must be non-negative\")\n",
    "    L = []\n",
    "    a, b = 0, 1\n",
    "    while len(L) < N:\n",
    "        a, b = b, a + b\n",
    "        L.append(a)\n",
    "    return L"
   ]
  },
  {
   "cell_type": "code",
   "execution_count": 219,
   "id": "cefec1e5",
   "metadata": {},
   "outputs": [
    {
     "data": {
      "text/plain": [
       "[1, 1, 2, 3, 5, 8, 13, 21, 34, 55]"
      ]
     },
     "execution_count": 219,
     "metadata": {},
     "output_type": "execute_result"
    }
   ],
   "source": [
    "fibonacci(10)"
   ]
  },
  {
   "cell_type": "code",
   "execution_count": 220,
   "id": "b67f25ad",
   "metadata": {},
   "outputs": [
    {
     "ename": "ValueError",
     "evalue": "N must be non-negative",
     "output_type": "error",
     "traceback": [
      "\u001b[0;31m---------------------------------------------------------------------------\u001b[0m",
      "\u001b[0;31mValueError\u001b[0m                                Traceback (most recent call last)",
      "Cell \u001b[0;32mIn[220], line 1\u001b[0m\n\u001b[0;32m----> 1\u001b[0m \u001b[43mfibonacci\u001b[49m\u001b[43m(\u001b[49m\u001b[38;5;241;43m-\u001b[39;49m\u001b[38;5;241;43m10\u001b[39;49m\u001b[43m)\u001b[49m\n",
      "Cell \u001b[0;32mIn[218], line 5\u001b[0m, in \u001b[0;36mfibonacci\u001b[0;34m(N)\u001b[0m\n\u001b[1;32m      3\u001b[0m \u001b[38;5;28;01mdef\u001b[39;00m \u001b[38;5;21mfibonacci\u001b[39m(N):\n\u001b[1;32m      4\u001b[0m     \u001b[38;5;28;01mif\u001b[39;00m N \u001b[38;5;241m<\u001b[39m\u001b[38;5;241m0\u001b[39m:\n\u001b[0;32m----> 5\u001b[0m         \u001b[38;5;28;01mraise\u001b[39;00m \u001b[38;5;167;01mValueError\u001b[39;00m(\u001b[38;5;124m\"\u001b[39m\u001b[38;5;124mN must be non-negative\u001b[39m\u001b[38;5;124m\"\u001b[39m)\n\u001b[1;32m      6\u001b[0m     L \u001b[38;5;241m=\u001b[39m []\n\u001b[1;32m      7\u001b[0m     a, b \u001b[38;5;241m=\u001b[39m \u001b[38;5;241m0\u001b[39m, \u001b[38;5;241m1\u001b[39m\n",
      "\u001b[0;31mValueError\u001b[0m: N must be non-negative"
     ]
    }
   ],
   "source": [
    "fibonacci(-10) #and voila; the error message explains what's wrong with the function. "
   ]
  },
  {
   "cell_type": "code",
   "execution_count": 221,
   "id": "336fc7d8",
   "metadata": {},
   "outputs": [
    {
     "name": "stdout",
     "output_type": "stream",
     "text": [
      "trying this...\n",
      "Bad value: need to do something else\n"
     ]
    }
   ],
   "source": [
    "N = -10\n",
    "try:\n",
    "    print(\"trying this...\")\n",
    "    print(fibonacci(N))\n",
    "except ValueError:\n",
    "    print(\"Bad value: need to do something else\")"
   ]
  },
  {
   "cell_type": "code",
   "execution_count": 222,
   "id": "5a6d1a35",
   "metadata": {},
   "outputs": [
    {
     "name": "stdout",
     "output_type": "stream",
     "text": [
      "Error class is:   <class 'ZeroDivisionError'>\n",
      "Error message is: division by zero\n"
     ]
    }
   ],
   "source": [
    "#You can access the error message with an \"as\"\n",
    "try:\n",
    "    x = 1 / 0\n",
    "except ZeroDivisionError as err:\n",
    "    print(\"Error class is:  \", type(err))\n",
    "    print(\"Error message is:\", err)"
   ]
  },
  {
   "cell_type": "code",
   "execution_count": 223,
   "id": "b850b7f9",
   "metadata": {},
   "outputs": [
    {
     "ename": "MySpecialError",
     "evalue": "here's the message",
     "output_type": "error",
     "traceback": [
      "\u001b[0;31m---------------------------------------------------------------------------\u001b[0m",
      "\u001b[0;31mMySpecialError\u001b[0m                            Traceback (most recent call last)",
      "Cell \u001b[0;32mIn[223], line 4\u001b[0m\n\u001b[1;32m      1\u001b[0m \u001b[38;5;28;01mclass\u001b[39;00m \u001b[38;5;21;01mMySpecialError\u001b[39;00m(\u001b[38;5;167;01mValueError\u001b[39;00m):\n\u001b[1;32m      2\u001b[0m     \u001b[38;5;28;01mpass\u001b[39;00m\n\u001b[0;32m----> 4\u001b[0m \u001b[38;5;28;01mraise\u001b[39;00m MySpecialError(\u001b[38;5;124m\"\u001b[39m\u001b[38;5;124mhere\u001b[39m\u001b[38;5;124m'\u001b[39m\u001b[38;5;124ms the message\u001b[39m\u001b[38;5;124m\"\u001b[39m)\n",
      "\u001b[0;31mMySpecialError\u001b[0m: here's the message"
     ]
    }
   ],
   "source": [
    "class MySpecialError(ValueError):\n",
    "    pass\n",
    "\n",
    "raise MySpecialError(\"here's the message\") #catches the error due to class inheritance. "
   ]
  },
  {
   "cell_type": "code",
   "execution_count": 224,
   "id": "d0987ca8",
   "metadata": {},
   "outputs": [
    {
     "name": "stdout",
     "output_type": "stream",
     "text": [
      "do something\n",
      "do something else\n"
     ]
    }
   ],
   "source": [
    "try:\n",
    "    print(\"do something\")\n",
    "    raise MySpecialError(\"[informative error message here]\")\n",
    "except MySpecialError:\n",
    "    print(\"do something else\")"
   ]
  },
  {
   "cell_type": "code",
   "execution_count": 225,
   "id": "4e822211",
   "metadata": {},
   "outputs": [
    {
     "name": "stdout",
     "output_type": "stream",
     "text": [
      "try something here\n",
      "this happens only if it succeeds\n",
      "this happens no matter what\n"
     ]
    }
   ],
   "source": [
    "try:\n",
    "    print(\"try something here\")\n",
    "except:\n",
    "    print(\"this happens only if it fails\")\n",
    "else:\n",
    "    print(\"this happens only if it succeeds\")\n",
    "finally:\n",
    "    print(\"this happens no matter what\")"
   ]
  },
  {
   "cell_type": "code",
   "execution_count": null,
   "id": "7fabf560",
   "metadata": {},
   "outputs": [],
   "source": []
  }
 ],
 "metadata": {
  "kernelspec": {
   "display_name": "Python 3 (ipykernel)",
   "language": "python",
   "name": "python3"
  },
  "language_info": {
   "codemirror_mode": {
    "name": "ipython",
    "version": 3
   },
   "file_extension": ".py",
   "mimetype": "text/x-python",
   "name": "python",
   "nbconvert_exporter": "python",
   "pygments_lexer": "ipython3",
   "version": "3.10.8"
  }
 },
 "nbformat": 4,
 "nbformat_minor": 5
}
